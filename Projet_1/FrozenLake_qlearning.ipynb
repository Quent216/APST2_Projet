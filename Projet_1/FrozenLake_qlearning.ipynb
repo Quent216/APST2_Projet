{
 "cells": [
  {
   "cell_type": "code",
   "execution_count": 1,
   "id": "9cd3bc19",
   "metadata": {},
   "outputs": [],
   "source": [
    "import gymnasium as gym\n",
    "import numpy as np\n",
    "import matplotlib.pyplot as plt"
   ]
  },
  {
   "cell_type": "code",
   "execution_count": 2,
   "id": "1a3a6230",
   "metadata": {},
   "outputs": [
    {
     "name": "stdout",
     "output_type": "stream",
     "text": [
      "Number of possible actions: Discrete(4) that correspond to left, down, right, up\n",
      "Number of states: Discrete(16) that correspond to a 4x4 grid of positions\n"
     ]
    }
   ],
   "source": [
    "env = gym.make(\"FrozenLake-v1\", render_mode = \"human\")\n",
    "print(f'Number of possible actions: {env.action_space} that correspond to left, down, right, up')\n",
    "print(f'Number of states: {env.observation_space} that correspond to a 4x4 grid of positions')"
   ]
  },
  {
   "cell_type": "markdown",
   "id": "0383400a-60df-4fe5-b18b-1c65960910f9",
   "metadata": {},
   "source": [
    "### 1. Action Space\n",
    "The agent takes a interger for action, where that integer decides direction to move in which can be:\n",
    "\n",
    "- 0: LEFT\n",
    "- 1: DOWN\n",
    "- 2: RIGHT\n",
    "- 3: UP"
   ]
  },
  {
   "cell_type": "markdown",
   "id": "bdd1d2f0",
   "metadata": {},
   "source": [
    "### 2. Observation Space\n",
    "The observation is a value representing the agent’s current position as current_row * nrows + current_col. For example, the goal position in the 4x4 map can be calculated as follows: 3 * 4 + 3 = 15."
   ]
  },
  {
   "cell_type": "markdown",
   "id": "9b6b9ad6-26e5-47f6-b593-1d6ebf0b5439",
   "metadata": {},
   "source": [
    "### 3. Starting State\n",
    "The episode starts with the player in state [0] at the location [0, 0] in the map"
   ]
  },
  {
   "cell_type": "markdown",
   "id": "835c216d-df17-4a8b-ab74-a6c574a175ba",
   "metadata": {},
   "source": [
    "### 4. Rewards\n",
    "\n",
    "- Reach goal: 1\n",
    "- Reach hole: 0\n",
    "- Reach frozen: 0"
   ]
  },
  {
   "cell_type": "markdown",
   "id": "db1bdc59-ada2-4d7e-9643-2ff40b4f6a5f",
   "metadata": {},
   "source": [
    "#### Here is a demo (performed ten times)"
   ]
  },
  {
   "cell_type": "code",
   "execution_count": 69,
   "id": "0a06c804-a260-4d79-baa9-acda0d23c9a8",
   "metadata": {},
   "outputs": [
    {
     "name": "stdout",
     "output_type": "stream",
     "text": [
      "Number of wins: 1 out of 10 trials\n"
     ]
    }
   ],
   "source": [
    "env = gym.make(\"FrozenLake-v1\", render_mode=\"human\")\n",
    "\n",
    "num_wins = 0\n",
    "num_trials = 10\n",
    "\n",
    "for i in range(num_trials):\n",
    "    observation = env.reset()\n",
    "    terminated = False\n",
    "    while not terminated:\n",
    "        action = env.action_space.sample()  # 选择随机动作\n",
    "        result = env.step(action)\n",
    "        observation, reward, terminated, info = result[0], result[1], result[2], result[3]\n",
    "        if terminated and observation == 15:  # 15 是宝藏的索引\n",
    "            num_wins += 1\n",
    "\n",
    "print(f\"Number of wins: {num_wins} out of {num_trials} trials\")\n",
    "\n",
    "env.close()"
   ]
  },
  {
   "cell_type": "markdown",
   "id": "013d5381",
   "metadata": {},
   "source": [
    "## Comparison of Q-Learning and Random Strategy"
   ]
  },
  {
   "cell_type": "code",
   "execution_count": 5,
   "id": "fea6275f-37ee-48d2-bc34-e99cb7d6ba80",
   "metadata": {},
   "outputs": [],
   "source": [
    "def random_policy(env):\n",
    "    num_wins = 0\n",
    "    for i in range(n_episode):\n",
    "        env.reset()\n",
    "        terminated = False\n",
    "\n",
    "        while not terminated:\n",
    "            state = env.s  # the state where the agent is\n",
    "            action = env.action_space.sample()  # choose a random action\n",
    "            new_state, reward, terminated, truncated, info = env.step(action)\n",
    "\n",
    "            if terminated and new_state == 15:\n",
    "                num_wins += 1\n",
    "\n",
    "    return num_wins / n_episode  # return the win rate\n"
   ]
  },
  {
   "cell_type": "markdown",
   "id": "5a72a56a-917d-44ba-9356-154cf7e43ef2",
   "metadata": {},
   "source": [
    "The Q-value between the current state $s$ and the current action $a$ is denoted as $Q(s, a)$.\n",
    "\n",
    "The Q-value corresponding to the best action $a'$ in the next state $s'$ given the current state $s$ is denoted as $\\max_{a'} Q(s', a')$.\n",
    "\n",
    "$r$ represents the reward obtained after taking the action $a$.\n",
    "\n",
    "According to the formula of the Q-learning algorithm, we can define the new Q-value $Q'(s, a)$ as:\n",
    "\n",
    "$$ Q'(s,a) = (1 - \\alpha) \\cdot Q(s,a) + \\alpha \\cdot (r + \\gamma \\cdot \\max_{a'} Q(s',a')) $$\n",
    "\n",
    "Here, $\\alpha$ is the learning rate, which controls the weight between the new Q-value and the old Q-value. $\\gamma$ is the discount factor, which balances the importance of current and future rewards.\n"
   ]
  },
  {
   "cell_type": "code",
   "execution_count": 8,
   "id": "aee8799d-a2c4-474f-801e-03c833bc1d2f",
   "metadata": {},
   "outputs": [],
   "source": [
    "def q_learning(n_episode, alpha, gamma):\n",
    "    policy = np.zeros((16, 4))  # Initialize the policy matrix, 16 states, 4 actions each\n",
    "    num_wins = 0  # Record the number of wins\n",
    "    win_rates = []  # Store the win rate for each episode\n",
    "\n",
    "    for i in range(n_episode):\n",
    "        env = gym.make(\"FrozenLake-v1\")\n",
    "        env.reset()\n",
    "\n",
    "        n_move = 0\n",
    "        terminated = False\n",
    "\n",
    "        while not terminated:\n",
    "            if n_move > 10000:\n",
    "                raise Exception(\"Too many attempts, failures\")\n",
    "            n_move += 1\n",
    "            state = env.s\n",
    "\n",
    "            action = np.argmax(policy[state, :])\n",
    "\n",
    "            new_state, reward, terminated, truncated, info = env.step(action)\n",
    "\n",
    "            if terminated and new_state == 15:  # 15 is the index of the treasure\n",
    "                num_wins += 1\n",
    "\n",
    "            qmaxnew = np.max(policy[new_state, :])\n",
    "            policy[state, action] = (1 - alpha) * policy[state, action] + alpha * (reward + gamma * qmaxnew)\n",
    "\n",
    "        env.close()\n",
    "        win_rates.append(num_wins / (i+1))  # calculate the win rate for this episode\n",
    "    return win_rates\n"
   ]
  },
  {
   "cell_type": "markdown",
   "id": "74520a2c-fb4c-41df-88cb-1860cf9ad61b",
   "metadata": {},
   "source": [
    "#### Use epsilon-greedy strategy"
   ]
  },
  {
   "cell_type": "code",
   "execution_count": 9,
   "id": "6631eca9-08af-42bd-bd73-a6c320a0fbd8",
   "metadata": {},
   "outputs": [],
   "source": [
    "def q_learning_eg(n_episode, alpha, gamma, decay=None):\n",
    "    policy = np.zeros((16, 4))  # Initialize the policy matrix, 16 states, 4 actions each\n",
    "    num_wins = 0  # Record the number of wins\n",
    "    win_rates = []  # Store the win rate for each episode\n",
    "\n",
    "    for i in range(n_episode):\n",
    "        env = gym.make(\"FrozenLake-v1\")\n",
    "        env.reset()\n",
    "\n",
    "        n_move = 0\n",
    "        terminated = False\n",
    "\n",
    "        while not terminated:\n",
    "            if n_move > 10000:\n",
    "                raise Exception(\"Too many attempts, failures\")\n",
    "            n_move += 1\n",
    "            state = env.s\n",
    "\n",
    "            # choose a random action if using an eps-greedy policy\n",
    "            if decay is not None and np.random.rand() < np.exp(-decay * i):\n",
    "                action = np.random.randint(4)\n",
    "\n",
    "            # choose a random action if policy is not defined\n",
    "            elif not np.any(policy[state, :]):\n",
    "                action = np.random.randint(4)\n",
    "\n",
    "            # follow the policy\n",
    "            else:\n",
    "                action = np.argmax(policy[state, :])\n",
    "\n",
    "            new_state, reward, terminated, truncated, info = env.step(action)\n",
    "\n",
    "            if terminated and new_state == 15:  # 15 is the index of the treasure\n",
    "                num_wins += 1\n",
    "\n",
    "            qmaxnew = np.max(policy[new_state, :])\n",
    "            policy[state, action] = (1 - alpha) * policy[state, action] + alpha * (reward + gamma * qmaxnew)\n",
    "\n",
    "        env.close()\n",
    "        win_rates.append(num_wins / (i+1))  # calculate the win rate for this episode\n",
    "    return win_rates\n"
   ]
  },
  {
   "cell_type": "code",
   "execution_count": 17,
   "id": "73b51c9e-7969-44ae-aa33-6eb1d39af00e",
   "metadata": {},
   "outputs": [
    {
     "data": {
      "image/png": "[encoded data removed]",
      "text/plain": [
       "<Figure size 640x480 with 1 Axes>"
      ]
     },
     "metadata": {},
     "output_type": "display_data"
    }
   ],
   "source": [
    "n_episode = 1000\n",
    "alpha = 0.05\n",
    "gamma = 0.99\n",
    "decay = 0.001\n",
    "\n",
    "env = gym.make(\"FrozenLake-v1\")\n",
    "random_win_rate = random_policy(env) \n",
    "q_win_rates_1 = q_learning(n_episode, alpha, gamma)  \n",
    "q_win_rates_2 = q_learning_eg(n_episode, alpha, gamma, decay)  \n",
    "\n",
    "plt.plot(range(n_episode), [random_win_rate]*n_episode, label='Random Strategy')\n",
    "plt.plot(range(n_episode), q_win_rates_1, label='Q-learning Strategy')\n",
    "plt.plot(range(n_episode), q_win_rates_2, label='Q-learning_eg Strategy')\n",
    "plt.xlabel('Number of Episodes')\n",
    "plt.ylabel('Win Rate')\n",
    "plt.legend()\n",
    "plt.show()"
   ]
  }
 ],
 "metadata": {
  "kernelspec": {
   "display_name": "Python 3 (ipykernel)",
   "language": "python",
   "name": "python3"
  },
  "language_info": {
   "codemirror_mode": {
    "name": "ipython",
    "version": 3
   },
   "file_extension": ".py",
   "mimetype": "text/x-python",
   "name": "python",
   "nbconvert_exporter": "python",
   "pygments_lexer": "ipython3",
   "version": "3.9.13"
  }
 },
 "nbformat": 4,
 "nbformat_minor": 5
}
