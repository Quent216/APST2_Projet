{
 "cells": [
  {
   "cell_type": "markdown",
   "metadata": {},
   "source": [
    "# Boosting Trees"
   ]
  },
  {
   "cell_type": "code",
   "execution_count": 33,
   "metadata": {
    "scrolled": true
   },
   "outputs": [],
   "source": [
    "%matplotlib inline\n",
    "from pylab import *\n",
    "import pandas as pd\n",
    "from sklearn import preprocessing \n",
    "from sklearn.model_selection import train_test_split\n",
    "\n",
    "import warnings\n",
    "warnings.filterwarnings('ignore')"
   ]
  },
  {
   "cell_type": "markdown",
   "metadata": {},
   "source": [
    "## Gradient Boosting "
   ]
  },
  {
   "cell_type": "markdown",
   "metadata": {},
   "source": [
    "Commencons par ajuster un regresseur par gradient boosting sur des familles d'arbres."
   ]
  },
  {
   "cell_type": "code",
   "execution_count": 2,
   "metadata": {},
   "outputs": [],
   "source": [
    "from sklearn.tree import DecisionTreeRegressor"
   ]
  },
  {
   "cell_type": "markdown",
   "metadata": {},
   "source": [
    "####  Préparation des données housing"
   ]
  },
  {
   "cell_type": "code",
   "execution_count": 3,
   "metadata": {
    "scrolled": true
   },
   "outputs": [],
   "source": [
    "from sklearn.datasets import fetch_california_housing\n",
    "california_housing = fetch_california_housing(as_frame=True)"
   ]
  },
  {
   "cell_type": "code",
   "execution_count": 4,
   "metadata": {},
   "outputs": [
    {
     "name": "stdout",
     "output_type": "stream",
     "text": [
      ".. _california_housing_dataset:\n",
      "\n",
      "California Housing dataset\n",
      "--------------------------\n",
      "\n",
      "**Data Set Characteristics:**\n",
      "\n",
      "    :Number of Instances: 20640\n",
      "\n",
      "    :Number of Attributes: 8 numeric, predictive attributes and the target\n",
      "\n",
      "    :Attribute Information:\n",
      "        - MedInc        median income in block group\n",
      "        - HouseAge      median house age in block group\n",
      "        - AveRooms      average number of rooms per household\n",
      "        - AveBedrms     average number of bedrooms per household\n",
      "        - Population    block group population\n",
      "        - AveOccup      average number of household members\n",
      "        - Latitude      block group latitude\n",
      "        - Longitude     block group longitude\n",
      "\n",
      "    :Missing Attribute Values: None\n",
      "\n",
      "This dataset was obtained from the StatLib repository.\n",
      "https://www.dcc.fc.up.pt/~ltorgo/Regression/cal_housing.html\n",
      "\n",
      "The target variable is the median house value for California districts,\n",
      "expressed in hundreds of thousands of dollars ($100,000).\n",
      "\n",
      "This dataset was derived from the 1990 U.S. census, using one row per census\n",
      "block group. A block group is the smallest geographical unit for which the U.S.\n",
      "Census Bureau publishes sample data (a block group typically has a population\n",
      "of 600 to 3,000 people).\n",
      "\n",
      "An household is a group of people residing within a home. Since the average\n",
      "number of rooms and bedrooms in this dataset are provided per household, these\n",
      "columns may take surpinsingly large values for block groups with few households\n",
      "and many empty houses, such as vacation resorts.\n",
      "\n",
      "It can be downloaded/loaded using the\n",
      ":func:`sklearn.datasets.fetch_california_housing` function.\n",
      "\n",
      ".. topic:: References\n",
      "\n",
      "    - Pace, R. Kelley and Ronald Barry, Sparse Spatial Autoregressions,\n",
      "      Statistics and Probability Letters, 33 (1997) 291-297\n",
      "\n"
     ]
    }
   ],
   "source": [
    "print(california_housing.DESCR)"
   ]
  },
  {
   "cell_type": "code",
   "execution_count": 5,
   "metadata": {},
   "outputs": [
    {
     "data": {
      "text/html": [
       "<div>\n",
       "<style scoped>\n",
       "    .dataframe tbody tr th:only-of-type {\n",
       "        vertical-align: middle;\n",
       "    }\n",
       "\n",
       "    .dataframe tbody tr th {\n",
       "        vertical-align: top;\n",
       "    }\n",
       "\n",
       "    .dataframe thead th {\n",
       "        text-align: right;\n",
       "    }\n",
       "</style>\n",
       "<table border=\"1\" class=\"dataframe\">\n",
       "  <thead>\n",
       "    <tr style=\"text-align: right;\">\n",
       "      <th></th>\n",
       "      <th>MedInc</th>\n",
       "      <th>HouseAge</th>\n",
       "      <th>AveRooms</th>\n",
       "      <th>AveBedrms</th>\n",
       "      <th>Population</th>\n",
       "      <th>AveOccup</th>\n",
       "      <th>Latitude</th>\n",
       "      <th>Longitude</th>\n",
       "    </tr>\n",
       "  </thead>\n",
       "  <tbody>\n",
       "    <tr>\n",
       "      <th>0</th>\n",
       "      <td>8.3252</td>\n",
       "      <td>41.0</td>\n",
       "      <td>6.984127</td>\n",
       "      <td>1.023810</td>\n",
       "      <td>322.0</td>\n",
       "      <td>2.555556</td>\n",
       "      <td>37.88</td>\n",
       "      <td>-122.23</td>\n",
       "    </tr>\n",
       "    <tr>\n",
       "      <th>1</th>\n",
       "      <td>8.3014</td>\n",
       "      <td>21.0</td>\n",
       "      <td>6.238137</td>\n",
       "      <td>0.971880</td>\n",
       "      <td>2401.0</td>\n",
       "      <td>2.109842</td>\n",
       "      <td>37.86</td>\n",
       "      <td>-122.22</td>\n",
       "    </tr>\n",
       "    <tr>\n",
       "      <th>2</th>\n",
       "      <td>7.2574</td>\n",
       "      <td>52.0</td>\n",
       "      <td>8.288136</td>\n",
       "      <td>1.073446</td>\n",
       "      <td>496.0</td>\n",
       "      <td>2.802260</td>\n",
       "      <td>37.85</td>\n",
       "      <td>-122.24</td>\n",
       "    </tr>\n",
       "    <tr>\n",
       "      <th>3</th>\n",
       "      <td>5.6431</td>\n",
       "      <td>52.0</td>\n",
       "      <td>5.817352</td>\n",
       "      <td>1.073059</td>\n",
       "      <td>558.0</td>\n",
       "      <td>2.547945</td>\n",
       "      <td>37.85</td>\n",
       "      <td>-122.25</td>\n",
       "    </tr>\n",
       "    <tr>\n",
       "      <th>4</th>\n",
       "      <td>3.8462</td>\n",
       "      <td>52.0</td>\n",
       "      <td>6.281853</td>\n",
       "      <td>1.081081</td>\n",
       "      <td>565.0</td>\n",
       "      <td>2.181467</td>\n",
       "      <td>37.85</td>\n",
       "      <td>-122.25</td>\n",
       "    </tr>\n",
       "  </tbody>\n",
       "</table>\n",
       "</div>"
      ],
      "text/plain": [
       "   MedInc  HouseAge  AveRooms  AveBedrms  Population  AveOccup  Latitude  \\\n",
       "0  8.3252      41.0  6.984127   1.023810       322.0  2.555556     37.88   \n",
       "1  8.3014      21.0  6.238137   0.971880      2401.0  2.109842     37.86   \n",
       "2  7.2574      52.0  8.288136   1.073446       496.0  2.802260     37.85   \n",
       "3  5.6431      52.0  5.817352   1.073059       558.0  2.547945     37.85   \n",
       "4  3.8462      52.0  6.281853   1.081081       565.0  2.181467     37.85   \n",
       "\n",
       "   Longitude  \n",
       "0    -122.23  \n",
       "1    -122.22  \n",
       "2    -122.24  \n",
       "3    -122.25  \n",
       "4    -122.25  "
      ]
     },
     "execution_count": 5,
     "metadata": {},
     "output_type": "execute_result"
    }
   ],
   "source": [
    "california_housing.data.head()"
   ]
  },
  {
   "cell_type": "code",
   "execution_count": 6,
   "metadata": {
    "scrolled": true
   },
   "outputs": [
    {
     "name": "stdout",
     "output_type": "stream",
     "text": [
      "(20640, 8)\n"
     ]
    }
   ],
   "source": [
    "X_housing = california_housing.data\n",
    "Y_housing = california_housing.target\n",
    "print(shape(X_housing))"
   ]
  },
  {
   "cell_type": "markdown",
   "metadata": {},
   "source": [
    "Pour éviter que les temps de calcul soient trop longs, nous allons travailler avec un sous échantillon:"
   ]
  },
  {
   "cell_type": "code",
   "execution_count": 7,
   "metadata": {},
   "outputs": [],
   "source": [
    "from sklearn.utils import resample\n",
    "X_housing, Y_housing  = resample(X_housing,Y_housing, n_samples = 2000, replace = False)"
   ]
  },
  {
   "cell_type": "markdown",
   "metadata": {},
   "source": [
    "Découpage train / test :"
   ]
  },
  {
   "cell_type": "code",
   "execution_count": 8,
   "metadata": {
    "scrolled": true
   },
   "outputs": [],
   "source": [
    "X_housing_train, X_housing_test, y_housing_train, y_housing_test = \\\n",
    "train_test_split(X_housing,Y_housing,test_size=0.5)"
   ]
  },
  {
   "cell_type": "markdown",
   "metadata": {},
   "source": [
    "####  Fonctions Gradient Boosting de sckit-learn"
   ]
  },
  {
   "cell_type": "markdown",
   "metadata": {},
   "source": [
    "Importation des fonctions Gradient Boosting de sckit-learn et de la fonction `mean_squared_error` pour le calcul des erreurs quadratique moyennes."
   ]
  },
  {
   "cell_type": "code",
   "execution_count": 9,
   "metadata": {},
   "outputs": [],
   "source": [
    "from sklearn.ensemble import GradientBoostingRegressor\n",
    "from sklearn.metrics import mean_squared_error"
   ]
  },
  {
   "cell_type": "markdown",
   "metadata": {},
   "source": [
    "Nous ajustons maintenant un modèle GBM avec les paramètres proposés ci-dessous.\n",
    "\n",
    "> Retrouver la signification de chacun des paramètres."
   ]
  },
  {
   "cell_type": "code",
   "execution_count": 10,
   "metadata": {},
   "outputs": [
    {
     "name": "stdout",
     "output_type": "stream",
     "text": [
      "GradientBoostingRegressor(learning_rate=0.05, max_depth=8, min_samples_split=4,\n",
      "                          n_estimators=1000)\n"
     ]
    }
   ],
   "source": [
    "GBM = GradientBoostingRegressor(n_estimators=1000,\n",
    "                                         max_depth=8,\n",
    "                                         min_samples_split= 4,\n",
    "                                         learning_rate=0.05,\n",
    "                                         loss='squared_error')\n",
    "\n",
    "print(GBM)"
   ]
  },
  {
   "cell_type": "markdown",
   "metadata": {},
   "source": [
    "+ n_estimators : ###TO DO ### ?\n",
    "+ learning_rate =  ###TO DO ###?\n",
    "+ loss : ###TO DO ### ?\n",
    "+ max_depth : ###TO DO ### ?\n",
    "+ min_samples_split  : ###TO DO ### ?"
   ]
  },
  {
   "cell_type": "markdown",
   "metadata": {},
   "source": [
    "Pour calculer l'erreur mse sur le test (aussi appelée deviance dans la doc) :"
   ]
  },
  {
   "cell_type": "code",
   "execution_count": 11,
   "metadata": {},
   "outputs": [
    {
     "name": "stdout",
     "output_type": "stream",
     "text": [
      "0.43148229428060964\n"
     ]
    }
   ],
   "source": [
    "GBM.fit(X_housing_train, y_housing_train)\n",
    "mse = mean_squared_error(y_housing_test, GBM.predict(X_housing_test))\n",
    "print(mse) "
   ]
  },
  {
   "cell_type": "markdown",
   "metadata": {},
   "source": [
    "Attention : le score renvoyé ci-dessous est un $R^2$ i.e. variance expliquée par le prédicteur / variance totale de $Y$, voir [ici](https://scikit-learn.org/stable/modules/model_evaluation.html#r2-score-the-coefficient-of-determination)."
   ]
  },
  {
   "cell_type": "code",
   "execution_count": 12,
   "metadata": {},
   "outputs": [
    {
     "name": "stdout",
     "output_type": "stream",
     "text": [
      "0.7057234922353235\n"
     ]
    }
   ],
   "source": [
    "print(GBM.score(X_housing_test, y_housing_test))"
   ]
  },
  {
   "cell_type": "markdown",
   "metadata": {},
   "source": [
    "Quelques principes à retenir:\n",
    "+ Plus on ajuste d'arbres, plus le cout computationnel est élevé.\n",
    "+ le nombre d'arbres correspond au nombre d'itérations.\n",
    "+ Un taux d'apprentissage petit nécessitera plus d'arbres.\n",
    "+ Un taux d'apprentissage trop élevé fera des sauts de gradients potentiellement trop grands, et au bout d'un certain nombre d'itérations il sera  difficile d'améliorer les scores.\n",
    "+ Une bonne pratique consiste à choisir d'abord un taux d'apprentissage pas trop faible (pour ne pas faire exploser le nombre d'arbres) et à le diminuer ensuite, une fois ajustés les autres paramètres (nb de noeuds, profondeur ...)."
   ]
  },
  {
   "cell_type": "markdown",
   "metadata": {},
   "source": [
    "#### Etude des erreurs le long des itérations -  learning rate"
   ]
  },
  {
   "cell_type": "markdown",
   "metadata": {},
   "source": [
    "Nous allons maintenant étudier l'évolution de la perte en fonction du nombre d'itérations.\n",
    "\n",
    "Noter que l'erreur d'apprentissage est accessible dans GBM:"
   ]
  },
  {
   "cell_type": "code",
   "execution_count": 13,
   "metadata": {
    "collapsed": true,
    "jupyter": {
     "outputs_hidden": true
    },
    "tags": []
   },
   "outputs": [
    {
     "name": "stdout",
     "output_type": "stream",
     "text": [
      "[1.26363570e+00 1.15563325e+00 1.05842182e+00 9.66761286e-01\n",
      " 8.84974386e-01 8.09833919e-01 7.42301941e-01 6.80328947e-01\n",
      " 6.23395964e-01 5.73334907e-01 5.26492728e-01 4.83667126e-01\n",
      " 4.44877882e-01 4.10427047e-01 3.78013710e-01 3.49096986e-01\n",
      " 3.22245165e-01 2.97696705e-01 2.75053240e-01 2.54768298e-01\n",
      " 2.35989845e-01 2.18725071e-01 2.03076573e-01 1.88631846e-01\n",
      " 1.75048867e-01 1.62348958e-01 1.50865863e-01 1.40449451e-01\n",
      " 1.30670180e-01 1.21879337e-01 1.13483749e-01 1.05820332e-01\n",
      " 9.87999778e-02 9.24155138e-02 8.66441657e-02 8.04808810e-02\n",
      " 7.53696841e-02 7.06572660e-02 6.65452757e-02 6.24161870e-02\n",
      " 5.88460380e-02 5.55354506e-02 5.23142580e-02 4.94841604e-02\n",
      " 4.68143975e-02 4.43412656e-02 4.21692063e-02 4.00336673e-02\n",
      " 3.81434862e-02 3.62662301e-02 3.45585267e-02 3.29244180e-02\n",
      " 3.10678409e-02 2.93687306e-02 2.81308271e-02 2.67268269e-02\n",
      " 2.55884127e-02 2.45587903e-02 2.31516179e-02 2.18970961e-02\n",
      " 2.07633525e-02 1.97934432e-02 1.89042856e-02 1.81958952e-02\n",
      " 1.73519049e-02 1.65405451e-02 1.58691718e-02 1.50726959e-02\n",
      " 1.45416841e-02 1.40274124e-02 1.35290545e-02 1.30835115e-02\n",
      " 1.26087824e-02 1.21993297e-02 1.18476489e-02 1.15594994e-02\n",
      " 1.12974439e-02 1.09708185e-02 1.06016932e-02 1.03622590e-02\n",
      " 1.00160054e-02 9.82435749e-03 9.58028653e-03 9.20005242e-03\n",
      " 8.87925243e-03 8.70830599e-03 8.42084708e-03 8.15658481e-03\n",
      " 7.85910151e-03 7.59487012e-03 7.39996349e-03 7.23589554e-03\n",
      " 7.01094884e-03 6.89232679e-03 6.71267945e-03 6.53162688e-03\n",
      " 6.42856267e-03 6.33749856e-03 6.25172730e-03 6.15182973e-03\n",
      " 6.06300190e-03 5.92628482e-03 5.80479475e-03 5.73257994e-03\n",
      " 5.66598426e-03 5.58973652e-03 5.53006764e-03 5.42448216e-03\n",
      " 5.34114302e-03 5.27382188e-03 5.21251474e-03 5.15859757e-03\n",
      " 5.00617647e-03 4.93020332e-03 4.84458641e-03 4.76607686e-03\n",
      " 4.69718366e-03 4.65666613e-03 4.59445202e-03 4.49291570e-03\n",
      " 4.45597611e-03 4.36656961e-03 4.29137014e-03 4.17976545e-03\n",
      " 4.12155505e-03 4.02007679e-03 3.97344359e-03 3.88122254e-03\n",
      " 3.84153295e-03 3.77017438e-03 3.74448279e-03 3.66362442e-03\n",
      " 3.61167115e-03 3.50829670e-03 3.45659267e-03 3.40010804e-03\n",
      " 3.30666286e-03 3.28743579e-03 3.23375754e-03 3.16043919e-03\n",
      " 3.13907754e-03 3.02299211e-03 2.96838705e-03 2.91259450e-03\n",
      " 2.87051472e-03 2.80168230e-03 2.75470556e-03 2.71248680e-03\n",
      " 2.69884918e-03 2.65916941e-03 2.53840418e-03 2.49709894e-03\n",
      " 2.47955211e-03 2.45737696e-03 2.40366581e-03 2.38802846e-03\n",
      " 2.34890934e-03 2.25261921e-03 2.19469862e-03 2.16351294e-03\n",
      " 2.09562125e-03 2.01900224e-03 2.00685926e-03 1.97676474e-03\n",
      " 1.94085405e-03 1.91188415e-03 1.88143421e-03 1.87194721e-03\n",
      " 1.85156902e-03 1.79615973e-03 1.78770842e-03 1.73358992e-03\n",
      " 1.68445012e-03 1.66446585e-03 1.61774645e-03 1.57852418e-03\n",
      " 1.56349233e-03 1.53082398e-03 1.50709290e-03 1.50030501e-03\n",
      " 1.48195161e-03 1.44619985e-03 1.42634163e-03 1.38981771e-03\n",
      " 1.35280542e-03 1.31587941e-03 1.28413204e-03 1.25736894e-03\n",
      " 1.23202989e-03 1.21319881e-03 1.20336897e-03 1.17992860e-03\n",
      " 1.16916792e-03 1.14193374e-03 1.12142813e-03 1.10871396e-03\n",
      " 1.09405926e-03 1.07571193e-03 1.06284732e-03 1.05559919e-03\n",
      " 1.03819686e-03 1.02680033e-03 1.01423066e-03 1.00100825e-03\n",
      " 9.91390834e-04 9.85537478e-04 9.71424404e-04 9.57161074e-04\n",
      " 9.37274179e-04 9.32960517e-04 9.16520701e-04 9.11258490e-04\n",
      " 9.05941689e-04 8.95838078e-04 8.74335256e-04 8.53199061e-04\n",
      " 8.45892966e-04 8.42618295e-04 8.28831579e-04 8.10510628e-04\n",
      " 7.90196402e-04 7.81698496e-04 7.66551095e-04 7.57401182e-04\n",
      " 7.49482096e-04 7.32438429e-04 7.28891688e-04 7.18302399e-04\n",
      " 7.01787010e-04 6.97852281e-04 6.89744321e-04 6.78201619e-04\n",
      " 6.58876419e-04 6.49032162e-04 6.38565790e-04 6.22183585e-04\n",
      " 6.12899083e-04 6.10762032e-04 5.96913754e-04 5.85926280e-04\n",
      " 5.72959134e-04 5.64989462e-04 5.52932935e-04 5.45419982e-04\n",
      " 5.42528710e-04 5.39211237e-04 5.25216491e-04 5.22764891e-04\n",
      " 5.11550606e-04 5.09748805e-04 4.97971709e-04 4.94766644e-04\n",
      " 4.83903537e-04 4.70512541e-04 4.62528941e-04 4.60284456e-04\n",
      " 4.48899492e-04 4.39139728e-04 4.35938652e-04 4.30109059e-04\n",
      " 4.21429676e-04 4.19675953e-04 4.16654921e-04 4.10001641e-04\n",
      " 4.05353282e-04 3.99503572e-04 3.93472498e-04 3.92044403e-04\n",
      " 3.84221007e-04 3.80945655e-04 3.72863489e-04 3.65636294e-04\n",
      " 3.63674442e-04 3.61350271e-04 3.56640784e-04 3.52446873e-04\n",
      " 3.42716587e-04 3.35782349e-04 3.32453806e-04 3.24603497e-04\n",
      " 3.20362709e-04 3.13144741e-04 3.09237357e-04 3.03232916e-04\n",
      " 2.94438520e-04 2.93020193e-04 2.88850080e-04 2.82389854e-04\n",
      " 2.76657324e-04 2.68920786e-04 2.66531675e-04 2.63300512e-04\n",
      " 2.60758954e-04 2.54913170e-04 2.49036844e-04 2.43912755e-04\n",
      " 2.41946842e-04 2.37249082e-04 2.31879544e-04 2.28946778e-04\n",
      " 2.25185568e-04 2.22060058e-04 2.20860210e-04 2.16790201e-04\n",
      " 2.13637048e-04 2.12925107e-04 2.08462200e-04 2.05551498e-04\n",
      " 2.03188744e-04 2.00794183e-04 1.95566453e-04 1.90620237e-04\n",
      " 1.88748121e-04 1.87902755e-04 1.82064275e-04 1.76726908e-04\n",
      " 1.75843466e-04 1.72749258e-04 1.72100823e-04 1.70852099e-04\n",
      " 1.65452826e-04 1.64009688e-04 1.62060397e-04 1.60875489e-04\n",
      " 1.59945040e-04 1.57769776e-04 1.55424803e-04 1.52402680e-04\n",
      " 1.51530376e-04 1.49301953e-04 1.46945992e-04 1.43516917e-04\n",
      " 1.41928316e-04 1.41060437e-04 1.37775128e-04 1.34808819e-04\n",
      " 1.32733286e-04 1.29982807e-04 1.28390424e-04 1.27490244e-04\n",
      " 1.24124958e-04 1.23483179e-04 1.22247998e-04 1.20754352e-04\n",
      " 1.18040095e-04 1.17480525e-04 1.15805385e-04 1.13515111e-04\n",
      " 1.12893802e-04 1.12641415e-04 1.11382684e-04 1.10426956e-04\n",
      " 1.08530856e-04 1.06180940e-04 1.03726641e-04 1.03135553e-04\n",
      " 1.00814012e-04 9.87217559e-05 9.62304660e-05 9.50651513e-05\n",
      " 9.40240817e-05 9.32476945e-05 9.26626045e-05 9.17619332e-05\n",
      " 9.08363584e-05 8.90322237e-05 8.86206862e-05 8.79710736e-05\n",
      " 8.69919965e-05 8.60058487e-05 8.45830032e-05 8.34603305e-05\n",
      " 8.09371419e-05 8.04981596e-05 7.98272731e-05 7.84713995e-05\n",
      " 7.76080587e-05 7.66851452e-05 7.62919900e-05 7.53964551e-05\n",
      " 7.45064420e-05 7.41663042e-05 7.39759143e-05 7.33483217e-05\n",
      " 7.28607459e-05 7.15671542e-05 7.12904839e-05 7.04741791e-05\n",
      " 6.96733797e-05 6.85946332e-05 6.74108434e-05 6.61336561e-05\n",
      " 6.57179098e-05 6.40092807e-05 6.37243159e-05 6.27480019e-05\n",
      " 6.22019379e-05 6.17739963e-05 6.08412364e-05 5.95352241e-05\n",
      " 5.88138705e-05 5.82160599e-05 5.67248330e-05 5.61087657e-05\n",
      " 5.58282268e-05 5.52234557e-05 5.41343837e-05 5.34081655e-05\n",
      " 5.23240661e-05 5.12257430e-05 5.04825061e-05 4.99552434e-05\n",
      " 4.96758019e-05 4.82518965e-05 4.71444350e-05 4.68786131e-05\n",
      " 4.63737528e-05 4.52012579e-05 4.39306011e-05 4.30508476e-05\n",
      " 4.23672529e-05 4.15321879e-05 4.07828025e-05 4.04249525e-05\n",
      " 3.96897305e-05 3.90923432e-05 3.84093602e-05 3.74267632e-05\n",
      " 3.71619922e-05 3.67344718e-05 3.63421959e-05 3.58879960e-05\n",
      " 3.55477600e-05 3.50340876e-05 3.44392743e-05 3.39866930e-05\n",
      " 3.35037930e-05 3.32252046e-05 3.27418394e-05 3.22764921e-05\n",
      " 3.18393495e-05 3.10517091e-05 3.04073366e-05 3.02547369e-05\n",
      " 3.00636862e-05 2.94028241e-05 2.83996729e-05 2.78125885e-05\n",
      " 2.76357285e-05 2.68486665e-05 2.61059921e-05 2.56479946e-05\n",
      " 2.53402053e-05 2.48378381e-05 2.39346100e-05 2.36428755e-05\n",
      " 2.35498369e-05 2.32822893e-05 2.31970997e-05 2.26512158e-05\n",
      " 2.24931432e-05 2.20025355e-05 2.18761362e-05 2.15505721e-05\n",
      " 2.11674598e-05 2.08326523e-05 2.04532970e-05 2.00458730e-05\n",
      " 1.97013660e-05 1.95068308e-05 1.88519511e-05 1.84702740e-05\n",
      " 1.83709703e-05 1.82882249e-05 1.82075397e-05 1.78643939e-05\n",
      " 1.77601097e-05 1.75695382e-05 1.73898298e-05 1.70361127e-05\n",
      " 1.69474421e-05 1.67354375e-05 1.63039491e-05 1.59349828e-05\n",
      " 1.57156660e-05 1.52940888e-05 1.49920736e-05 1.45463007e-05\n",
      " 1.44523933e-05 1.42028063e-05 1.41262155e-05 1.39915524e-05\n",
      " 1.37537533e-05 1.34295260e-05 1.31364980e-05 1.30304874e-05\n",
      " 1.26794189e-05 1.25946227e-05 1.23889205e-05 1.22007603e-05\n",
      " 1.20832074e-05 1.18902172e-05 1.17675772e-05 1.16813627e-05\n",
      " 1.15093425e-05 1.14673074e-05 1.11008306e-05 1.09069116e-05\n",
      " 1.08309220e-05 1.05014293e-05 1.03252983e-05 1.01016925e-05\n",
      " 1.00660060e-05 9.87835472e-06 9.59105457e-06 9.37866418e-06\n",
      " 9.06981414e-06 8.89200983e-06 8.61620597e-06 8.42594675e-06\n",
      " 8.21047401e-06 8.08388934e-06 8.02588576e-06 7.94327999e-06\n",
      " 7.91084818e-06 7.81507130e-06 7.73216354e-06 7.66429900e-06\n",
      " 7.62121257e-06 7.53353892e-06 7.46679164e-06 7.39627586e-06\n",
      " 7.34458904e-06 7.20736831e-06 7.14425759e-06 6.99670378e-06\n",
      " 6.81264807e-06 6.77080132e-06 6.65636291e-06 6.62141936e-06\n",
      " 6.59660841e-06 6.56087547e-06 6.47244302e-06 6.29412095e-06\n",
      " 6.26881193e-06 6.13448662e-06 6.05038116e-06 5.88590575e-06\n",
      " 5.79425392e-06 5.73336977e-06 5.62697528e-06 5.56323402e-06\n",
      " 5.53485870e-06 5.46493637e-06 5.30876722e-06 5.26879628e-06\n",
      " 5.25001736e-06 5.18316353e-06 5.13018171e-06 5.11232404e-06\n",
      " 5.08494753e-06 5.05635617e-06 4.94907673e-06 4.82361426e-06\n",
      " 4.75597621e-06 4.70461965e-06 4.67079190e-06 4.62333627e-06\n",
      " 4.59166245e-06 4.54296433e-06 4.49570912e-06 4.46462464e-06\n",
      " 4.38387987e-06 4.27843334e-06 4.22996934e-06 4.17667840e-06\n",
      " 4.08988467e-06 4.06105210e-06 3.98178778e-06 3.90060528e-06\n",
      " 3.86606275e-06 3.84097439e-06 3.78396826e-06 3.75290423e-06\n",
      " 3.71635103e-06 3.63155139e-06 3.56190366e-06 3.54656278e-06\n",
      " 3.50302874e-06 3.42822790e-06 3.35024865e-06 3.30571067e-06\n",
      " 3.24879347e-06 3.19701693e-06 3.17133615e-06 3.12475158e-06\n",
      " 3.08551860e-06 3.02315679e-06 2.98515789e-06 2.94873651e-06\n",
      " 2.89474587e-06 2.85147662e-06 2.82086687e-06 2.78388430e-06\n",
      " 2.68786468e-06 2.65331343e-06 2.59090206e-06 2.55744703e-06\n",
      " 2.54041850e-06 2.48142788e-06 2.45719037e-06 2.39186867e-06\n",
      " 2.35657324e-06 2.33226550e-06 2.27198170e-06 2.21098892e-06\n",
      " 2.12065007e-06 2.09996266e-06 2.07643157e-06 1.99645408e-06\n",
      " 1.92162296e-06 1.91026029e-06 1.86828477e-06 1.86269636e-06\n",
      " 1.83803357e-06 1.81770481e-06 1.81440156e-06 1.76912017e-06\n",
      " 1.73964766e-06 1.73454501e-06 1.70672670e-06 1.67199156e-06\n",
      " 1.66132157e-06 1.61075262e-06 1.58112930e-06 1.57432023e-06\n",
      " 1.53792809e-06 1.52626795e-06 1.50689252e-06 1.49332422e-06\n",
      " 1.48417818e-06 1.47895437e-06 1.44928651e-06 1.43662504e-06\n",
      " 1.42273340e-06 1.39531610e-06 1.38055703e-06 1.35606602e-06\n",
      " 1.33575179e-06 1.32314399e-06 1.30219649e-06 1.28556713e-06\n",
      " 1.24991188e-06 1.22364681e-06 1.21603136e-06 1.19622023e-06\n",
      " 1.17000320e-06 1.16273512e-06 1.15666585e-06 1.12645439e-06\n",
      " 1.11008873e-06 1.10651578e-06 1.09575597e-06 1.07231979e-06\n",
      " 1.05071725e-06 1.03801405e-06 1.01814005e-06 1.00369953e-06\n",
      " 9.89347499e-07 9.75368707e-07 9.45885245e-07 9.17179838e-07\n",
      " 8.95839716e-07 8.80070015e-07 8.61459669e-07 8.52067527e-07\n",
      " 8.44740272e-07 8.37143272e-07 8.25087354e-07 8.03955274e-07\n",
      " 8.01172826e-07 7.82913943e-07 7.62529185e-07 7.56810523e-07\n",
      " 7.43061565e-07 7.36289770e-07 7.22173255e-07 7.16872375e-07\n",
      " 7.05619523e-07 6.94456650e-07 6.80893987e-07 6.73264353e-07\n",
      " 6.68196073e-07 6.65309847e-07 6.49153300e-07 6.45794301e-07\n",
      " 6.40002728e-07 6.22469580e-07 6.10161653e-07 5.98540053e-07\n",
      " 5.84919643e-07 5.79613547e-07 5.78161505e-07 5.67632943e-07\n",
      " 5.61660924e-07 5.51209626e-07 5.47702625e-07 5.45621204e-07\n",
      " 5.27714078e-07 5.21469964e-07 5.18131197e-07 5.11791550e-07\n",
      " 5.09797485e-07 5.05913585e-07 4.99693037e-07 4.98093139e-07\n",
      " 4.92837935e-07 4.79500810e-07 4.76212436e-07 4.63790733e-07\n",
      " 4.62030583e-07 4.51319559e-07 4.46598293e-07 4.42012088e-07\n",
      " 4.29638403e-07 4.23910868e-07 4.18808581e-07 4.10511351e-07\n",
      " 3.98795446e-07 3.90719326e-07 3.81790428e-07 3.72283761e-07\n",
      " 3.63882487e-07 3.57340976e-07 3.54999705e-07 3.49491202e-07\n",
      " 3.43380539e-07 3.41022283e-07 3.37974940e-07 3.33255624e-07\n",
      " 3.23304285e-07 3.14326000e-07 3.13163764e-07 3.12355912e-07\n",
      " 3.10832824e-07 3.09789354e-07 3.04626225e-07 3.04162737e-07\n",
      " 3.01154039e-07 2.95900119e-07 2.91623936e-07 2.84898799e-07\n",
      " 2.80982724e-07 2.78400072e-07 2.73621429e-07 2.70789509e-07\n",
      " 2.64281640e-07 2.61413338e-07 2.58342906e-07 2.56070688e-07\n",
      " 2.52545598e-07 2.50261125e-07 2.47775355e-07 2.43814947e-07\n",
      " 2.42307673e-07 2.38307560e-07 2.33096384e-07 2.29908834e-07\n",
      " 2.28640996e-07 2.25371059e-07 2.23577255e-07 2.22766678e-07\n",
      " 2.19997346e-07 2.13365961e-07 2.12341407e-07 2.08881283e-07\n",
      " 2.03306220e-07 2.00134127e-07 1.97442444e-07 1.92870317e-07\n",
      " 1.90655100e-07 1.89523965e-07 1.87825812e-07 1.83043640e-07\n",
      " 1.80904867e-07 1.76484626e-07 1.75781342e-07 1.73448393e-07\n",
      " 1.67690246e-07 1.66384253e-07 1.65172983e-07 1.62855248e-07\n",
      " 1.57592864e-07 1.54988220e-07 1.52954751e-07 1.50580216e-07\n",
      " 1.48636184e-07 1.45271704e-07 1.44513090e-07 1.43788511e-07\n",
      " 1.40190423e-07 1.39324986e-07 1.38659317e-07 1.34858156e-07\n",
      " 1.31708836e-07 1.30141773e-07 1.27073965e-07 1.26459323e-07\n",
      " 1.23164164e-07 1.21440583e-07 1.19501660e-07 1.19004477e-07\n",
      " 1.16284233e-07 1.14736394e-07 1.12270734e-07 1.09611873e-07\n",
      " 1.08646085e-07 1.06117833e-07 1.05575984e-07 1.03918778e-07\n",
      " 1.02922156e-07 1.01746756e-07 1.01210016e-07 9.78165614e-08\n",
      " 9.62484223e-08 9.57741053e-08 9.50637436e-08 9.29721819e-08\n",
      " 9.21032194e-08 9.17666461e-08 9.05317404e-08 8.86873754e-08\n",
      " 8.81250451e-08 8.61819052e-08 8.38564528e-08 8.22920430e-08\n",
      " 8.05712656e-08 7.85303502e-08 7.75832014e-08 7.63699934e-08\n",
      " 7.45289966e-08 7.39236867e-08 7.22729108e-08 7.19213874e-08\n",
      " 7.15216346e-08 7.01716583e-08 6.96916444e-08 6.95674185e-08\n",
      " 6.86306541e-08 6.74629723e-08 6.71151438e-08 6.67417004e-08\n",
      " 6.57933163e-08 6.41807858e-08 6.37428514e-08 6.32359168e-08\n",
      " 6.28635888e-08 6.16885172e-08 6.05633717e-08 5.98394370e-08\n",
      " 5.90473088e-08 5.81856001e-08 5.75649292e-08 5.69810671e-08\n",
      " 5.64020796e-08 5.58602511e-08 5.51220626e-08 5.45101632e-08\n",
      " 5.38540845e-08 5.32267611e-08 5.26351263e-08 5.08705752e-08\n",
      " 5.06725914e-08 5.02161254e-08 5.00109620e-08 4.88999255e-08\n",
      " 4.81240912e-08 4.75528939e-08 4.73492366e-08 4.64335420e-08\n",
      " 4.62270803e-08 4.60402436e-08 4.56089230e-08 4.54957803e-08\n",
      " 4.47941724e-08 4.45232088e-08 4.41038096e-08 4.37603744e-08\n",
      " 4.29883651e-08 4.23808513e-08 4.17781350e-08 4.14149314e-08\n",
      " 4.10954483e-08 3.97055674e-08 3.92003001e-08 3.91021112e-08\n",
      " 3.89130733e-08 3.86321512e-08 3.77038113e-08 3.71260043e-08\n",
      " 3.69756821e-08 3.65545967e-08 3.59160196e-08 3.55862716e-08\n",
      " 3.51408458e-08 3.46866470e-08 3.43467149e-08 3.35932606e-08\n",
      " 3.27356813e-08 3.21461702e-08 3.16204185e-08 3.10923883e-08\n",
      " 3.09679321e-08 3.02241875e-08 3.01120938e-08 2.94343949e-08\n",
      " 2.87743946e-08 2.85958176e-08 2.78490454e-08 2.77300744e-08\n",
      " 2.68931544e-08 2.67162572e-08 2.66106397e-08 2.61794559e-08\n",
      " 2.54773524e-08 2.53005038e-08 2.49704357e-08 2.47572759e-08\n",
      " 2.46275493e-08 2.45310279e-08 2.40777967e-08 2.36997708e-08\n",
      " 2.36421027e-08 2.35331681e-08 2.32126216e-08 2.30437092e-08\n",
      " 2.27249843e-08 2.25965742e-08 2.25230947e-08 2.23703333e-08\n",
      " 2.21957275e-08 2.20978224e-08 2.20300528e-08 2.17159759e-08\n",
      " 2.14684926e-08 2.09146198e-08 2.05815454e-08 2.05435912e-08\n",
      " 2.04685804e-08 2.02108501e-08 1.98980575e-08 1.96640083e-08\n",
      " 1.94987207e-08 1.94228051e-08 1.92013452e-08 1.87271559e-08\n",
      " 1.86638793e-08 1.84498089e-08 1.81349507e-08 1.77783550e-08\n",
      " 1.76402955e-08 1.72584878e-08 1.71924551e-08 1.70917318e-08\n",
      " 1.69064897e-08 1.68287128e-08 1.67625519e-08 1.65786497e-08\n",
      " 1.60792200e-08 1.60011995e-08 1.59141132e-08 1.58559728e-08\n",
      " 1.57981246e-08 1.56813447e-08 1.55369562e-08 1.54536142e-08\n",
      " 1.52603114e-08 1.51195316e-08 1.50535611e-08 1.49721401e-08\n",
      " 1.48586258e-08 1.46096352e-08 1.42205746e-08 1.41072392e-08\n",
      " 1.39570245e-08 1.39243026e-08 1.37115079e-08 1.36529779e-08\n",
      " 1.35133978e-08 1.34702011e-08 1.34175079e-08 1.32642614e-08\n",
      " 1.31167604e-08 1.30089183e-08 1.28061555e-08 1.27199546e-08\n",
      " 1.26618338e-08 1.25060155e-08 1.24302509e-08 1.22632252e-08]\n"
     ]
    }
   ],
   "source": [
    "print(GBM.train_score_)"
   ]
  },
  {
   "cell_type": "markdown",
   "metadata": {},
   "source": [
    "Nous pouvons aussi tracer l'évolution de l'erreur de test mse (ou bien le score $R^2$) le long des itérations. En effet, pour retrouver tous les estimateurs temporaires à chaque de l'étape de l'algo, il suffit de considérer la somme tronquée du prédicteur boosting final. \n",
    "> Utiliser les méthodes `staged_predict()` et `loss_()` de la classe `GradientBoostingRegressor` pour afficher l'erreur de test en fonction du nombre d'itérations. Comparer avec l'erreur sur le train. \n"
   ]
  },
  {
   "cell_type": "code",
   "execution_count": 34,
   "metadata": {},
   "outputs": [],
   "source": [
    "test_score = []\n",
    "for y_pred in  GBM.staged_predict(X_housing_test):\n",
    "    test_score.append(GBM.loss_(y_pred, y_housing_test))"
   ]
  },
  {
   "cell_type": "code",
   "execution_count": 23,
   "metadata": {},
   "outputs": [
    {
     "data": {
      "image/png": "[encoded data removed]",
      "text/plain": [
       "<Figure size 640x480 with 1 Axes>"
      ]
     },
     "metadata": {},
     "output_type": "display_data"
    }
   ],
   "source": [
    "plt.plot(np.arange(GBM.n_estimators) + 1, GBM.train_score_, 'b-',\n",
    "         label='Training mse')\n",
    "plt.plot(np.arange(GBM.n_estimators) + 1, test_score, 'r-',\n",
    "         label='Test mse')\n",
    "plt.legend(loc='upper right')\n",
    "plt.xlabel('Boosting Iterations')\n",
    "plt.ylabel('mse');"
   ]
  },
  {
   "cell_type": "markdown",
   "metadata": {},
   "source": [
    "> Est-il ici pertinent de faire du \"early stopping\" i.e. considérer une somme tronquée du prédicteur boosting pour contrôler le sur-apprentissage ?"
   ]
  },
  {
   "cell_type": "markdown",
   "metadata": {},
   "source": [
    "### TODO ###\n",
    "Ce n'est pas nécessaire, car nous pouvons voir que l'erreur n'augmente pas après quelques itérations."
   ]
  },
  {
   "cell_type": "markdown",
   "metadata": {},
   "source": [
    "> Superposer quelques trajectoires pour plusieurs valeurs du learning rate."
   ]
  },
  {
   "cell_type": "code",
   "execution_count": 52,
   "metadata": {},
   "outputs": [
    {
     "ename": "AttributeError",
     "evalue": "'GradientBoostingRegressor' object has no attribute 'train_score_'",
     "output_type": "error",
     "traceback": [
      "\u001b[1;31m---------------------------------------------------------------------------\u001b[0m",
      "\u001b[1;31mAttributeError\u001b[0m                            Traceback (most recent call last)",
      "\u001b[1;32m~\\AppData\\Local\\Temp\\ipykernel_21964\\3004678073.py\u001b[0m in \u001b[0;36m<module>\u001b[1;34m\u001b[0m\n\u001b[0;32m     13\u001b[0m         \u001b[0mtest_score\u001b[0m\u001b[1;33m.\u001b[0m\u001b[0mappend\u001b[0m\u001b[1;33m(\u001b[0m\u001b[0mGBM_lr\u001b[0m\u001b[1;33m[\u001b[0m\u001b[0mi\u001b[0m\u001b[1;33m]\u001b[0m\u001b[1;33m.\u001b[0m\u001b[0mloss_\u001b[0m\u001b[1;33m(\u001b[0m\u001b[0my_pred\u001b[0m\u001b[1;33m,\u001b[0m \u001b[0my_housing_test\u001b[0m\u001b[1;33m)\u001b[0m\u001b[1;33m)\u001b[0m\u001b[1;33m\u001b[0m\u001b[1;33m\u001b[0m\u001b[0m\n\u001b[0;32m     14\u001b[0m     \u001b[1;31m# dessin\u001b[0m\u001b[1;33m\u001b[0m\u001b[1;33m\u001b[0m\u001b[0m\n\u001b[1;32m---> 15\u001b[1;33m     plt.plot(np.arange(GBM_lr[i].n_estimators) + 1, GBM.train_score_, 'b-',\n\u001b[0m\u001b[0;32m     16\u001b[0m              label='Training mse'+' '+str(i+1))\n\u001b[0;32m     17\u001b[0m     plt.plot(np.arange(GBM_lr[i].n_estimators) + 1, test_score, 'r-',\n",
      "\u001b[1;31mAttributeError\u001b[0m: 'GradientBoostingRegressor' object has no attribute 'train_score_'"
     ]
    }
   ],
   "source": [
    "### TODO ###\n",
    "GBM_lr = []\n",
    "lr_list = [0.05, 0.1, 0.15, 0.2]\n",
    "for i, lr in enumerate(lr_list):\n",
    "    GBM_lr.append(GradientBoostingRegressor(n_estimators = 1000,\n",
    "                                    max_depth = 8,\n",
    "                                    min_samples_split = 4,\n",
    "                                    learning_rate = lr,\n",
    "                                    loss = 'squared_error'))\n",
    "    GBM_lr[i].fit(X_housing_train, y_housing_train)\n",
    "    test_score = []\n",
    "    for y_pred in  GBM_lr[i].staged_predict(X_housing_test):\n",
    "        test_score.append(GBM_lr[i].loss_(y_pred, y_housing_test))\n",
    "    # dessin\n",
    "    plt.plot(np.arange(GBM_lr[i].n_estimators) + 1, GBM.train_score_, 'b-',\n",
    "             label='Training mse'+' '+str(i+1))\n",
    "    plt.plot(np.arange(GBM_lr[i].n_estimators) + 1, test_score, 'r-',\n",
    "             label='Test mse'+' '+str(i+1))\n",
    "    plt.legend(loc='upper right')\n",
    "    plt.xlabel('Boosting Iterations')\n",
    "    plt.ylabel('mse')\n",
    "    xlim(0,100);"
   ]
  },
  {
   "cell_type": "markdown",
   "metadata": {},
   "source": [
    "#### Choix des paramètres du GBM"
   ]
  },
  {
   "cell_type": "markdown",
   "metadata": {},
   "source": [
    "> Pour `n_estimators=300` et `learning_rate=0.1`, effectuer une recherche avec par `GridSearch()` pour choisir `max_depth` et  `min_samples_split`. Faire cette recherche en \"cross validant\" uniquement l'échantillon d'apprentissage de façon à garder des données pour évaluer les performances du modèle finalement sélectionné."
   ]
  },
  {
   "cell_type": "code",
   "execution_count": 42,
   "metadata": {},
   "outputs": [
    {
     "data": {
      "text/plain": [
       "8"
      ]
     },
     "execution_count": 42,
     "metadata": {},
     "output_type": "execute_result"
    }
   ],
   "source": [
    "max_depth_values= [2,4,6,8] \n",
    "min_samples_split_values= [2,3,4]\n",
    "\n",
    "import multiprocessing\n",
    "multiprocessing.cpu_count()"
   ]
  },
  {
   "cell_type": "code",
   "execution_count": null,
   "metadata": {},
   "outputs": [],
   "source": [
    "from sklearn.model_selection import GridSearchCV\n",
    "\n",
    "GBM = GradientBoostingRegressor(n_estimators = 300,\n",
    "                                         learning_rate=0.1,\n",
    "                                         loss='squared_error')\n",
    "param_grid = {'max_depth': max_depth_values, 'min_samples_split': min_samples_split_values}\n",
    "grid_search = GridSearchCV(GBM, param_grid, cv=5, n_jobs=8 )\n",
    "grid_result = grid_search.fit(X_housing_train, y_housing_train)"
   ]
  },
  {
   "cell_type": "code",
   "execution_count": null,
   "metadata": {},
   "outputs": [
    {
     "name": "stdout",
     "output_type": "stream",
     "text": [
      "0.762272 (0.024849) with: {'max_depth': 2, 'min_samples_split': 2}\n",
      "0.761650 (0.025325) with: {'max_depth': 2, 'min_samples_split': 3}\n",
      "0.761411 (0.024692) with: {'max_depth': 2, 'min_samples_split': 4}\n",
      "0.754390 (0.029438) with: {'max_depth': 4, 'min_samples_split': 2}\n",
      "0.751639 (0.022087) with: {'max_depth': 4, 'min_samples_split': 3}\n",
      "0.755248 (0.023973) with: {'max_depth': 4, 'min_samples_split': 4}\n",
      "0.731257 (0.028356) with: {'max_depth': 6, 'min_samples_split': 2}\n",
      "0.733489 (0.025857) with: {'max_depth': 6, 'min_samples_split': 3}\n",
      "0.740643 (0.020537) with: {'max_depth': 6, 'min_samples_split': 4}\n",
      "0.696109 (0.018585) with: {'max_depth': 8, 'min_samples_split': 2}\n",
      "0.694830 (0.034072) with: {'max_depth': 8, 'min_samples_split': 3}\n",
      "0.692993 (0.026438) with: {'max_depth': 8, 'min_samples_split': 4}\n"
     ]
    }
   ],
   "source": [
    "means = grid_result.cv_results_['mean_test_score']\n",
    "stds = grid_result.cv_results_['std_test_score']\n",
    "params = grid_result.cv_results_['params']\n",
    "for mean, stdev, param in zip(means, stds, params):\n",
    "    print(\"%f (%f) with: %r\" % (mean, stdev, param))"
   ]
  },
  {
   "cell_type": "markdown",
   "metadata": {},
   "source": [
    "> Une fois ces valeurs choisies, diminuer le learning rate et augmenter le nombre d'itérations pour essayer d'améliorer encore les performances."
   ]
  },
  {
   "cell_type": "code",
   "execution_count": 55,
   "metadata": {},
   "outputs": [],
   "source": [
    "### TODO ###\n",
    "n_estimators_values = np.arange(1000, 2000, 100)\n",
    "learning_rate_values = [0.05, 0.02, 0.01, 0.005, 0.002]\n",
    "\n",
    "GBM = GradientBoostingRegressor(loss='squared_error', max_depth = 2, min_samples_split = 2)\n",
    "param_grid = {'n_estimators' : n_estimators_values,\n",
    "             'learning_rate' : learning_rate_values}\n",
    "grid_search = GridSearchCV(GBM, param_grid, cv=5, n_jobs=8 )\n",
    "grid_result = grid_search.fit(X_housing_train, y_housing_train)"
   ]
  },
  {
   "cell_type": "markdown",
   "metadata": {},
   "source": [
    "> Calculer le $R^2$ et l'erreur de test pour le modèle final"
   ]
  },
  {
   "cell_type": "code",
   "execution_count": 57,
   "metadata": {},
   "outputs": [
    {
     "data": {
      "text/plain": [
       "0.7402447298213187"
      ]
     },
     "execution_count": 57,
     "metadata": {},
     "output_type": "execute_result"
    }
   ],
   "source": [
    "grid_result.best_estimator_.score(X_housing_test, y_housing_test)### TODO ###"
   ]
  },
  {
   "cell_type": "code",
   "execution_count": 58,
   "metadata": {},
   "outputs": [
    {
     "data": {
      "text/plain": [
       "0.3808656041881659"
      ]
     },
     "execution_count": 58,
     "metadata": {},
     "output_type": "execute_result"
    }
   ],
   "source": [
    "mean_squared_error(grid_result.best_estimator_.predict(X_housing_test), y_housing_test)### TODO ###)"
   ]
  },
  {
   "cell_type": "markdown",
   "metadata": {},
   "source": [
    "#### Indices d'importance"
   ]
  },
  {
   "cell_type": "markdown",
   "metadata": {},
   "source": [
    "> Il est aussi possible de calculer des indices d'importances pour les GMB avec la méthode `feature_importances_`. Comparer les importances du modèle GMB obtenu avec celles obtenues précédemment pour les forêts aléatoires."
   ]
  },
  {
   "cell_type": "code",
   "execution_count": 59,
   "metadata": {},
   "outputs": [],
   "source": [
    "GBMbest = grid_result.best_estimator_"
   ]
  },
  {
   "cell_type": "code",
   "execution_count": 60,
   "metadata": {},
   "outputs": [],
   "source": [
    "# On commence ajuster le modele choisi sur toutes les données:\n",
    "GBMbest.fit(X_housing,Y_housing);"
   ]
  },
  {
   "cell_type": "code",
   "execution_count": 62,
   "metadata": {},
   "outputs": [
    {
     "data": {
      "text/plain": [
       "Text(0.5, 1.0, 'Importance GBM')"
      ]
     },
     "execution_count": 62,
     "metadata": {},
     "output_type": "execute_result"
    },
    {
     "data": {
      "image/png": "[encoded data removed]",
      "text/plain": [
       "<Figure size 640x480 with 1 Axes>"
      ]
     },
     "metadata": {},
     "output_type": "display_data"
    }
   ],
   "source": [
    "feature_importance = GBMbest.feature_importances_\n",
    "### TODO : affichage ###\n",
    "index = arange(len(feature_importance))\n",
    "\n",
    "fig, ax = plt.subplots()\n",
    "ax.bar(index, feature_importance)\n",
    "ax.set_xticks(index)\n",
    "ax.set_xticklabels(california_housing.feature_names)\n",
    "ax.set_title(\"Importance GBM\")"
   ]
  },
  {
   "cell_type": "markdown",
   "metadata": {},
   "source": [
    "##  XGboost"
   ]
  },
  {
   "cell_type": "markdown",
   "metadata": {},
   "source": [
    "Si nécessaire, installer la librairie [`xgboost`](https://xgboost.readthedocs.io/en/latest/install.html). "
   ]
  },
  {
   "cell_type": "code",
   "execution_count": null,
   "metadata": {},
   "outputs": [],
   "source": [
    "from xgboost import XGBRegressor"
   ]
  },
  {
   "cell_type": "markdown",
   "metadata": {},
   "source": [
    "Nous allons utilser Xgboost avec pour classifieurs faibles des arbres (on pourait aussi utiliser aussi des modèles linéaires basés sur peu de variabes)."
   ]
  },
  {
   "cell_type": "markdown",
   "metadata": {},
   "source": [
    "Les paramètres de Xgboost, notamment pour les fonctions `XGBRegressor()` et `XGBClassifier()`, sont décrits dans [cette page](http://xgboost.readthedocs.io/en/latest/python/python_api.html#module-xgboost.sklearn). Elles sont similaires aux commdandes des fonctions de sckit-learn."
   ]
  },
  {
   "cell_type": "code",
   "execution_count": null,
   "metadata": {},
   "outputs": [],
   "source": [
    "XGBR = XGBRegressor()\n",
    "XGBR.fit(X_housing_train, y_housing_train)\n",
    "y_pred = XGBR.predict(X_housing_test)\n",
    "XGBR"
   ]
  },
  {
   "cell_type": "markdown",
   "metadata": {},
   "source": [
    "> Donner le score $R^2$ et l'erreur mse. Comparer avec GBM."
   ]
  },
  {
   "cell_type": "code",
   "execution_count": null,
   "metadata": {},
   "outputs": [],
   "source": []
  },
  {
   "cell_type": "markdown",
   "metadata": {},
   "source": [
    "Les remarques précedentes sur les reglages des paramètres de GBM sont encore vraies pour Xgboost. Il faut en plus ajuster les paramètres `alpha`  et `lambda` des termes de régularisation."
   ]
  },
  {
   "cell_type": "markdown",
   "metadata": {},
   "source": [
    "> Choisir les paramètres de Xgboost."
   ]
  },
  {
   "cell_type": "markdown",
   "metadata": {},
   "source": [
    "D'abord avec un learning rate pas trop faible."
   ]
  },
  {
   "cell_type": "code",
   "execution_count": null,
   "metadata": {},
   "outputs": [],
   "source": [
    "max_depth= [2,4,6,8] \n",
    "min_child_weight = [2,4]\n",
    "reg_alpha=  [0,0.1,1,2]\n",
    "reg_lambda = [0,0.1,1,2]\n",
    "### TODO ###"
   ]
  },
  {
   "cell_type": "markdown",
   "metadata": {},
   "source": [
    "Et maintenant avec des learning rates plus petits:"
   ]
  },
  {
   "cell_type": "code",
   "execution_count": null,
   "metadata": {},
   "outputs": [],
   "source": [
    "learning_rate = [0.001, 0.01,0.05]\n",
    "n_estimators = [100,500,1000]"
   ]
  },
  {
   "cell_type": "code",
   "execution_count": null,
   "metadata": {},
   "outputs": [],
   "source": [
    "### TODO ###"
   ]
  },
  {
   "cell_type": "code",
   "execution_count": null,
   "metadata": {
    "scrolled": true
   },
   "outputs": [],
   "source": [
    "### TODO : Graphe de la mse ###"
   ]
  },
  {
   "cell_type": "markdown",
   "metadata": {},
   "source": [
    " :"
   ]
  },
  {
   "cell_type": "markdown",
   "metadata": {},
   "source": [
    "## Implémentation du Boosting Regressor \n",
    "\n",
    "> Implémenter votre propore fonction Tree Boosting Regressor, on considérant la perte $\\ell_2$. On pourra pour cela, à chaque itération, \n",
    "ajuster un arbre de régression (de faible prodondeur) sur les résidus courants, à l'aide de la fonction `tree.DecisionTreeRegressor()` . L'étape 5 de l'Algorithme 6 \"Gradient Tree Boosting Regressor Algorithm\" donné en cours est-elle nécessaire dans ce contexte ? \n"
   ]
  },
  {
   "cell_type": "code",
   "execution_count": null,
   "metadata": {},
   "outputs": [],
   "source": [
    "### TODO ###"
   ]
  }
 ],
 "metadata": {
  "kernelspec": {
   "display_name": "Python 3 (ipykernel)",
   "language": "python",
   "name": "python3"
  },
  "language_info": {
   "codemirror_mode": {
    "name": "ipython",
    "version": 3
   },
   "file_extension": ".py",
   "mimetype": "text/x-python",
   "name": "python",
   "nbconvert_exporter": "python",
   "pygments_lexer": "ipython3",
   "version": "3.9.13"
  }
 },
 "nbformat": 4,
 "nbformat_minor": 4
}
