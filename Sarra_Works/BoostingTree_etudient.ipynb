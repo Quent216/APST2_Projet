{
 "cells": [
  {
   "cell_type": "markdown",
   "metadata": {},
   "source": [
    "# Boosting Trees"
   ]
  },
  {
   "cell_type": "code",
   "execution_count": 25,
   "metadata": {
    "scrolled": true
   },
   "outputs": [],
   "source": [
    "%matplotlib inline\n",
    "from pylab import *\n",
    "import pandas as pd\n",
    "from sklearn import preprocessing \n",
    "from sklearn.model_selection import train_test_split\n",
    "\n",
    "\n",
    "import warnings\n",
    "warnings.filterwarnings('ignore')"
   ]
  },
  {
   "cell_type": "markdown",
   "metadata": {},
   "source": [
    "## Gradient Boosting "
   ]
  },
  {
   "cell_type": "markdown",
   "metadata": {},
   "source": [
    "Commencons par ajuster un regresseur par gradient boosting sur des familles d'arbres."
   ]
  },
  {
   "cell_type": "code",
   "execution_count": 3,
   "metadata": {},
   "outputs": [],
   "source": [
    "from sklearn.tree import DecisionTreeRegressor"
   ]
  },
  {
   "cell_type": "markdown",
   "metadata": {},
   "source": [
    "####  Préparation des données housing"
   ]
  },
  {
   "cell_type": "code",
   "execution_count": 4,
   "metadata": {
    "scrolled": true
   },
   "outputs": [],
   "source": [
    "from sklearn.datasets import fetch_california_housing\n",
    "california_housing = fetch_california_housing(as_frame=True)"
   ]
  },
  {
   "cell_type": "code",
   "execution_count": 6,
   "metadata": {},
   "outputs": [
    {
     "name": "stdout",
     "output_type": "stream",
     "text": [
      ".. _california_housing_dataset:\n",
      "\n",
      "California Housing dataset\n",
      "--------------------------\n",
      "\n",
      "**Data Set Characteristics:**\n",
      "\n",
      "    :Number of Instances: 20640\n",
      "\n",
      "    :Number of Attributes: 8 numeric, predictive attributes and the target\n",
      "\n",
      "    :Attribute Information:\n",
      "        - MedInc        median income in block group\n",
      "        - HouseAge      median house age in block group\n",
      "        - AveRooms      average number of rooms per household\n",
      "        - AveBedrms     average number of bedrooms per household\n",
      "        - Population    block group population\n",
      "        - AveOccup      average number of household members\n",
      "        - Latitude      block group latitude\n",
      "        - Longitude     block group longitude\n",
      "\n",
      "    :Missing Attribute Values: None\n",
      "\n",
      "This dataset was obtained from the StatLib repository.\n",
      "https://www.dcc.fc.up.pt/~ltorgo/Regression/cal_housing.html\n",
      "\n",
      "The target variable is the median house value for California districts,\n",
      "expressed in hundreds of thousands of dollars ($100,000).\n",
      "\n",
      "This dataset was derived from the 1990 U.S. census, using one row per census\n",
      "block group. A block group is the smallest geographical unit for which the U.S.\n",
      "Census Bureau publishes sample data (a block group typically has a population\n",
      "of 600 to 3,000 people).\n",
      "\n",
      "An household is a group of people residing within a home. Since the average\n",
      "number of rooms and bedrooms in this dataset are provided per household, these\n",
      "columns may take surpinsingly large values for block groups with few households\n",
      "and many empty houses, such as vacation resorts.\n",
      "\n",
      "It can be downloaded/loaded using the\n",
      ":func:`sklearn.datasets.fetch_california_housing` function.\n",
      "\n",
      ".. topic:: References\n",
      "\n",
      "    - Pace, R. Kelley and Ronald Barry, Sparse Spatial Autoregressions,\n",
      "      Statistics and Probability Letters, 33 (1997) 291-297\n",
      "\n"
     ]
    }
   ],
   "source": [
    "print(california_housing.DESCR)"
   ]
  },
  {
   "cell_type": "code",
   "execution_count": 7,
   "metadata": {},
   "outputs": [
    {
     "data": {
      "text/html": [
       "<div>\n",
       "<style scoped>\n",
       "    .dataframe tbody tr th:only-of-type {\n",
       "        vertical-align: middle;\n",
       "    }\n",
       "\n",
       "    .dataframe tbody tr th {\n",
       "        vertical-align: top;\n",
       "    }\n",
       "\n",
       "    .dataframe thead th {\n",
       "        text-align: right;\n",
       "    }\n",
       "</style>\n",
       "<table border=\"1\" class=\"dataframe\">\n",
       "  <thead>\n",
       "    <tr style=\"text-align: right;\">\n",
       "      <th></th>\n",
       "      <th>MedInc</th>\n",
       "      <th>HouseAge</th>\n",
       "      <th>AveRooms</th>\n",
       "      <th>AveBedrms</th>\n",
       "      <th>Population</th>\n",
       "      <th>AveOccup</th>\n",
       "      <th>Latitude</th>\n",
       "      <th>Longitude</th>\n",
       "    </tr>\n",
       "  </thead>\n",
       "  <tbody>\n",
       "    <tr>\n",
       "      <th>0</th>\n",
       "      <td>8.3252</td>\n",
       "      <td>41.0</td>\n",
       "      <td>6.984127</td>\n",
       "      <td>1.023810</td>\n",
       "      <td>322.0</td>\n",
       "      <td>2.555556</td>\n",
       "      <td>37.88</td>\n",
       "      <td>-122.23</td>\n",
       "    </tr>\n",
       "    <tr>\n",
       "      <th>1</th>\n",
       "      <td>8.3014</td>\n",
       "      <td>21.0</td>\n",
       "      <td>6.238137</td>\n",
       "      <td>0.971880</td>\n",
       "      <td>2401.0</td>\n",
       "      <td>2.109842</td>\n",
       "      <td>37.86</td>\n",
       "      <td>-122.22</td>\n",
       "    </tr>\n",
       "    <tr>\n",
       "      <th>2</th>\n",
       "      <td>7.2574</td>\n",
       "      <td>52.0</td>\n",
       "      <td>8.288136</td>\n",
       "      <td>1.073446</td>\n",
       "      <td>496.0</td>\n",
       "      <td>2.802260</td>\n",
       "      <td>37.85</td>\n",
       "      <td>-122.24</td>\n",
       "    </tr>\n",
       "    <tr>\n",
       "      <th>3</th>\n",
       "      <td>5.6431</td>\n",
       "      <td>52.0</td>\n",
       "      <td>5.817352</td>\n",
       "      <td>1.073059</td>\n",
       "      <td>558.0</td>\n",
       "      <td>2.547945</td>\n",
       "      <td>37.85</td>\n",
       "      <td>-122.25</td>\n",
       "    </tr>\n",
       "    <tr>\n",
       "      <th>4</th>\n",
       "      <td>3.8462</td>\n",
       "      <td>52.0</td>\n",
       "      <td>6.281853</td>\n",
       "      <td>1.081081</td>\n",
       "      <td>565.0</td>\n",
       "      <td>2.181467</td>\n",
       "      <td>37.85</td>\n",
       "      <td>-122.25</td>\n",
       "    </tr>\n",
       "  </tbody>\n",
       "</table>\n",
       "</div>"
      ],
      "text/plain": [
       "   MedInc  HouseAge  AveRooms  AveBedrms  Population  AveOccup  Latitude  \\\n",
       "0  8.3252      41.0  6.984127   1.023810       322.0  2.555556     37.88   \n",
       "1  8.3014      21.0  6.238137   0.971880      2401.0  2.109842     37.86   \n",
       "2  7.2574      52.0  8.288136   1.073446       496.0  2.802260     37.85   \n",
       "3  5.6431      52.0  5.817352   1.073059       558.0  2.547945     37.85   \n",
       "4  3.8462      52.0  6.281853   1.081081       565.0  2.181467     37.85   \n",
       "\n",
       "   Longitude  \n",
       "0    -122.23  \n",
       "1    -122.22  \n",
       "2    -122.24  \n",
       "3    -122.25  \n",
       "4    -122.25  "
      ]
     },
     "execution_count": 7,
     "metadata": {},
     "output_type": "execute_result"
    }
   ],
   "source": [
    "california_housing.data.head()"
   ]
  },
  {
   "cell_type": "code",
   "execution_count": 8,
   "metadata": {
    "scrolled": true
   },
   "outputs": [
    {
     "name": "stdout",
     "output_type": "stream",
     "text": [
      "(20640, 8)\n"
     ]
    }
   ],
   "source": [
    "X_housing = california_housing.data\n",
    "Y_housing = california_housing.target\n",
    "print(shape(X_housing))"
   ]
  },
  {
   "cell_type": "markdown",
   "metadata": {},
   "source": [
    "Pour éviter que les temps de calcul soient trop longs, nous allons travailler avec un sous échantillon:"
   ]
  },
  {
   "cell_type": "code",
   "execution_count": 9,
   "metadata": {},
   "outputs": [],
   "source": [
    "from sklearn.utils import resample\n",
    "X_housing, Y_housing  = resample(X_housing,Y_housing, n_samples = 2000, replace = False)"
   ]
  },
  {
   "cell_type": "markdown",
   "metadata": {},
   "source": [
    "Découpage train / test :"
   ]
  },
  {
   "cell_type": "code",
   "execution_count": 10,
   "metadata": {
    "scrolled": true
   },
   "outputs": [],
   "source": [
    "X_housing_train, X_housing_test, y_housing_train, y_housing_test = \\\n",
    "train_test_split(X_housing,Y_housing,test_size=0.5)"
   ]
  },
  {
   "cell_type": "markdown",
   "metadata": {},
   "source": [
    "####  Fonctions Gradient Boosting de sckit-learn"
   ]
  },
  {
   "cell_type": "markdown",
   "metadata": {},
   "source": [
    "Importation des fonctions Gradient Boosting de sckit-learn et de la fonction `mean_squared_error` pour le calcul des erreurs quadratique moyennes."
   ]
  },
  {
   "cell_type": "code",
   "execution_count": 11,
   "metadata": {},
   "outputs": [],
   "source": [
    "from sklearn.ensemble import GradientBoostingRegressor\n",
    "from sklearn.metrics import mean_squared_error"
   ]
  },
  {
   "cell_type": "markdown",
   "metadata": {},
   "source": [
    "Nous ajustons maintenant un modèle GBM avec les paramètres proposés ci-dessous.\n",
    "\n",
    "> Retrouver la signification de chacun des paramètres."
   ]
  },
  {
   "cell_type": "code",
   "execution_count": 12,
   "metadata": {},
   "outputs": [
    {
     "name": "stdout",
     "output_type": "stream",
     "text": [
      "GradientBoostingRegressor(learning_rate=0.05, max_depth=8, min_samples_split=4,\n",
      "                          n_estimators=1000)\n"
     ]
    }
   ],
   "source": [
    "GBM = GradientBoostingRegressor(n_estimators=1000,\n",
    "                                         max_depth=8,\n",
    "                                         min_samples_split= 4,\n",
    "                                         learning_rate=0.05,\n",
    "                                         loss='squared_error')\n",
    "\n",
    "print(GBM)"
   ]
  },
  {
   "cell_type": "markdown",
   "metadata": {},
   "source": [
    "+ n_estimators : ###TO DO ### ?\n",
    "+ learning_rate =  ###TO DO ###?\n",
    "+ loss : ###TO DO ### ?\n",
    "+ max_depth : ###TO DO ### ?\n",
    "+ min_samples_split  : ###TO DO ### ?"
   ]
  },
  {
   "cell_type": "markdown",
   "metadata": {},
   "source": [
    "Pour calculer l'erreur mse sur le test (aussi appelée deviance dans la doc) :"
   ]
  },
  {
   "cell_type": "code",
   "execution_count": 13,
   "metadata": {},
   "outputs": [
    {
     "name": "stdout",
     "output_type": "stream",
     "text": [
      "0.4487926292138901\n"
     ]
    }
   ],
   "source": [
    "GBM.fit(X_housing_train, y_housing_train)\n",
    "mse = mean_squared_error(y_housing_test, GBM.predict(X_housing_test))\n",
    "print(mse)"
   ]
  },
  {
   "cell_type": "markdown",
   "metadata": {},
   "source": [
    "Attention : le score renvoyé ci-dessous est un $R^2$ i.e. variance expliquée par le prédicteur / variance totale de $Y$, voir [ici](https://scikit-learn.org/stable/modules/model_evaluation.html#r2-score-the-coefficient-of-determination)."
   ]
  },
  {
   "cell_type": "code",
   "execution_count": 14,
   "metadata": {},
   "outputs": [
    {
     "name": "stdout",
     "output_type": "stream",
     "text": [
      "0.647041562313992\n"
     ]
    }
   ],
   "source": [
    "print(GBM.score(X_housing_test, y_housing_test))"
   ]
  },
  {
   "cell_type": "markdown",
   "metadata": {},
   "source": [
    "Quelques principes à retenir:\n",
    "+ Plus on ajuste d'arbres, plus le cout computationnel est élevé.\n",
    "+ le nombre d'arbres correspond au nombre d'itérations.\n",
    "+ Un taux d'apprentissage petit nécessitera plus d'arbres.\n",
    "+ Un taux d'apprentissage trop élevé fera des sauts de gradients potentiellement trop grands, et au bout d'un certain nombre d'itérations il sera  difficile d'améliorer les scores.\n",
    "+ Une bonne pratique consiste à choisir d'abord un taux d'apprentissage pas trop faible (pour ne pas faire exploser le nombre d'arbres) et à le diminuer ensuite, une fois ajustés les autres paramètres (nb de noeuds, profondeur ...)."
   ]
  },
  {
   "cell_type": "markdown",
   "metadata": {},
   "source": [
    "#### Etude des erreurs le long des itérations -  learning rate"
   ]
  },
  {
   "cell_type": "markdown",
   "metadata": {},
   "source": [
    "Nous allons maintenant étudier l'évolution de la perte en fonction du nombre d'itérations.\n",
    "\n",
    "Noter que l'erreur d'apprentissage est accessible dans GBM:"
   ]
  },
  {
   "cell_type": "code",
   "execution_count": 15,
   "metadata": {},
   "outputs": [
    {
     "name": "stdout",
     "output_type": "stream",
     "text": [
      "[1.24110763e+00 1.13242673e+00 1.03441586e+00 9.45674196e-01\n",
      " 8.65066591e-01 7.91901633e-01 7.25026513e-01 6.64785070e-01\n",
      " 6.10040280e-01 5.60414394e-01 5.14015719e-01 4.73392992e-01\n",
      " 4.35233650e-01 4.01087162e-01 3.69566538e-01 3.41556201e-01\n",
      " 3.15205246e-01 2.91517823e-01 2.70246309e-01 2.49719328e-01\n",
      " 2.32166096e-01 2.14726767e-01 1.98548674e-01 1.82905503e-01\n",
      " 1.69205296e-01 1.56119138e-01 1.45545358e-01 1.34823684e-01\n",
      " 1.25520284e-01 1.17325714e-01 1.09472089e-01 1.02050673e-01\n",
      " 9.50943464e-02 8.85734172e-02 8.28458607e-02 7.72640710e-02\n",
      " 7.21841528e-02 6.76471468e-02 6.35531150e-02 5.96803391e-02\n",
      " 5.60379853e-02 5.29880941e-02 4.97338229e-02 4.66822730e-02\n",
      " 4.40742018e-02 4.17255884e-02 3.93874926e-02 3.75187591e-02\n",
      " 3.54949818e-02 3.37825321e-02 3.20586207e-02 3.02709070e-02\n",
      " 2.88791662e-02 2.74346917e-02 2.60808664e-02 2.48790830e-02\n",
      " 2.38588931e-02 2.27282312e-02 2.16087310e-02 2.06909125e-02\n",
      " 1.97862645e-02 1.90165555e-02 1.83125896e-02 1.75630099e-02\n",
      " 1.67868395e-02 1.62049189e-02 1.55346729e-02 1.50073817e-02\n",
      " 1.44875824e-02 1.39528769e-02 1.34395744e-02 1.29389050e-02\n",
      " 1.25346764e-02 1.20596863e-02 1.15939902e-02 1.11201384e-02\n",
      " 1.07760848e-02 1.04867359e-02 1.00956545e-02 9.60759704e-03\n",
      " 9.27114623e-03 8.95814911e-03 8.74432397e-03 8.46834175e-03\n",
      " 8.13022262e-03 7.88305944e-03 7.70968282e-03 7.36861606e-03\n",
      " 7.23186931e-03 7.10791767e-03 6.90832404e-03 6.64840252e-03\n",
      " 6.52570760e-03 6.42508296e-03 6.22220068e-03 6.07434455e-03\n",
      " 5.94305225e-03 5.77328370e-03 5.56162962e-03 5.39796421e-03\n",
      " 5.29576095e-03 5.18238856e-03 5.07289274e-03 4.94773531e-03\n",
      " 4.73213655e-03 4.52834477e-03 4.37844477e-03 4.27495142e-03\n",
      " 4.18848317e-03 4.06299172e-03 3.99643358e-03 3.88631881e-03\n",
      " 3.77280333e-03 3.68062083e-03 3.62529409e-03 3.56816991e-03\n",
      " 3.51217444e-03 3.46981352e-03 3.35248936e-03 3.32030930e-03\n",
      " 3.22501845e-03 3.13924121e-03 3.08021095e-03 3.04778722e-03\n",
      " 2.97229568e-03 2.92129301e-03 2.88004563e-03 2.82676408e-03\n",
      " 2.73112198e-03 2.68515921e-03 2.64111870e-03 2.57619653e-03\n",
      " 2.51774906e-03 2.48443015e-03 2.43032900e-03 2.37878528e-03\n",
      " 2.35267620e-03 2.29662497e-03 2.28551568e-03 2.23541952e-03\n",
      " 2.21023359e-03 2.18430314e-03 2.13404941e-03 2.09027587e-03\n",
      " 2.04494405e-03 2.01677785e-03 2.01242818e-03 1.98110470e-03\n",
      " 1.96941026e-03 1.92920296e-03 1.89359816e-03 1.84442128e-03\n",
      " 1.83215688e-03 1.79336353e-03 1.76840309e-03 1.73815162e-03\n",
      " 1.71839830e-03 1.69350263e-03 1.65374767e-03 1.64124390e-03\n",
      " 1.62471005e-03 1.59617225e-03 1.58481035e-03 1.53533653e-03\n",
      " 1.51263677e-03 1.48296799e-03 1.46572534e-03 1.43837945e-03\n",
      " 1.43541773e-03 1.41884762e-03 1.39140391e-03 1.37287615e-03\n",
      " 1.33416018e-03 1.32483265e-03 1.27632814e-03 1.26409216e-03\n",
      " 1.22075142e-03 1.17747624e-03 1.16648567e-03 1.15371391e-03\n",
      " 1.12205540e-03 1.08880712e-03 1.06540304e-03 1.02595171e-03\n",
      " 1.02153189e-03 9.84852796e-04 9.63203225e-04 9.56419269e-04\n",
      " 9.22250849e-04 9.14837954e-04 8.84513876e-04 8.58601529e-04\n",
      " 8.45493584e-04 8.20083879e-04 8.06415511e-04 8.01412854e-04\n",
      " 7.81758138e-04 7.75926016e-04 7.73060975e-04 7.59383841e-04\n",
      " 7.52279348e-04 7.41940191e-04 7.30347154e-04 7.24031453e-04\n",
      " 7.18212993e-04 7.13614550e-04 6.93998035e-04 6.88596170e-04\n",
      " 6.71430508e-04 6.66361782e-04 6.61672752e-04 6.55854040e-04\n",
      " 6.52509785e-04 6.34482937e-04 6.13171222e-04 6.08605304e-04\n",
      " 5.90326421e-04 5.83846232e-04 5.63340546e-04 5.57455734e-04\n",
      " 5.50980158e-04 5.43006605e-04 5.33734702e-04 5.30128317e-04\n",
      " 5.23438372e-04 5.09960593e-04 5.03775158e-04 4.90966696e-04\n",
      " 4.85691266e-04 4.78090903e-04 4.58414028e-04 4.50664214e-04\n",
      " 4.42061558e-04 4.28609863e-04 4.25213742e-04 4.16501519e-04\n",
      " 4.01164640e-04 3.99221307e-04 3.93720941e-04 3.83408290e-04\n",
      " 3.69829492e-04 3.64220415e-04 3.60882070e-04 3.49905160e-04\n",
      " 3.44127914e-04 3.39623800e-04 3.29287056e-04 3.22800697e-04\n",
      " 3.12380765e-04 3.02852760e-04 3.00923028e-04 2.99630809e-04\n",
      " 2.90762005e-04 2.83768669e-04 2.74055345e-04 2.66605284e-04\n",
      " 2.60151814e-04 2.56215169e-04 2.52174780e-04 2.47751180e-04\n",
      " 2.45425906e-04 2.43258830e-04 2.39070267e-04 2.36092442e-04\n",
      " 2.30802985e-04 2.25709181e-04 2.18512040e-04 2.17015990e-04\n",
      " 2.15996334e-04 2.14643889e-04 2.10291321e-04 2.05682505e-04\n",
      " 2.03437683e-04 2.02704868e-04 1.98021620e-04 1.93865031e-04\n",
      " 1.92217749e-04 1.90200027e-04 1.88659727e-04 1.85628059e-04\n",
      " 1.83543944e-04 1.82593104e-04 1.79599837e-04 1.76116617e-04\n",
      " 1.73379478e-04 1.70285418e-04 1.68937550e-04 1.67154700e-04\n",
      " 1.66356528e-04 1.64454384e-04 1.60171877e-04 1.57739570e-04\n",
      " 1.55549877e-04 1.51356126e-04 1.49779805e-04 1.46256467e-04\n",
      " 1.44952851e-04 1.43768863e-04 1.40515469e-04 1.37479879e-04\n",
      " 1.33996497e-04 1.32112769e-04 1.30768397e-04 1.30269838e-04\n",
      " 1.27398516e-04 1.25366639e-04 1.24387256e-04 1.22378409e-04\n",
      " 1.19719828e-04 1.19152618e-04 1.18563913e-04 1.15601870e-04\n",
      " 1.15116440e-04 1.13899607e-04 1.11882682e-04 1.10519430e-04\n",
      " 1.09467970e-04 1.07635046e-04 1.06490554e-04 1.04265378e-04\n",
      " 1.02646039e-04 1.00105487e-04 9.88523790e-05 9.73281519e-05\n",
      " 9.53463675e-05 9.33020567e-05 9.14502016e-05 8.97771570e-05\n",
      " 8.72352177e-05 8.69894399e-05 8.49916519e-05 8.42162813e-05\n",
      " 8.31694345e-05 8.25367619e-05 8.18774955e-05 8.07848002e-05\n",
      " 7.89637949e-05 7.85502680e-05 7.65584501e-05 7.50230317e-05\n",
      " 7.35118667e-05 7.17428885e-05 7.01341727e-05 6.87492650e-05\n",
      " 6.75784604e-05 6.64372280e-05 6.53407580e-05 6.39210618e-05\n",
      " 6.24323793e-05 6.11129971e-05 5.96114947e-05 5.88907369e-05\n",
      " 5.76677532e-05 5.66636543e-05 5.50713526e-05 5.43360409e-05\n",
      " 5.36031078e-05 5.20237803e-05 5.13323450e-05 5.09220339e-05\n",
      " 4.98328920e-05 4.93051413e-05 4.90502724e-05 4.84261015e-05\n",
      " 4.78629516e-05 4.76977665e-05 4.63652098e-05 4.60093291e-05\n",
      " 4.52745380e-05 4.46141772e-05 4.38281632e-05 4.28071823e-05\n",
      " 4.26728589e-05 4.16259377e-05 4.11896302e-05 4.10349448e-05\n",
      " 4.04171706e-05 3.90690762e-05 3.83677791e-05 3.79938343e-05\n",
      " 3.71837798e-05 3.66959414e-05 3.60395100e-05 3.53817492e-05\n",
      " 3.50303587e-05 3.45206539e-05 3.42701018e-05 3.39530854e-05\n",
      " 3.35383311e-05 3.31321709e-05 3.29062589e-05 3.21111060e-05\n",
      " 3.15821847e-05 3.12037634e-05 3.11208918e-05 3.06546438e-05\n",
      " 3.02605756e-05 2.98187750e-05 2.94474565e-05 2.88900713e-05\n",
      " 2.84982530e-05 2.79744996e-05 2.75688229e-05 2.71070086e-05\n",
      " 2.69011056e-05 2.67470607e-05 2.63116035e-05 2.59828953e-05\n",
      " 2.56299653e-05 2.50691588e-05 2.45267537e-05 2.41588401e-05\n",
      " 2.37322577e-05 2.31538788e-05 2.28460786e-05 2.25377153e-05\n",
      " 2.20001415e-05 2.14077055e-05 2.11182333e-05 2.07344048e-05\n",
      " 2.01905890e-05 1.96337544e-05 1.94988578e-05 1.90827631e-05\n",
      " 1.85402556e-05 1.82654084e-05 1.77598186e-05 1.76084809e-05\n",
      " 1.72306818e-05 1.71269259e-05 1.69550800e-05 1.65546342e-05\n",
      " 1.64516777e-05 1.59997615e-05 1.58249529e-05 1.53996519e-05\n",
      " 1.50912422e-05 1.49518819e-05 1.47605224e-05 1.45395249e-05\n",
      " 1.43501409e-05 1.42966196e-05 1.41460211e-05 1.37434545e-05\n",
      " 1.35315435e-05 1.34552259e-05 1.32283045e-05 1.30491736e-05\n",
      " 1.29375009e-05 1.28272711e-05 1.26754195e-05 1.22920891e-05\n",
      " 1.22106292e-05 1.20356811e-05 1.18539694e-05 1.17153866e-05\n",
      " 1.16380655e-05 1.14682625e-05 1.14113090e-05 1.12616118e-05\n",
      " 1.11080129e-05 1.09354117e-05 1.08093455e-05 1.07429740e-05\n",
      " 1.06977056e-05 1.05998636e-05 1.05385111e-05 1.05189844e-05\n",
      " 1.04347041e-05 1.01163138e-05 9.86049493e-06 9.53198736e-06\n",
      " 9.47191047e-06 9.36749527e-06 9.25230855e-06 9.18576948e-06\n",
      " 8.97768925e-06 8.73989138e-06 8.63253672e-06 8.48972525e-06\n",
      " 8.44383985e-06 8.29343452e-06 8.10043278e-06 8.00467690e-06\n",
      " 7.96084418e-06 7.84129084e-06 7.61705441e-06 7.47065775e-06\n",
      " 7.26804746e-06 7.18829537e-06 7.08925535e-06 7.00171507e-06\n",
      " 6.89197022e-06 6.74030112e-06 6.67661105e-06 6.48839730e-06\n",
      " 6.32988563e-06 6.20017071e-06 6.01382536e-06 5.90285954e-06\n",
      " 5.84146792e-06 5.77252460e-06 5.66153359e-06 5.52361836e-06\n",
      " 5.37050450e-06 5.32306972e-06 5.25851257e-06 5.18687051e-06\n",
      " 5.14254695e-06 5.02528203e-06 4.90222702e-06 4.83494405e-06\n",
      " 4.72806840e-06 4.68982846e-06 4.57854815e-06 4.50088584e-06\n",
      " 4.45192427e-06 4.40650198e-06 4.37149028e-06 4.27268522e-06\n",
      " 4.21946109e-06 4.17402786e-06 4.12401385e-06 4.09077410e-06\n",
      " 3.99935554e-06 3.93081180e-06 3.88536296e-06 3.81547858e-06\n",
      " 3.77291926e-06 3.71797156e-06 3.66128774e-06 3.63417973e-06\n",
      " 3.59522502e-06 3.52986607e-06 3.43706548e-06 3.40862533e-06\n",
      " 3.33459502e-06 3.26767366e-06 3.24555273e-06 3.22290844e-06\n",
      " 3.15270530e-06 3.10827918e-06 3.02587046e-06 2.94951623e-06\n",
      " 2.92962432e-06 2.80887100e-06 2.77085735e-06 2.73444592e-06\n",
      " 2.72929422e-06 2.70802909e-06 2.67414015e-06 2.58473067e-06\n",
      " 2.52224594e-06 2.48743703e-06 2.45283971e-06 2.42495377e-06\n",
      " 2.33217121e-06 2.31988603e-06 2.31421857e-06 2.28652808e-06\n",
      " 2.21785444e-06 2.19520378e-06 2.18241766e-06 2.16426087e-06\n",
      " 2.14955123e-06 2.09534204e-06 2.05338471e-06 2.04226089e-06\n",
      " 2.00463402e-06 1.98941213e-06 1.97661905e-06 1.95399625e-06\n",
      " 1.94173855e-06 1.93234004e-06 1.87804354e-06 1.84566158e-06\n",
      " 1.83182640e-06 1.80889568e-06 1.78022179e-06 1.76335010e-06\n",
      " 1.75288111e-06 1.73471810e-06 1.68834518e-06 1.66582206e-06\n",
      " 1.65614779e-06 1.64033149e-06 1.63083221e-06 1.59250767e-06\n",
      " 1.58561910e-06 1.56348412e-06 1.55202738e-06 1.53786334e-06\n",
      " 1.51273096e-06 1.47562667e-06 1.45600615e-06 1.44821408e-06\n",
      " 1.43314482e-06 1.39377432e-06 1.37915217e-06 1.37287389e-06\n",
      " 1.35939313e-06 1.32914039e-06 1.31695607e-06 1.31013314e-06\n",
      " 1.29198983e-06 1.25464374e-06 1.24532784e-06 1.22376077e-06\n",
      " 1.20062355e-06 1.17753502e-06 1.15833449e-06 1.15131947e-06\n",
      " 1.13550347e-06 1.11839258e-06 1.08965040e-06 1.07203887e-06\n",
      " 1.05566832e-06 1.04931263e-06 1.03455736e-06 1.02124152e-06\n",
      " 1.01558773e-06 1.00140009e-06 9.85942076e-07 9.75844499e-07\n",
      " 9.56370221e-07 9.51449668e-07 9.26508301e-07 9.19915006e-07\n",
      " 9.04957120e-07 8.97819991e-07 8.80581613e-07 8.68931327e-07\n",
      " 8.61731864e-07 8.51389984e-07 8.39278715e-07 8.29644906e-07\n",
      " 8.23216723e-07 8.09723394e-07 7.99734185e-07 7.87356914e-07\n",
      " 7.81260248e-07 7.76457836e-07 7.65734868e-07 7.61475214e-07\n",
      " 7.55490101e-07 7.47699697e-07 7.36597372e-07 7.31006993e-07\n",
      " 7.18703959e-07 7.12476107e-07 7.03228392e-07 6.98186072e-07\n",
      " 6.79627728e-07 6.68529117e-07 6.61496940e-07 6.51089160e-07\n",
      " 6.33321705e-07 6.29086859e-07 6.21921145e-07 6.11489560e-07\n",
      " 6.02908400e-07 5.94052774e-07 5.85659188e-07 5.80891030e-07\n",
      " 5.75079452e-07 5.68836619e-07 5.62335037e-07 5.55092026e-07\n",
      " 5.49245327e-07 5.42927563e-07 5.36024441e-07 5.30752262e-07\n",
      " 5.25571541e-07 5.18698853e-07 5.11205690e-07 5.05284677e-07\n",
      " 4.99396064e-07 4.94145792e-07 4.78664441e-07 4.74513024e-07\n",
      " 4.71273835e-07 4.66488075e-07 4.51032591e-07 4.47925328e-07\n",
      " 4.45356472e-07 4.41098547e-07 4.27096850e-07 4.23204956e-07\n",
      " 4.21816389e-07 4.18457563e-07 4.17147732e-07 4.04570386e-07\n",
      " 4.01281647e-07 3.99523316e-07 3.93716442e-07 3.91440670e-07\n",
      " 3.88452258e-07 3.84466250e-07 3.83301926e-07 3.72198496e-07\n",
      " 3.68970049e-07 3.64359180e-07 3.58581671e-07 3.55592372e-07\n",
      " 3.47393390e-07 3.43476200e-07 3.40241779e-07 3.36859460e-07\n",
      " 3.32184842e-07 3.28134452e-07 3.26161903e-07 3.16900107e-07\n",
      " 3.13768460e-07 3.10716452e-07 3.09129116e-07 3.06369858e-07\n",
      " 3.05168279e-07 3.03661324e-07 3.00984140e-07 2.94444509e-07\n",
      " 2.91056326e-07 2.87531335e-07 2.84598074e-07 2.79516319e-07\n",
      " 2.77290918e-07 2.74075295e-07 2.71906200e-07 2.70008382e-07\n",
      " 2.65529975e-07 2.63499759e-07 2.57188569e-07 2.50787468e-07\n",
      " 2.48798127e-07 2.45427597e-07 2.41127462e-07 2.39139561e-07\n",
      " 2.35279041e-07 2.34286802e-07 2.30725064e-07 2.28023535e-07\n",
      " 2.26186667e-07 2.23331262e-07 2.21209384e-07 2.19019846e-07\n",
      " 2.16197613e-07 2.15002057e-07 2.14204030e-07 2.13260516e-07\n",
      " 2.11000138e-07 2.09242875e-07 2.05781297e-07 2.04622657e-07\n",
      " 2.02920444e-07 1.98708381e-07 1.92303282e-07 1.90435470e-07\n",
      " 1.87824290e-07 1.84290826e-07 1.83027475e-07 1.81833853e-07\n",
      " 1.76341528e-07 1.75111629e-07 1.70006193e-07 1.68541025e-07\n",
      " 1.66116809e-07 1.65194949e-07 1.59234417e-07 1.56784218e-07\n",
      " 1.54759035e-07 1.52525751e-07 1.50718392e-07 1.49439828e-07\n",
      " 1.48441436e-07 1.47260267e-07 1.46529510e-07 1.45347005e-07\n",
      " 1.43990001e-07 1.41727072e-07 1.40637304e-07 1.40264080e-07\n",
      " 1.38872784e-07 1.35044398e-07 1.33101405e-07 1.31655066e-07\n",
      " 1.30649906e-07 1.28960646e-07 1.28048709e-07 1.27284490e-07\n",
      " 1.26343565e-07 1.25751643e-07 1.24591802e-07 1.22978659e-07\n",
      " 1.22309437e-07 1.21014392e-07 1.19447634e-07 1.17139535e-07\n",
      " 1.15851446e-07 1.14914582e-07 1.13892509e-07 1.12746981e-07\n",
      " 1.11898542e-07 1.09476382e-07 1.08312063e-07 1.07738974e-07\n",
      " 1.06730815e-07 1.05707654e-07 1.04498162e-07 1.03996494e-07\n",
      " 1.03078103e-07 1.02545606e-07 1.00959211e-07 9.89925323e-08\n",
      " 9.78490090e-08 9.61897211e-08 9.43853267e-08 9.40098486e-08\n",
      " 9.25186880e-08 9.00922167e-08 8.84077296e-08 8.64365115e-08\n",
      " 8.49693413e-08 8.40282556e-08 8.30877075e-08 8.14821497e-08\n",
      " 8.06202957e-08 8.03053305e-08 7.87644000e-08 7.79712287e-08\n",
      " 7.71521983e-08 7.62748157e-08 7.57595992e-08 7.49047001e-08\n",
      " 7.40955054e-08 7.24516645e-08 7.09159782e-08 7.00741123e-08\n",
      " 6.94705815e-08 6.80131638e-08 6.74808120e-08 6.61936703e-08\n",
      " 6.56248403e-08 6.49360790e-08 6.37640049e-08 6.31080724e-08\n",
      " 6.16922297e-08 6.12492423e-08 6.07094320e-08 6.02596804e-08\n",
      " 5.97383685e-08 5.87624943e-08 5.68240061e-08 5.57741481e-08\n",
      " 5.45107384e-08 5.34249810e-08 5.28977223e-08 5.25138161e-08\n",
      " 5.21752617e-08 5.14535285e-08 5.03236898e-08 4.98034521e-08\n",
      " 4.92485150e-08 4.86678972e-08 4.78932768e-08 4.70912335e-08\n",
      " 4.69279579e-08 4.59250671e-08 4.56033815e-08 4.54161662e-08\n",
      " 4.50875688e-08 4.47763695e-08 4.46058466e-08 4.40843707e-08\n",
      " 4.35497518e-08 4.33409646e-08 4.24572999e-08 4.15576709e-08\n",
      " 4.13057600e-08 4.06807072e-08 4.03110259e-08 3.99325155e-08\n",
      " 3.85874434e-08 3.80387357e-08 3.73411249e-08 3.71692351e-08\n",
      " 3.69098229e-08 3.65925394e-08 3.63688991e-08 3.60838465e-08\n",
      " 3.58809607e-08 3.55953791e-08 3.49977161e-08 3.45702225e-08\n",
      " 3.43784752e-08 3.40427987e-08 3.33899916e-08 3.28502185e-08\n",
      " 3.25112729e-08 3.11822034e-08 3.05466651e-08 3.02932897e-08\n",
      " 3.00228050e-08 2.89732006e-08 2.83999949e-08 2.81991371e-08\n",
      " 2.73244545e-08 2.70231874e-08 2.65884548e-08 2.55905049e-08\n",
      " 2.53820936e-08 2.50739996e-08 2.47480316e-08 2.42413439e-08\n",
      " 2.38485643e-08 2.30333273e-08 2.27484449e-08 2.23076260e-08\n",
      " 2.19197115e-08 2.17737609e-08 2.16713105e-08 2.13799939e-08\n",
      " 2.12513185e-08 2.10347897e-08 2.08790752e-08 2.06526062e-08\n",
      " 2.05062196e-08 2.03483212e-08 2.01887321e-08 2.00797981e-08\n",
      " 1.99250524e-08 1.97896091e-08 1.94810967e-08 1.90582457e-08\n",
      " 1.89885385e-08 1.87425626e-08 1.84690440e-08 1.81570649e-08\n",
      " 1.79018337e-08 1.76557491e-08 1.75985260e-08 1.73855421e-08\n",
      " 1.71033702e-08 1.67240405e-08 1.66114483e-08 1.64132404e-08\n",
      " 1.63425456e-08 1.62728949e-08 1.61729893e-08 1.60345653e-08\n",
      " 1.58626306e-08 1.57399041e-08 1.56775531e-08 1.55930726e-08\n",
      " 1.53929684e-08 1.51761319e-08 1.50395889e-08 1.49513530e-08\n",
      " 1.47356503e-08 1.44398871e-08 1.42764913e-08 1.41040206e-08\n",
      " 1.39248986e-08 1.37609868e-08 1.37005604e-08 1.35209389e-08\n",
      " 1.34187366e-08 1.32214034e-08 1.29634579e-08 1.29146660e-08\n",
      " 1.27670787e-08 1.26634587e-08 1.23117269e-08 1.22620742e-08\n",
      " 1.20425203e-08 1.18101494e-08 1.16696305e-08 1.15360126e-08\n",
      " 1.13893824e-08 1.12824800e-08 1.10529330e-08 1.09252911e-08\n",
      " 1.06719765e-08 1.04560377e-08 1.02583640e-08 1.01983677e-08\n",
      " 1.01426824e-08 9.95568829e-09 9.65755470e-09 9.52645473e-09\n",
      " 9.26987352e-09 9.09592668e-09 8.96297066e-09 8.88969374e-09\n",
      " 8.85222218e-09 8.67696930e-09 8.64337933e-09 8.39594531e-09\n",
      " 8.27787995e-09 8.22037418e-09 8.10774445e-09 7.99746301e-09]\n"
     ]
    }
   ],
   "source": [
    "print(GBM.train_score_)"
   ]
  },
  {
   "attachments": {},
   "cell_type": "markdown",
   "metadata": {},
   "source": [
    "Nous pouvons aussi tracer l'évolution de l'erreur de test mse (ou bien le score $R^2$) le long des itérations. En effet, pour retrouver tous les estimateurs temporaires à chaque étape de l'algo, il suffit de considérer la somme tronquée du prédicteur boosting final. \n",
    "> Utiliser les méthodes `staged_predict()` et `loss_()` de la classe `GradientBoostingRegressor` pour afficher l'erreur de test en fonction du nombre d'itérations. Comparer avec l'erreur sur le train. \n"
   ]
  },
  {
   "cell_type": "code",
   "execution_count": 19,
   "metadata": {},
   "outputs": [
    {
     "name": "stderr",
     "output_type": "stream",
     "text": [
      "c:\\Users\\sarra\\Anaconda3\\lib\\site-packages\\sklearn\\utils\\deprecation.py:101: FutureWarning: Attribute `loss_` was deprecated in version 1.1 and will be removed in 1.3.\n",
      "  warnings.warn(msg, category=FutureWarning)\n"
     ]
    }
   ],
   "source": [
    "test_score = []\n",
    "for y_pred in  GBM.staged_predict(X_housing_test):\n",
    "    test_score.append(GBM.loss_(y_pred, y_housing_test))\n",
    "#print (test_score)"
   ]
  },
  {
   "cell_type": "code",
   "execution_count": 20,
   "metadata": {},
   "outputs": [
    {
     "data": {
      "image/png": "[encoded data removed]",
      "text/plain": [
       "<Figure size 432x288 with 1 Axes>"
      ]
     },
     "metadata": {
      "needs_background": "light"
     },
     "output_type": "display_data"
    }
   ],
   "source": [
    "plt.plot(np.arange(GBM.n_estimators) + 1, GBM.train_score_, 'b-',\n",
    "         label='Training mse')\n",
    "plt.plot(np.arange(GBM.n_estimators) + 1, test_score, 'r-',\n",
    "         label='Test mse')\n",
    "plt.legend(loc='upper right')\n",
    "plt.xlabel('Boosting Iterations')\n",
    "plt.ylabel('mse');"
   ]
  },
  {
   "cell_type": "markdown",
   "metadata": {},
   "source": [
    "> Est-il ici pertinent de faire du \"early stopping\" i.e. considérer une somme tronquée du prédicteur boosting pour contrôler le sur-apprentissage ?"
   ]
  },
  {
   "attachments": {},
   "cell_type": "markdown",
   "metadata": {},
   "source": [
    "Ici, on regarde la courbe du \"Test MSE\" qui diminue parallèlement à la diminution du Training MSE\" ce qui est naturel. Donc, il n'y a pas besoin de faire du \"early stopping\". Après, on peut arrêter au bout de 100 itérations afin d'augmenter la performance du modèle."
   ]
  },
  {
   "cell_type": "markdown",
   "metadata": {},
   "source": [
    "> Superposer quelques trajectoires pour plusieurs valeurs du learning rate."
   ]
  },
  {
   "cell_type": "code",
   "execution_count": 26,
   "metadata": {},
   "outputs": [
    {
     "data": {
      "image/png": "[encoded data removed]",
      "text/plain": [
       "<Figure size 432x288 with 1 Axes>"
      ]
     },
     "metadata": {
      "needs_background": "light"
     },
     "output_type": "display_data"
    }
   ],
   "source": [
    "### TODO ###\n",
    "lr = [0.05, 0.1, 0.15, 0.2]\n",
    "GBM = []\n",
    "for i,l in enumerate(lr) :\n",
    "    GBM.append(GradientBoostingRegressor(n_estimators=1000,\n",
    "                                            max_depth=8,\n",
    "                                            min_samples_split= 4,\n",
    "                                            learning_rate= l,\n",
    "                                            loss='squared_error'))\n",
    "    GBM[i].fit(X_housing_train, y_housing_train)   \n",
    "\n",
    "    test_score = []\n",
    "    for y_pred in  GBM[i].staged_predict(X_housing_test):\n",
    "        test_score.append(GBM[i].loss_(y_pred, y_housing_test))\n",
    "    #dessin\n",
    "    plt.plot(np.arange(GBM[i].n_estimators) + 1, GBM[i].train_score_, 'b-',\n",
    "            label='Training mse'+str(i))\n",
    "    plt.plot(np.arange(GBM[i].n_estimators) + 1, test_score, 'r-',\n",
    "            label='Test mse'+str(i))\n",
    "    plt.legend(loc='upper right')\n",
    "    plt.xlabel('Boosting Iterations')\n",
    "    plt.ylabel('mse')\n",
    "    xlim(0,100)\n"
   ]
  },
  {
   "cell_type": "markdown",
   "metadata": {},
   "source": [
    "#### Choix des paramètres du GBM"
   ]
  },
  {
   "cell_type": "markdown",
   "metadata": {},
   "source": [
    "> Pour `n_estimators=300` et `learning_rate=0.1`, effectuer une recherche avec par `GridSearch()` pour choisir `max_depth` et  `min_samples_split`. Faire cette recherche en \"cross validant\" uniquement l'échantillon d'apprentissage de façon à garder des données pour évaluer les performances du modèle finalement sélectionné."
   ]
  },
  {
   "cell_type": "code",
   "execution_count": null,
   "metadata": {},
   "outputs": [],
   "source": [
    "max_depth_values= [2,4,6,8] \n",
    "min_samples_split_values= [2,3,4]\n",
    "\n",
    "import multiprocessing\n",
    "multiprocessing.cpu_count()"
   ]
  },
  {
   "cell_type": "code",
   "execution_count": null,
   "metadata": {},
   "outputs": [],
   "source": [
    "from sklearn.model_selection import GridSearchCV\n",
    "\n",
    "GBM = ### TODO ###\n",
    "param_grid = dict(m### TODO ###)\n",
    "grid_search = GridSearchCV(### TODO ###)\n",
    "grid_result = grid_search.fit(### TODO ###)"
   ]
  },
  {
   "cell_type": "code",
   "execution_count": null,
   "metadata": {},
   "outputs": [],
   "source": [
    "means = grid_result.cv_results_['mean_test_score']\n",
    "stds = grid_result.cv_results_['std_test_score']\n",
    "params = grid_result.cv_results_['params']\n",
    "for mean, stdev, param in zip(means, stds, params):\n",
    "    print(\"%f (%f) with: %r\" % (mean, stdev, param))"
   ]
  },
  {
   "cell_type": "markdown",
   "metadata": {},
   "source": [
    "> Une fois ces valeurs choisies, diminuer le learning rate et augmenter le nombre d'itérations pour essayer d'améliorer encore les performances."
   ]
  },
  {
   "cell_type": "code",
   "execution_count": null,
   "metadata": {},
   "outputs": [],
   "source": [
    "### TODO ###"
   ]
  },
  {
   "cell_type": "markdown",
   "metadata": {},
   "source": [
    "> Calculer le $R^2$ et l'erreur de test pour le modèle final"
   ]
  },
  {
   "cell_type": "code",
   "execution_count": null,
   "metadata": {},
   "outputs": [],
   "source": [
    "grid_result.best_estimator_.score(### TODO ###)"
   ]
  },
  {
   "cell_type": "code",
   "execution_count": null,
   "metadata": {},
   "outputs": [],
   "source": [
    "mean_squared_error(### TODO ###)"
   ]
  },
  {
   "cell_type": "markdown",
   "metadata": {},
   "source": [
    "#### Indices d'importance"
   ]
  },
  {
   "cell_type": "markdown",
   "metadata": {},
   "source": [
    "> Il est aussi possible de calculer des indices d'importances pour les GMB avec la méthode `feature_importances_`. Comparer les importances du modèle GMB obtenu avec celles obtenues précédemment pour les forêts aléatoires."
   ]
  },
  {
   "cell_type": "code",
   "execution_count": null,
   "metadata": {},
   "outputs": [],
   "source": [
    "GBMbest = grid_result.best_estimator_"
   ]
  },
  {
   "cell_type": "code",
   "execution_count": null,
   "metadata": {},
   "outputs": [],
   "source": [
    "# On commence ajuster le modele choisi sur toutes les données:\n",
    "GBMbest.fit(X_housing,Y_housing);"
   ]
  },
  {
   "cell_type": "code",
   "execution_count": null,
   "metadata": {},
   "outputs": [],
   "source": [
    "feature_importance = GBMbest.feature_importances_\n",
    "### TODO : affichage ###"
   ]
  },
  {
   "cell_type": "markdown",
   "metadata": {},
   "source": [
    "##  XGboost"
   ]
  },
  {
   "cell_type": "markdown",
   "metadata": {},
   "source": [
    "Si nécessaire, installer la librairie [`xgboost`](https://xgboost.readthedocs.io/en/latest/install.html). "
   ]
  },
  {
   "cell_type": "code",
   "execution_count": null,
   "metadata": {},
   "outputs": [],
   "source": [
    "from xgboost import XGBRegressor"
   ]
  },
  {
   "cell_type": "markdown",
   "metadata": {},
   "source": [
    "Nous allons utilser Xgboost avec pour classifieurs faibles des arbres (on pourait aussi utiliser aussi des modèles linéaires basés sur peu de variabes)."
   ]
  },
  {
   "cell_type": "markdown",
   "metadata": {},
   "source": [
    "Les paramètres de Xgboost, notamment pour les fonctions `XGBRegressor()` et `XGBClassifier()`, sont décrits dans [cette page](http://xgboost.readthedocs.io/en/latest/python/python_api.html#module-xgboost.sklearn). Elles sont similaires aux commdandes des fonctions de sckit-learn."
   ]
  },
  {
   "cell_type": "code",
   "execution_count": null,
   "metadata": {},
   "outputs": [],
   "source": [
    "XGBR = XGBRegressor()\n",
    "XGBR.fit(X_housing_train, y_housing_train)\n",
    "y_pred = XGBR.predict(X_housing_test)\n",
    "XGBR"
   ]
  },
  {
   "cell_type": "markdown",
   "metadata": {},
   "source": [
    "> Donner le score $R^2$ et l'erreur mse. Comparer avec GBM."
   ]
  },
  {
   "cell_type": "code",
   "execution_count": null,
   "metadata": {},
   "outputs": [],
   "source": []
  },
  {
   "cell_type": "markdown",
   "metadata": {},
   "source": [
    "Les remarques précedentes sur les reglages des paramètres de GBM sont encore vraies pour Xgboost. Il faut en plus ajuster les paramètres `alpha`  et `lambda` des termes de régularisation."
   ]
  },
  {
   "cell_type": "markdown",
   "metadata": {},
   "source": [
    "> Choisir les paramètres de Xgboost."
   ]
  },
  {
   "cell_type": "markdown",
   "metadata": {},
   "source": [
    "D'abord avec un learning rate pas trop faible."
   ]
  },
  {
   "cell_type": "code",
   "execution_count": null,
   "metadata": {},
   "outputs": [],
   "source": [
    "max_depth= [2,4,6,8] \n",
    "min_child_weight = [2,4]\n",
    "reg_alpha=  [0,0.1,1,2]\n",
    "reg_lambda = [0,0.1,1,2]\n",
    "### TODO ###"
   ]
  },
  {
   "cell_type": "markdown",
   "metadata": {},
   "source": [
    "Et maintenant avec des learning rates plus petits:"
   ]
  },
  {
   "cell_type": "code",
   "execution_count": null,
   "metadata": {},
   "outputs": [],
   "source": [
    "learning_rate = [0.001, 0.01,0.05]\n",
    "n_estimators = [100,500,1000]"
   ]
  },
  {
   "cell_type": "code",
   "execution_count": null,
   "metadata": {},
   "outputs": [],
   "source": [
    "### TODO ###"
   ]
  },
  {
   "cell_type": "code",
   "execution_count": null,
   "metadata": {
    "scrolled": true
   },
   "outputs": [],
   "source": [
    "### TODO : Graphe de la mse ###"
   ]
  },
  {
   "cell_type": "markdown",
   "metadata": {},
   "source": [
    " :"
   ]
  },
  {
   "cell_type": "markdown",
   "metadata": {},
   "source": [
    "## Implémentation du Boosting Regressor \n",
    "\n",
    "> Implémenter votre propore fonction Tree Boosting Regressor, on considérant la perte $\\ell_2$. On pourra pour cela, à chaque itération, \n",
    "ajuster un arbre de régression (de faible prodondeur) sur les résidus courants, à l'aide de la fonction `tree.DecisionTreeRegressor()` . L'étape 5 de l'Algorithme 6 \"Gradient Tree Boosting Regressor Algorithm\" donné en cours est-elle nécessaire dans ce contexte ? \n"
   ]
  },
  {
   "cell_type": "code",
   "execution_count": null,
   "metadata": {},
   "outputs": [],
   "source": [
    "### TODO ###"
   ]
  }
 ],
 "metadata": {
  "kernelspec": {
   "display_name": "base",
   "language": "python",
   "name": "python3"
  },
  "language_info": {
   "codemirror_mode": {
    "name": "ipython",
    "version": 3
   },
   "file_extension": ".py",
   "mimetype": "text/x-python",
   "name": "python",
   "nbconvert_exporter": "python",
   "pygments_lexer": "ipython3",
   "version": "3.9.12"
  },
  "vscode": {
   "interpreter": {
    "hash": "e7673fce31fe4afe50b4d7357ba4e3f000f877c9b2250741ca11e5d63029f695"
   }
  }
 },
 "nbformat": 4,
 "nbformat_minor": 4
}
