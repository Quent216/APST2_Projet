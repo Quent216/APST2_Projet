{
 "cells": [
  {
   "cell_type": "markdown",
   "id": "surgical-entrance",
   "metadata": {},
   "source": [
    "<img src='https://i.unimedias.fr/2018/03/02/bbvelo.jpg?auto=format%2Ccompress&crop=faces&cs=tinysrgb&fit=crop&h=1053&w=1872' width=600 alt=\"It is time!\">"
   ]
  },
  {
   "cell_type": "markdown",
   "id": "listed-trinity",
   "metadata": {},
   "source": [
    "## Introduction\n",
    "\n",
    "In this lab, we will \"just\" apply the Gaussian mixture model on different datasets. Try to think at this lab as a project you may work on later in your company. Stating it differently, do not just apply what we saw during lectures but try to mix all your statistical knowledge to do a great analysis. Good luck!"
   ]
  },
  {
   "cell_type": "markdown",
   "id": "quality-retirement",
   "metadata": {},
   "source": [
    "### 1. Italian wine\n",
    "\n",
    "You may already have worked with this (famous) dataset. It consists in 178 wines samples from which we have physical and chemical mesurements (27 in totals). Although this dataset is **supervised** in the sense that we also have the information on the variety of wine, i.e., one of **Barolo**, **Grignolino** and **Barbera**, we will act as if it was unsupervised and use this information later on to assess our model performance for classification. There is also an additional feature which the year of production but again this one will be omitted, at least in a first analysis.\n",
    "\n",
    "As you may have already guessed, your goal is to be able to predict the wine variety. \n",
    "\n",
    "  - Get the [data](http://mribatet.perso.math.cnrs.fr/CentraleNantes/ModelBasedClustering/wine.csv) and import it\n",
    "  - Familiarize yourself with the data\n",
    "  - Conduct your statistical analysis (including the always mandatory descriptive analysis step!)"
   ]
  },
  {
   "cell_type": "markdown",
   "id": "broad-certification",
   "metadata": {},
   "source": [
    "### 2. Breast cancer data\n",
    "\n",
    "We now consider a dataset providing data for 569 patients on 30 features of the cell nuclei obtained from a digitized image of a fine needle aspirate (FNA) of a breast mass. For each patient the cancer was diagnosed as malignant or benign. The goal is to be able to say wether or not it malignant or benign.\n",
    "\n",
    "  - Get the [data](http://mribatet.perso.math.cnrs.fr/CentraleNantes/ModelBasedClustering/cancer.csv) and import it\n",
    "  - Familiarize yourself with the data.\n",
    "  - Conduct your statistical analysis (again with a descriptive analysis)"
   ]
  },
  {
   "cell_type": "markdown",
   "id": "cordless-learning",
   "metadata": {},
   "source": [
    "### 3. INSEE\n",
    "\n",
    "Go to the [INSEE website](https://statistiques-locales.insee.fr/#view=map1&c=indicator) where you have access to a wide range of datasets. Pick one you like (and relevant to what we are covering in this lecture) and do your job!"
   ]
  }
 ],
 "metadata": {
  "kernelspec": {
   "display_name": "Python 3",
   "language": "python",
   "name": "python3"
  },
  "language_info": {
   "codemirror_mode": {
    "name": "ipython",
    "version": 3
   },
   "file_extension": ".py",
   "mimetype": "text/x-python",
   "name": "python",
   "nbconvert_exporter": "python",
   "pygments_lexer": "ipython3",
   "version": "3.8.5"
  }
 },
 "nbformat": 4,
 "nbformat_minor": 5
}
