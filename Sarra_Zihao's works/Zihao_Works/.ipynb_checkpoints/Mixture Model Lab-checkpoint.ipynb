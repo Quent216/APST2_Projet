{
 "cells": [
  {
   "attachments": {},
   "cell_type": "markdown",
   "id": "earned-jesus",
   "metadata": {},
   "source": [
    "<img src=\"Mars.jpg\" alt=\"The first colored picture sent by Perseverance\" width=\"600\"/>"
   ]
  },
  {
   "cell_type": "markdown",
   "id": "guided-probability",
   "metadata": {},
   "source": [
    "## Familiarize yourself with Gaussian Mixtures\n",
    "\n",
    "In this lab we will try to feel comfortable with the Expectation Maximization algorithm and its use to fit Gaussian mixture models. To this aim we will start by writing our own EM algorithm for a mixture of univariate Gaussian distributions. We will then complexify our setting by dealing with the multivariate case. We will finally have fun with an application to image segmentation on the first colored picture of Mars sent recently by *Perseverance*.\n",
    "\n",
    "*Remark: Although we will use the GaussianMixture function of Python for this lab, the current version is not as powerfull as (many) R alternative such as packages *mclust* or *Rmixmod*. For instance, such R packages allows for much more covariance structure configurations than the GaussianMixture. If you want to dive seriously into the Gaussian mixture model worlds, these software are top notch!*"
   ]
  },
  {
   "cell_type": "markdown",
   "id": "sudden-dealing",
   "metadata": {},
   "source": [
    "### Univariate case\n",
    "\n",
    "We consider the following mixture model\n",
    "$$f(y) = \\sum_{k=1}^K \\tau_k \\varphi(y; \\mu_k, \\sigma^2_k), \\qquad k \\geq 1,$$\n",
    "where $\\varphi(\\cdot, \\mu, \\sigma^2)$ denotes the p.d.f. of a normal distribution with mean $\\mu$ and variance $\\sigma^2$ and $\\tau_k$ are the cluster membership probabilities, i.e., $\\tau_k \\geq 0$ and $\\sum_{k} \\tau_k = 1$."
   ]
  },
  {
   "cell_type": "markdown",
   "id": "korean-sleep",
   "metadata": {},
   "source": [
    "#### Question 1:\n",
    "\n",
    "Write a function that simulates from this mixture model. Play a bit with your brand new function to see how changing the parameters impacts the structure of the observations."
   ]
  },
  {
   "cell_type": "code",
   "execution_count": 8,
   "id": "accomplished-thesaurus",
   "metadata": {},
   "outputs": [],
   "source": [
    "## Code goes here\n",
    "## %load solutions/question1.py"
   ]
  },
  {
   "cell_type": "markdown",
   "id": "burning-camera",
   "metadata": {},
   "source": [
    "#### Question 2:\n",
    "\n",
    "Write a pseudo code for an EM algorithm on this mixture model and, next, implement it."
   ]
  },
  {
   "cell_type": "code",
   "execution_count": 9,
   "id": "gross-celebrity",
   "metadata": {},
   "outputs": [],
   "source": [
    "## Code goes here\n",
    "## %load solutions/question2.py"
   ]
  },
  {
   "cell_type": "markdown",
   "id": "neural-third",
   "metadata": {},
   "source": [
    "#### Question 3:\n",
    "\n",
    "Test your EM algorithm on simulated data and show the evolution of the Gaussian mixture estimates as the number of iterations increases."
   ]
  },
  {
   "cell_type": "code",
   "execution_count": 12,
   "id": "experienced-daniel",
   "metadata": {},
   "outputs": [],
   "source": [
    "## Code goes here\n",
    "## %load solutions/question3.py"
   ]
  },
  {
   "cell_type": "markdown",
   "id": "proved-talent",
   "metadata": {},
   "source": [
    "#### Question 4:\n",
    "\n",
    "Modify your EM algorithm so that it also outputs the conditional membership probabilities\n",
    "\n",
    "$$ t_g(y) = \\Pr(Z = g \\mid Y = y), \\qquad y \\in \\mathcal{Y}, \\quad g \\in \\{1, \\ldots, G\\},$$\n",
    "\n",
    "and, based on your simulated data, predict the class of each observation using maximum a posteriori.\n",
    "\n",
    "You may consider plotting the data with colors depending on the estimated component, the fitted mixture density and each individuals gaussian densities."
   ]
  },
  {
   "cell_type": "code",
   "execution_count": 15,
   "id": "legal-qualification",
   "metadata": {},
   "outputs": [],
   "source": [
    "## Code goes here\n",
    "## %load solutions/question4.py"
   ]
  },
  {
   "cell_type": "markdown",
   "id": "economic-singapore",
   "metadata": {},
   "source": [
    "#### Question 5:\n",
    "\n",
    "Write a function that predict the class of new observations."
   ]
  },
  {
   "cell_type": "code",
   "execution_count": 18,
   "id": "serious-lesson",
   "metadata": {},
   "outputs": [],
   "source": [
    "## Code goes here\n",
    "## %load solutions/question5.py"
   ]
  },
  {
   "cell_type": "markdown",
   "id": "distinct-eleven",
   "metadata": {},
   "source": [
    "#### Question 6:\n",
    "\n",
    "Have a look at the [GaussianMixture](https://scikit-learn.org/stable/modules/generated/sklearn.mixture.GaussianMixture.html) function of the scikitlearn library and learn how to use it. \n",
    "\n",
    "Use it on your simulated dataset and compare the output from that of your own function. You may want to:\n",
    "  + redo the above graphics using the output of GaussianMixture;\n",
    "  + use the [confusion_matrix](https://scikit-learn.org/stable/modules/generated/sklearn.metrics.confusion_matrix.html) function.\n",
    "  \n",
    "Are you happy?"
   ]
  },
  {
   "cell_type": "code",
   "execution_count": 21,
   "id": "prospective-importance",
   "metadata": {},
   "outputs": [],
   "source": [
    "## Code goes here\n",
    "## %load solutions/question6.py"
   ]
  },
  {
   "cell_type": "markdown",
   "id": "stone-yugoslavia",
   "metadata": {},
   "source": [
    "### Going multivariate\n",
    "\n",
    "#### Question 7:\n",
    "\n",
    "Have a look at the [make_blobs](https://scikit-learn.org/stable/modules/generated/sklearn.datasets.make_blobs.html) function which generate mixture from (very specific) Gaussian distributions. Use this function to generate a sample of size $n=100$ from a Gaussian mixture in $\\mathbb{R}^2$ with $G=4$ components."
   ]
  },
  {
   "cell_type": "code",
   "execution_count": 24,
   "id": "straight-presence",
   "metadata": {},
   "outputs": [],
   "source": [
    "## Code goes here\n",
    "## %load solutions/question7.py"
   ]
  },
  {
   "cell_type": "markdown",
   "id": "early-sword",
   "metadata": {},
   "source": [
    "#### Question 8:\n",
    "\n",
    "Use the GaussianMixture function to estimate a Gaussian mixture model on this sample. Give the mathematical details of the model you fit. Give a plot where you show the prediction class in $[-12, 12]^2$ and another plot where you plot the uncertainties in classification. "
   ]
  },
  {
   "cell_type": "code",
   "execution_count": 33,
   "id": "convertible-transsexual",
   "metadata": {},
   "outputs": [],
   "source": [
    "## Code goes here\n",
    "## %load solutions/question8.py"
   ]
  },
  {
   "cell_type": "markdown",
   "id": "middle-colony",
   "metadata": {},
   "source": [
    "#### Question 9:\n",
    "\n",
    "Perform model selection by varying the number of mixture components and the covariance structure. Compare prediction from the top two competitive models."
   ]
  },
  {
   "cell_type": "code",
   "execution_count": 36,
   "id": "regular-display",
   "metadata": {},
   "outputs": [],
   "source": [
    "## Code goes here\n",
    "## %load solutions/question9.py"
   ]
  },
  {
   "cell_type": "markdown",
   "id": "assured-playback",
   "metadata": {},
   "source": [
    "### Just for fun Image segmentation\n",
    "\n",
    "Here we will do a small application where we want to perform image segmentation using Gaussian mixture models. Here is a typical roadmap:\n",
    "  - First get the [first colored image of Mars sent by *Perseverance*](https://mars.nasa.gov/system/resources/detail_files/25612_PIA24430-panorama-1200.jpg) and import it.\n",
    "  - Then fit a suitable Gaussian mixture model. In doing so, you may want to train your model on a (random) sub-sample of this image.\n",
    "  - Plot the \"segmented\" image where you first plot using \"non-sense\" color palette, i.e., color palette is $\\{1, \\ldots, G\\}$.\n",
    "  - Refine your color platte by taking it to be $\\{\\mu_1, \\ldots, \\mu_G\\}$."
   ]
  },
  {
   "cell_type": "code",
   "execution_count": 35,
   "id": "addressed-bailey",
   "metadata": {},
   "outputs": [],
   "source": [
    "## Code goes here\n",
    "## %load solutions/justForFun.py"
   ]
  }
 ],
 "metadata": {
  "kernelspec": {
   "display_name": "Python 3",
   "language": "python",
   "name": "python3"
  },
  "language_info": {
   "codemirror_mode": {
    "name": "ipython",
    "version": 3
   },
   "file_extension": ".py",
   "mimetype": "text/x-python",
   "name": "python",
   "nbconvert_exporter": "python",
   "pygments_lexer": "ipython3",
   "version": "3.8.5"
  }
 },
 "nbformat": 4,
 "nbformat_minor": 5
}
