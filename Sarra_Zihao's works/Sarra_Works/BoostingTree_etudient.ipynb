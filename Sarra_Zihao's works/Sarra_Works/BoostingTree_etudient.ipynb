{
 "cells": [
  {
   "cell_type": "markdown",
   "metadata": {},
   "source": [
    "# Boosting Trees"
   ]
  },
  {
   "cell_type": "code",
   "execution_count": 107,
   "metadata": {
    "scrolled": true
   },
   "outputs": [],
   "source": [
    "%matplotlib inline\n",
    "from pylab import *\n",
    "import pandas as pd\n",
    "from sklearn import preprocessing \n",
    "from sklearn.model_selection import train_test_split\n",
    "\n",
    "\n",
    "import warnings\n",
    "warnings.filterwarnings('ignore')"
   ]
  },
  {
   "cell_type": "markdown",
   "metadata": {},
   "source": [
    "## Gradient Boosting "
   ]
  },
  {
   "cell_type": "markdown",
   "metadata": {},
   "source": [
    "Commencons par ajuster un regresseur par gradient boosting sur des familles d'arbres."
   ]
  },
  {
   "cell_type": "code",
   "execution_count": 108,
   "metadata": {},
   "outputs": [],
   "source": [
    "from sklearn.tree import DecisionTreeRegressor"
   ]
  },
  {
   "cell_type": "markdown",
   "metadata": {},
   "source": [
    "####  Préparation des données housing"
   ]
  },
  {
   "cell_type": "code",
   "execution_count": 109,
   "metadata": {
    "scrolled": true
   },
   "outputs": [],
   "source": [
    "from sklearn.datasets import fetch_california_housing\n",
    "california_housing = fetch_california_housing(as_frame=True)"
   ]
  },
  {
   "cell_type": "code",
   "execution_count": 110,
   "metadata": {},
   "outputs": [
    {
     "name": "stdout",
     "output_type": "stream",
     "text": [
      ".. _california_housing_dataset:\n",
      "\n",
      "California Housing dataset\n",
      "--------------------------\n",
      "\n",
      "**Data Set Characteristics:**\n",
      "\n",
      "    :Number of Instances: 20640\n",
      "\n",
      "    :Number of Attributes: 8 numeric, predictive attributes and the target\n",
      "\n",
      "    :Attribute Information:\n",
      "        - MedInc        median income in block group\n",
      "        - HouseAge      median house age in block group\n",
      "        - AveRooms      average number of rooms per household\n",
      "        - AveBedrms     average number of bedrooms per household\n",
      "        - Population    block group population\n",
      "        - AveOccup      average number of household members\n",
      "        - Latitude      block group latitude\n",
      "        - Longitude     block group longitude\n",
      "\n",
      "    :Missing Attribute Values: None\n",
      "\n",
      "This dataset was obtained from the StatLib repository.\n",
      "https://www.dcc.fc.up.pt/~ltorgo/Regression/cal_housing.html\n",
      "\n",
      "The target variable is the median house value for California districts,\n",
      "expressed in hundreds of thousands of dollars ($100,000).\n",
      "\n",
      "This dataset was derived from the 1990 U.S. census, using one row per census\n",
      "block group. A block group is the smallest geographical unit for which the U.S.\n",
      "Census Bureau publishes sample data (a block group typically has a population\n",
      "of 600 to 3,000 people).\n",
      "\n",
      "An household is a group of people residing within a home. Since the average\n",
      "number of rooms and bedrooms in this dataset are provided per household, these\n",
      "columns may take surpinsingly large values for block groups with few households\n",
      "and many empty houses, such as vacation resorts.\n",
      "\n",
      "It can be downloaded/loaded using the\n",
      ":func:`sklearn.datasets.fetch_california_housing` function.\n",
      "\n",
      ".. topic:: References\n",
      "\n",
      "    - Pace, R. Kelley and Ronald Barry, Sparse Spatial Autoregressions,\n",
      "      Statistics and Probability Letters, 33 (1997) 291-297\n",
      "\n"
     ]
    }
   ],
   "source": [
    "print(california_housing.DESCR)"
   ]
  },
  {
   "cell_type": "code",
   "execution_count": 111,
   "metadata": {},
   "outputs": [
    {
     "data": {
      "text/html": [
       "<div>\n",
       "<style scoped>\n",
       "    .dataframe tbody tr th:only-of-type {\n",
       "        vertical-align: middle;\n",
       "    }\n",
       "\n",
       "    .dataframe tbody tr th {\n",
       "        vertical-align: top;\n",
       "    }\n",
       "\n",
       "    .dataframe thead th {\n",
       "        text-align: right;\n",
       "    }\n",
       "</style>\n",
       "<table border=\"1\" class=\"dataframe\">\n",
       "  <thead>\n",
       "    <tr style=\"text-align: right;\">\n",
       "      <th></th>\n",
       "      <th>MedInc</th>\n",
       "      <th>HouseAge</th>\n",
       "      <th>AveRooms</th>\n",
       "      <th>AveBedrms</th>\n",
       "      <th>Population</th>\n",
       "      <th>AveOccup</th>\n",
       "      <th>Latitude</th>\n",
       "      <th>Longitude</th>\n",
       "    </tr>\n",
       "  </thead>\n",
       "  <tbody>\n",
       "    <tr>\n",
       "      <th>0</th>\n",
       "      <td>8.3252</td>\n",
       "      <td>41.0</td>\n",
       "      <td>6.984127</td>\n",
       "      <td>1.023810</td>\n",
       "      <td>322.0</td>\n",
       "      <td>2.555556</td>\n",
       "      <td>37.88</td>\n",
       "      <td>-122.23</td>\n",
       "    </tr>\n",
       "    <tr>\n",
       "      <th>1</th>\n",
       "      <td>8.3014</td>\n",
       "      <td>21.0</td>\n",
       "      <td>6.238137</td>\n",
       "      <td>0.971880</td>\n",
       "      <td>2401.0</td>\n",
       "      <td>2.109842</td>\n",
       "      <td>37.86</td>\n",
       "      <td>-122.22</td>\n",
       "    </tr>\n",
       "    <tr>\n",
       "      <th>2</th>\n",
       "      <td>7.2574</td>\n",
       "      <td>52.0</td>\n",
       "      <td>8.288136</td>\n",
       "      <td>1.073446</td>\n",
       "      <td>496.0</td>\n",
       "      <td>2.802260</td>\n",
       "      <td>37.85</td>\n",
       "      <td>-122.24</td>\n",
       "    </tr>\n",
       "    <tr>\n",
       "      <th>3</th>\n",
       "      <td>5.6431</td>\n",
       "      <td>52.0</td>\n",
       "      <td>5.817352</td>\n",
       "      <td>1.073059</td>\n",
       "      <td>558.0</td>\n",
       "      <td>2.547945</td>\n",
       "      <td>37.85</td>\n",
       "      <td>-122.25</td>\n",
       "    </tr>\n",
       "    <tr>\n",
       "      <th>4</th>\n",
       "      <td>3.8462</td>\n",
       "      <td>52.0</td>\n",
       "      <td>6.281853</td>\n",
       "      <td>1.081081</td>\n",
       "      <td>565.0</td>\n",
       "      <td>2.181467</td>\n",
       "      <td>37.85</td>\n",
       "      <td>-122.25</td>\n",
       "    </tr>\n",
       "  </tbody>\n",
       "</table>\n",
       "</div>"
      ],
      "text/plain": [
       "   MedInc  HouseAge  AveRooms  AveBedrms  Population  AveOccup  Latitude  \\\n",
       "0  8.3252      41.0  6.984127   1.023810       322.0  2.555556     37.88   \n",
       "1  8.3014      21.0  6.238137   0.971880      2401.0  2.109842     37.86   \n",
       "2  7.2574      52.0  8.288136   1.073446       496.0  2.802260     37.85   \n",
       "3  5.6431      52.0  5.817352   1.073059       558.0  2.547945     37.85   \n",
       "4  3.8462      52.0  6.281853   1.081081       565.0  2.181467     37.85   \n",
       "\n",
       "   Longitude  \n",
       "0    -122.23  \n",
       "1    -122.22  \n",
       "2    -122.24  \n",
       "3    -122.25  \n",
       "4    -122.25  "
      ]
     },
     "execution_count": 111,
     "metadata": {},
     "output_type": "execute_result"
    }
   ],
   "source": [
    "california_housing.data.head()"
   ]
  },
  {
   "cell_type": "code",
   "execution_count": 112,
   "metadata": {
    "scrolled": true
   },
   "outputs": [
    {
     "name": "stdout",
     "output_type": "stream",
     "text": [
      "(20640, 8)\n"
     ]
    }
   ],
   "source": [
    "X_housing = california_housing.data\n",
    "Y_housing = california_housing.target\n",
    "print(shape(X_housing))"
   ]
  },
  {
   "cell_type": "markdown",
   "metadata": {},
   "source": [
    "Pour éviter que les temps de calcul soient trop longs, nous allons travailler avec un sous échantillon:"
   ]
  },
  {
   "cell_type": "code",
   "execution_count": 113,
   "metadata": {},
   "outputs": [],
   "source": [
    "from sklearn.utils import resample\n",
    "X_housing, Y_housing  = resample(X_housing,Y_housing, n_samples = 2000, replace = False)"
   ]
  },
  {
   "cell_type": "markdown",
   "metadata": {},
   "source": [
    "Découpage train / test :"
   ]
  },
  {
   "cell_type": "code",
   "execution_count": 114,
   "metadata": {
    "scrolled": true
   },
   "outputs": [],
   "source": [
    "X_housing_train, X_housing_test, y_housing_train, y_housing_test = \\\n",
    "train_test_split(X_housing,Y_housing,test_size=0.5)"
   ]
  },
  {
   "cell_type": "markdown",
   "metadata": {},
   "source": [
    "####  Fonctions Gradient Boosting de sckit-learn"
   ]
  },
  {
   "cell_type": "markdown",
   "metadata": {},
   "source": [
    "Importation des fonctions Gradient Boosting de scikit-learn et de la fonction `mean_squared_error` pour le calcul des erreurs quadratique moyennes."
   ]
  },
  {
   "cell_type": "code",
   "execution_count": 115,
   "metadata": {},
   "outputs": [],
   "source": [
    "from sklearn.ensemble import GradientBoostingRegressor\n",
    "from sklearn.metrics import mean_squared_error"
   ]
  },
  {
   "cell_type": "markdown",
   "metadata": {},
   "source": [
    "Nous ajustons maintenant un modèle GBM avec les paramètres proposés ci-dessous.\n",
    "\n",
    "> Retrouver la signification de chacun des paramètres."
   ]
  },
  {
   "cell_type": "code",
   "execution_count": 116,
   "metadata": {},
   "outputs": [
    {
     "name": "stdout",
     "output_type": "stream",
     "text": [
      "GradientBoostingRegressor(learning_rate=0.05, max_depth=8, min_samples_split=4,\n",
      "                          n_estimators=1000)\n"
     ]
    }
   ],
   "source": [
    "GBM = GradientBoostingRegressor(n_estimators=1000,\n",
    "                                         max_depth=8,\n",
    "                                         min_samples_split= 4,\n",
    "                                         learning_rate=0.05,\n",
    "                                         loss='squared_error')\n",
    "\n",
    "print(GBM)"
   ]
  },
  {
   "cell_type": "markdown",
   "metadata": {},
   "source": [
    "+ n_estimators : ###TO DO ### ?\n",
    "+ learning_rate =  ###TO DO ###?\n",
    "+ loss : ###TO DO ### ?\n",
    "+ max_depth : ###TO DO ### ?\n",
    "+ min_samples_split  : ###TO DO ### ?"
   ]
  },
  {
   "cell_type": "markdown",
   "metadata": {},
   "source": [
    "Pour calculer l'erreur mse sur le test (aussi appelée deviance dans la doc) :"
   ]
  },
  {
   "cell_type": "code",
   "execution_count": 117,
   "metadata": {},
   "outputs": [
    {
     "name": "stdout",
     "output_type": "stream",
     "text": [
      "0.378262625314754\n"
     ]
    }
   ],
   "source": [
    "GBM.fit(X_housing_train, y_housing_train)\n",
    "mse = mean_squared_error(y_housing_test, GBM.predict(X_housing_test))\n",
    "print(mse)"
   ]
  },
  {
   "cell_type": "markdown",
   "metadata": {},
   "source": [
    "Attention : le score renvoyé ci-dessous est un $R^2$ i.e. variance expliquée par le prédicteur / variance totale de $Y$, voir [ici](https://scikit-learn.org/stable/modules/model_evaluation.html#r2-score-the-coefficient-of-determination)."
   ]
  },
  {
   "cell_type": "code",
   "execution_count": 118,
   "metadata": {},
   "outputs": [
    {
     "name": "stdout",
     "output_type": "stream",
     "text": [
      "0.7214444490951526\n"
     ]
    }
   ],
   "source": [
    "print(GBM.score(X_housing_test, y_housing_test))"
   ]
  },
  {
   "cell_type": "markdown",
   "metadata": {},
   "source": [
    "Quelques principes à retenir:\n",
    "+ Plus on ajuste d'arbres, plus le cout computationnel est élevé.\n",
    "+ le nombre d'arbres correspond au nombre d'itérations.\n",
    "+ Un taux d'apprentissage petit nécessitera plus d'arbres.\n",
    "+ Un taux d'apprentissage trop élevé fera des sauts de gradients potentiellement trop grands, et au bout d'un certain nombre d'itérations il sera  difficile d'améliorer les scores.\n",
    "+ Une bonne pratique consiste à choisir d'abord un taux d'apprentissage pas trop faible (pour ne pas faire exploser le nombre d'arbres) et à le diminuer ensuite, une fois ajustés les autres paramètres (nb de noeuds, profondeur ...)."
   ]
  },
  {
   "cell_type": "markdown",
   "metadata": {},
   "source": [
    "#### Etude des erreurs le long des itérations -  learning rate"
   ]
  },
  {
   "cell_type": "markdown",
   "metadata": {},
   "source": [
    "Nous allons maintenant étudier l'évolution de la perte en fonction du nombre d'itérations.\n",
    "\n",
    "Noter que l'erreur d'apprentissage est accessible dans GBM:"
   ]
  },
  {
   "cell_type": "code",
   "execution_count": 119,
   "metadata": {},
   "outputs": [
    {
     "name": "stdout",
     "output_type": "stream",
     "text": [
      "[1.28809253e+00 1.17407344e+00 1.07095897e+00 9.79423027e-01\n",
      " 8.94683794e-01 8.18472108e-01 7.49762478e-01 6.87589066e-01\n",
      " 6.30885910e-01 5.78709317e-01 5.30305623e-01 4.86723413e-01\n",
      " 4.46756804e-01 4.10602079e-01 3.78026962e-01 3.47671294e-01\n",
      " 3.20632426e-01 2.95592331e-01 2.72641677e-01 2.51880117e-01\n",
      " 2.32988335e-01 2.15944747e-01 1.99576598e-01 1.85144863e-01\n",
      " 1.71277636e-01 1.59086402e-01 1.48028145e-01 1.37300530e-01\n",
      " 1.27763206e-01 1.19191627e-01 1.11066103e-01 1.03989776e-01\n",
      " 9.71574435e-02 9.09786679e-02 8.46572242e-02 7.92899697e-02\n",
      " 7.43024614e-02 6.98444415e-02 6.59539702e-02 6.16596395e-02\n",
      " 5.76133251e-02 5.45021705e-02 5.15687815e-02 4.87373192e-02\n",
      " 4.62188152e-02 4.38830605e-02 4.16465330e-02 3.95542782e-02\n",
      " 3.74084875e-02 3.57544248e-02 3.38810357e-02 3.20131479e-02\n",
      " 3.05612787e-02 2.90037801e-02 2.77624743e-02 2.65080550e-02\n",
      " 2.51744104e-02 2.40958428e-02 2.32058904e-02 2.21092882e-02\n",
      " 2.10872639e-02 2.01591499e-02 1.92960333e-02 1.84767295e-02\n",
      " 1.76850658e-02 1.70179664e-02 1.62844274e-02 1.57059938e-02\n",
      " 1.51236880e-02 1.46647719e-02 1.41378324e-02 1.35781699e-02\n",
      " 1.29741538e-02 1.25477333e-02 1.20832751e-02 1.17543140e-02\n",
      " 1.13870054e-02 1.11008344e-02 1.07445642e-02 1.04856795e-02\n",
      " 1.01868934e-02 9.87900312e-03 9.57624511e-03 9.31909152e-03\n",
      " 9.07473497e-03 8.85750454e-03 8.57000553e-03 8.36851611e-03\n",
      " 8.07941683e-03 7.86682241e-03 7.64756449e-03 7.46852783e-03\n",
      " 7.25511963e-03 7.09593738e-03 6.85068159e-03 6.72800948e-03\n",
      " 6.60639642e-03 6.42089816e-03 6.28208012e-03 6.12974849e-03\n",
      " 5.95121330e-03 5.84891546e-03 5.58802139e-03 5.34463191e-03\n",
      " 5.17949681e-03 5.03018420e-03 4.92951913e-03 4.86656138e-03\n",
      " 4.73289099e-03 4.61249597e-03 4.48223472e-03 4.40243603e-03\n",
      " 4.32269187e-03 4.22968887e-03 4.15387561e-03 4.10677154e-03\n",
      " 4.05899214e-03 3.96298808e-03 3.86254144e-03 3.78339964e-03\n",
      " 3.73296684e-03 3.65797746e-03 3.62372116e-03 3.51039137e-03\n",
      " 3.46976689e-03 3.38854165e-03 3.32708175e-03 3.25552645e-03\n",
      " 3.21901352e-03 3.15834426e-03 3.13400239e-03 3.06029450e-03\n",
      " 2.99954273e-03 2.90927303e-03 2.86737856e-03 2.79466342e-03\n",
      " 2.71765622e-03 2.68624859e-03 2.64273090e-03 2.61682363e-03\n",
      " 2.59046692e-03 2.53848003e-03 2.52900904e-03 2.47166034e-03\n",
      " 2.40507180e-03 2.35529197e-03 2.33421289e-03 2.29011818e-03\n",
      " 2.27573083e-03 2.22267593e-03 2.18415894e-03 2.14627183e-03\n",
      " 2.10866799e-03 2.10326356e-03 2.07758441e-03 2.02062347e-03\n",
      " 2.00179663e-03 1.96963413e-03 1.93883971e-03 1.91430323e-03\n",
      " 1.90696512e-03 1.87318965e-03 1.84994313e-03 1.82595372e-03\n",
      " 1.78647614e-03 1.74576223e-03 1.72294405e-03 1.71370620e-03\n",
      " 1.67624551e-03 1.64354777e-03 1.59402674e-03 1.57495197e-03\n",
      " 1.56362671e-03 1.53880299e-03 1.50857290e-03 1.47496091e-03\n",
      " 1.47142284e-03 1.44966370e-03 1.39155866e-03 1.36127865e-03\n",
      " 1.33285874e-03 1.32128563e-03 1.29593184e-03 1.26335341e-03\n",
      " 1.23945332e-03 1.22905718e-03 1.22219806e-03 1.20718227e-03\n",
      " 1.19905046e-03 1.17640002e-03 1.17125273e-03 1.14844211e-03\n",
      " 1.11987012e-03 1.10407033e-03 1.07610469e-03 1.06310563e-03\n",
      " 1.04068924e-03 1.01618698e-03 9.95244860e-04 9.83628893e-04\n",
      " 9.73714541e-04 9.47952864e-04 9.39390378e-04 9.34849529e-04\n",
      " 9.24304191e-04 9.11094110e-04 8.83339235e-04 8.62339701e-04\n",
      " 8.50537794e-04 8.46509778e-04 8.23712172e-04 8.13891686e-04\n",
      " 7.99204115e-04 7.80919869e-04 7.72814736e-04 7.53237898e-04\n",
      " 7.48562972e-04 7.38372203e-04 7.16972139e-04 7.06607070e-04\n",
      " 6.98135386e-04 6.88344123e-04 6.68919186e-04 6.59724048e-04\n",
      " 6.47467006e-04 6.40931458e-04 6.33993580e-04 6.23517818e-04\n",
      " 6.16801900e-04 5.99107688e-04 5.89008671e-04 5.83944931e-04\n",
      " 5.71562542e-04 5.66086064e-04 5.55184558e-04 5.49337290e-04\n",
      " 5.35744481e-04 5.23152345e-04 5.13667738e-04 5.08816543e-04\n",
      " 4.98732983e-04 4.89022853e-04 4.86286996e-04 4.80178039e-04\n",
      " 4.68602097e-04 4.56752948e-04 4.48055619e-04 4.36163780e-04\n",
      " 4.29559968e-04 4.24744682e-04 4.18193912e-04 4.12884946e-04\n",
      " 4.03624812e-04 3.95878475e-04 3.92333326e-04 3.84574931e-04\n",
      " 3.82413321e-04 3.72239224e-04 3.66162581e-04 3.54445826e-04\n",
      " 3.48048764e-04 3.43924427e-04 3.40842063e-04 3.32690870e-04\n",
      " 3.26620452e-04 3.20351026e-04 3.14946593e-04 3.06968486e-04\n",
      " 3.05686011e-04 2.99935856e-04 2.93514951e-04 2.92071620e-04\n",
      " 2.89181013e-04 2.86499973e-04 2.84232796e-04 2.79255943e-04\n",
      " 2.69725210e-04 2.66192197e-04 2.58578503e-04 2.53992009e-04\n",
      " 2.52701120e-04 2.50939740e-04 2.48245306e-04 2.40784793e-04\n",
      " 2.36850186e-04 2.29915708e-04 2.28189661e-04 2.22318343e-04\n",
      " 2.18240830e-04 2.16500193e-04 2.12819509e-04 2.11224177e-04\n",
      " 2.04460966e-04 2.01002473e-04 1.97176688e-04 1.93296049e-04\n",
      " 1.89175060e-04 1.85059977e-04 1.81659149e-04 1.76759430e-04\n",
      " 1.73068945e-04 1.71060887e-04 1.70332831e-04 1.69174033e-04\n",
      " 1.65400726e-04 1.63965173e-04 1.60369358e-04 1.53796813e-04\n",
      " 1.52456096e-04 1.50665272e-04 1.49943256e-04 1.49161705e-04\n",
      " 1.46386120e-04 1.45094509e-04 1.44292716e-04 1.42366554e-04\n",
      " 1.40952544e-04 1.38546223e-04 1.37259929e-04 1.35098913e-04\n",
      " 1.31366218e-04 1.28961662e-04 1.27187964e-04 1.24968280e-04\n",
      " 1.21979185e-04 1.19901256e-04 1.18546363e-04 1.16261196e-04\n",
      " 1.14402427e-04 1.12374308e-04 1.11461137e-04 1.09015969e-04\n",
      " 1.07897748e-04 1.06139070e-04 1.05528003e-04 1.05036381e-04\n",
      " 1.04525886e-04 1.03322380e-04 1.02767374e-04 1.00539968e-04\n",
      " 9.91128646e-05 9.80444155e-05 9.56611148e-05 9.46001663e-05\n",
      " 9.34288750e-05 9.23715524e-05 9.08812790e-05 9.03537302e-05\n",
      " 8.95792822e-05 8.82265318e-05 8.72781000e-05 8.69247986e-05\n",
      " 8.62447777e-05 8.55034583e-05 8.41796863e-05 8.22889264e-05\n",
      " 8.13348185e-05 8.00554388e-05 7.86874507e-05 7.70835471e-05\n",
      " 7.63332569e-05 7.54644086e-05 7.45918365e-05 7.37152293e-05\n",
      " 7.22821080e-05 7.10317989e-05 7.00175164e-05 6.93397550e-05\n",
      " 6.83181467e-05 6.74547423e-05 6.62863080e-05 6.51518722e-05\n",
      " 6.47602655e-05 6.35499118e-05 6.30483047e-05 6.22631352e-05\n",
      " 6.17552839e-05 6.06300405e-05 6.01852929e-05 5.94776601e-05\n",
      " 5.90693305e-05 5.86903005e-05 5.79362145e-05 5.75707237e-05\n",
      " 5.69024152e-05 5.58596391e-05 5.55310078e-05 5.46701446e-05\n",
      " 5.42462840e-05 5.29227405e-05 5.20666377e-05 5.08770063e-05\n",
      " 4.99982012e-05 4.96983492e-05 4.94217103e-05 4.88861562e-05\n",
      " 4.81033657e-05 4.77431208e-05 4.73271208e-05 4.70281362e-05\n",
      " 4.60298025e-05 4.41735777e-05 4.38508268e-05 4.29447824e-05\n",
      " 4.27131443e-05 4.22632573e-05 4.18665566e-05 4.15748787e-05\n",
      " 4.08139749e-05 4.04903417e-05 3.95324345e-05 3.88229763e-05\n",
      " 3.83389557e-05 3.71562125e-05 3.69960545e-05 3.67999836e-05\n",
      " 3.61581803e-05 3.57500709e-05 3.55153376e-05 3.52053010e-05\n",
      " 3.46275379e-05 3.38107126e-05 3.33097461e-05 3.28478926e-05\n",
      " 3.25017465e-05 3.20744741e-05 3.18415933e-05 3.17120364e-05\n",
      " 3.15391275e-05 3.10478408e-05 3.07723387e-05 3.06216334e-05\n",
      " 3.01846285e-05 2.99953597e-05 2.97696782e-05 2.92347287e-05\n",
      " 2.91100972e-05 2.86568428e-05 2.83841968e-05 2.80226601e-05\n",
      " 2.78604930e-05 2.74565905e-05 2.71034873e-05 2.65734887e-05\n",
      " 2.59922289e-05 2.52922801e-05 2.48692077e-05 2.44652497e-05\n",
      " 2.43094195e-05 2.39173463e-05 2.37705635e-05 2.34662871e-05\n",
      " 2.33279760e-05 2.32345095e-05 2.29541304e-05 2.28346714e-05\n",
      " 2.25592844e-05 2.22094349e-05 2.19352987e-05 2.17921933e-05\n",
      " 2.12117817e-05 2.07626463e-05 2.04565824e-05 1.99034279e-05\n",
      " 1.95768706e-05 1.94179178e-05 1.90504083e-05 1.88114941e-05\n",
      " 1.85626505e-05 1.83422341e-05 1.82048549e-05 1.81241567e-05\n",
      " 1.76554013e-05 1.73797838e-05 1.71384598e-05 1.70170711e-05\n",
      " 1.67932932e-05 1.67138356e-05 1.65685607e-05 1.63566181e-05\n",
      " 1.61862739e-05 1.60129638e-05 1.59473046e-05 1.57714957e-05\n",
      " 1.56896764e-05 1.56097150e-05 1.54734173e-05 1.50597061e-05\n",
      " 1.48936707e-05 1.45174490e-05 1.41359269e-05 1.38152705e-05\n",
      " 1.37135625e-05 1.35807649e-05 1.35195957e-05 1.32606663e-05\n",
      " 1.29920525e-05 1.27698120e-05 1.26656467e-05 1.24243263e-05\n",
      " 1.22877952e-05 1.20842723e-05 1.19896528e-05 1.18995610e-05\n",
      " 1.18135274e-05 1.14728091e-05 1.13961701e-05 1.13018923e-05\n",
      " 1.11867000e-05 1.10670843e-05 1.10195888e-05 1.09224529e-05\n",
      " 1.08140876e-05 1.06861259e-05 1.06216648e-05 1.05072886e-05\n",
      " 1.02026979e-05 1.01640551e-05 1.01053848e-05 9.94108970e-06\n",
      " 9.90724042e-06 9.82784706e-06 9.73037361e-06 9.63086821e-06\n",
      " 9.36721021e-06 9.29469972e-06 9.14197430e-06 8.90803696e-06\n",
      " 8.83281747e-06 8.71687771e-06 8.58084735e-06 8.46196585e-06\n",
      " 8.27527343e-06 8.24764300e-06 8.22336239e-06 8.11202386e-06\n",
      " 8.00116612e-06 7.95813025e-06 7.92941101e-06 7.89000227e-06\n",
      " 7.78736485e-06 7.66251352e-06 7.53838392e-06 7.41387646e-06\n",
      " 7.24570978e-06 7.16526869e-06 7.09407859e-06 7.03815721e-06\n",
      " 6.90272118e-06 6.77459557e-06 6.64620474e-06 6.61693427e-06\n",
      " 6.54685976e-06 6.40284040e-06 6.27722288e-06 6.15114684e-06\n",
      " 6.11601546e-06 6.06047671e-06 5.97695537e-06 5.83887835e-06\n",
      " 5.78004561e-06 5.67583044e-06 5.64762490e-06 5.59112160e-06\n",
      " 5.51306469e-06 5.45230960e-06 5.39661378e-06 5.27877438e-06\n",
      " 5.24460222e-06 5.16141824e-06 5.09583656e-06 5.06497713e-06\n",
      " 5.01737690e-06 4.96205596e-06 4.85395669e-06 4.77396216e-06\n",
      " 4.75246799e-06 4.72899977e-06 4.67484245e-06 4.57575582e-06\n",
      " 4.54481484e-06 4.50617061e-06 4.46174456e-06 4.41581078e-06\n",
      " 4.39330608e-06 4.34701329e-06 4.29797001e-06 4.26789184e-06\n",
      " 4.15835292e-06 4.07208356e-06 3.93371154e-06 3.91088809e-06\n",
      " 3.89062259e-06 3.84438647e-06 3.75361547e-06 3.67510527e-06\n",
      " 3.54090561e-06 3.50254512e-06 3.44804015e-06 3.43673127e-06\n",
      " 3.38740405e-06 3.31534686e-06 3.23776808e-06 3.22828500e-06\n",
      " 3.19862914e-06 3.14751247e-06 3.13611529e-06 3.05629101e-06\n",
      " 2.98405520e-06 2.95530797e-06 2.89370174e-06 2.87817443e-06\n",
      " 2.84775645e-06 2.80514290e-06 2.77789846e-06 2.72811782e-06\n",
      " 2.65724187e-06 2.61202982e-06 2.59779092e-06 2.57602409e-06\n",
      " 2.56655719e-06 2.49693653e-06 2.45660822e-06 2.42536632e-06\n",
      " 2.41240311e-06 2.34597631e-06 2.33364445e-06 2.31066489e-06\n",
      " 2.29325132e-06 2.28003678e-06 2.23429138e-06 2.20628309e-06\n",
      " 2.15902199e-06 2.12496036e-06 2.09335257e-06 2.04865316e-06\n",
      " 2.03137168e-06 2.00600565e-06 1.98632902e-06 1.95161091e-06\n",
      " 1.91772635e-06 1.90019912e-06 1.87014075e-06 1.85484844e-06\n",
      " 1.82364682e-06 1.80531546e-06 1.77754499e-06 1.74418475e-06\n",
      " 1.71515007e-06 1.69810660e-06 1.68478583e-06 1.66245861e-06\n",
      " 1.65369877e-06 1.63641735e-06 1.61397023e-06 1.59037406e-06\n",
      " 1.58257723e-06 1.57050111e-06 1.54816194e-06 1.50652596e-06\n",
      " 1.50000579e-06 1.45216940e-06 1.41932777e-06 1.40926368e-06\n",
      " 1.40055079e-06 1.38270461e-06 1.37488043e-06 1.34173440e-06\n",
      " 1.33165548e-06 1.29951215e-06 1.28140779e-06 1.25743583e-06\n",
      " 1.24356569e-06 1.22467614e-06 1.19684458e-06 1.17875622e-06\n",
      " 1.12839818e-06 1.11508224e-06 1.10667049e-06 1.09951247e-06\n",
      " 1.06851601e-06 1.06096228e-06 1.03552865e-06 1.01874079e-06\n",
      " 1.00914788e-06 9.86107331e-07 9.73112510e-07 9.59579947e-07\n",
      " 9.52732737e-07 9.47224111e-07 9.27082445e-07 9.01503007e-07\n",
      " 8.84763250e-07 8.78563436e-07 8.59079297e-07 8.31818241e-07\n",
      " 8.19089033e-07 8.04030249e-07 7.99638721e-07 7.90513692e-07\n",
      " 7.77084185e-07 7.70030696e-07 7.65634579e-07 7.55556775e-07\n",
      " 7.41557151e-07 7.34946680e-07 7.22169982e-07 7.09967078e-07\n",
      " 6.98693946e-07 6.93830724e-07 6.87359647e-07 6.77242539e-07\n",
      " 6.72383195e-07 6.64787080e-07 6.60407872e-07 6.54708310e-07\n",
      " 6.44624814e-07 6.41785051e-07 6.36443923e-07 6.25321855e-07\n",
      " 6.13592523e-07 6.09971494e-07 6.07458880e-07 6.04215867e-07\n",
      " 5.94062498e-07 5.88903366e-07 5.85890287e-07 5.78841553e-07\n",
      " 5.74453881e-07 5.64259795e-07 5.56421064e-07 5.53186427e-07\n",
      " 5.49151270e-07 5.46235697e-07 5.41834659e-07 5.33061424e-07\n",
      " 5.20304152e-07 5.17402119e-07 5.13266375e-07 5.02289429e-07\n",
      " 4.98389887e-07 4.95957026e-07 4.89444267e-07 4.84159406e-07\n",
      " 4.77530693e-07 4.72730924e-07 4.68289528e-07 4.66131524e-07\n",
      " 4.62576340e-07 4.52273593e-07 4.49256884e-07 4.46155127e-07\n",
      " 4.43144506e-07 4.41086321e-07 4.38397542e-07 4.29970119e-07\n",
      " 4.24808093e-07 4.20084476e-07 4.14731534e-07 4.05996180e-07\n",
      " 4.01176859e-07 3.96247181e-07 3.89751327e-07 3.81990635e-07\n",
      " 3.74707153e-07 3.65297596e-07 3.58443897e-07 3.53628725e-07\n",
      " 3.40050128e-07 3.33511779e-07 3.23935200e-07 3.21754133e-07\n",
      " 3.17436524e-07 3.13632918e-07 3.07100137e-07 3.03081943e-07\n",
      " 2.96185382e-07 2.91772819e-07 2.87359467e-07 2.83616229e-07\n",
      " 2.75923128e-07 2.73620452e-07 2.72006795e-07 2.70535278e-07\n",
      " 2.67822171e-07 2.66002940e-07 2.61591303e-07 2.60276487e-07\n",
      " 2.55843607e-07 2.52712318e-07 2.50884739e-07 2.48531837e-07\n",
      " 2.46920636e-07 2.42884776e-07 2.41818284e-07 2.41027509e-07\n",
      " 2.37050155e-07 2.34155486e-07 2.30868989e-07 2.28646727e-07\n",
      " 2.25039392e-07 2.21992735e-07 2.19376897e-07 2.19057993e-07\n",
      " 2.16926577e-07 2.15005736e-07 2.14713441e-07 2.11957982e-07\n",
      " 2.09856777e-07 2.08104997e-07 2.04970319e-07 2.03166095e-07\n",
      " 2.01671610e-07 2.00300507e-07 1.98221982e-07 1.95328294e-07\n",
      " 1.94331933e-07 1.91765516e-07 1.88978584e-07 1.82466841e-07\n",
      " 1.80194369e-07 1.74998387e-07 1.70708267e-07 1.67121910e-07\n",
      " 1.63835805e-07 1.60730670e-07 1.57842725e-07 1.52807527e-07\n",
      " 1.50038863e-07 1.47559946e-07 1.45153297e-07 1.42592422e-07\n",
      " 1.39972745e-07 1.38088752e-07 1.35154899e-07 1.33523123e-07\n",
      " 1.32869498e-07 1.31480656e-07 1.29307985e-07 1.28705675e-07\n",
      " 1.27240641e-07 1.24579845e-07 1.22057339e-07 1.21544368e-07\n",
      " 1.19568772e-07 1.17175937e-07 1.16688723e-07 1.15449644e-07\n",
      " 1.15000602e-07 1.12524600e-07 1.10702957e-07 1.09667990e-07\n",
      " 1.07422118e-07 1.05075499e-07 1.02714223e-07 1.00949260e-07\n",
      " 1.00540479e-07 1.00161534e-07 9.95247400e-08 9.76048606e-08\n",
      " 9.55399655e-08 9.53138301e-08 9.37015418e-08 9.21336092e-08\n",
      " 9.13656781e-08 9.02466002e-08 8.90429863e-08 8.87420939e-08\n",
      " 8.85434351e-08 8.60989323e-08 8.42131679e-08 8.31168207e-08\n",
      " 8.15452711e-08 7.94284575e-08 7.88602109e-08 7.82796529e-08\n",
      " 7.77154331e-08 7.56332452e-08 7.42976982e-08 7.29751526e-08\n",
      " 7.16927881e-08 7.11294197e-08 6.96272598e-08 6.88567467e-08\n",
      " 6.76127544e-08 6.65175713e-08 6.55754444e-08 6.51812961e-08\n",
      " 6.45725777e-08 6.39507324e-08 6.28411411e-08 6.13174213e-08\n",
      " 6.04303060e-08 5.86302488e-08 5.78527896e-08 5.61408561e-08\n",
      " 5.54126588e-08 5.47367883e-08 5.39960590e-08 5.22518557e-08\n",
      " 5.11298380e-08 5.04500881e-08 4.99150884e-08 4.91741134e-08\n",
      " 4.76261119e-08 4.71625419e-08 4.67756099e-08 4.63507489e-08\n",
      " 4.61241494e-08 4.57334227e-08 4.52312851e-08 4.50288954e-08\n",
      " 4.46224817e-08 4.41396913e-08 4.35967376e-08 4.29788514e-08\n",
      " 4.20218210e-08 4.18522441e-08 4.06351527e-08 3.90615699e-08\n",
      " 3.84525071e-08 3.79707521e-08 3.68487354e-08 3.65041045e-08\n",
      " 3.62113263e-08 3.49217934e-08 3.46593687e-08 3.41735075e-08\n",
      " 3.39346595e-08 3.38714864e-08 3.35128689e-08 3.33065536e-08\n",
      " 3.26472418e-08 3.18441798e-08 3.11301783e-08 3.06137769e-08\n",
      " 3.01651663e-08 2.95165966e-08 2.91851396e-08 2.90684880e-08\n",
      " 2.86266221e-08 2.82327925e-08 2.79643982e-08 2.76070733e-08\n",
      " 2.72877352e-08 2.67252061e-08 2.61539996e-08 2.58956972e-08\n",
      " 2.58008922e-08 2.52897161e-08 2.49873219e-08 2.48954260e-08\n",
      " 2.47041956e-08 2.46591867e-08 2.43660265e-08 2.42531088e-08\n",
      " 2.39420183e-08 2.35510741e-08 2.34800939e-08 2.29513035e-08\n",
      " 2.24905081e-08 2.22380274e-08 2.21732459e-08 2.20740428e-08\n",
      " 2.19789728e-08 2.13326482e-08 2.10978373e-08 2.07646042e-08\n",
      " 2.03920311e-08 2.01450338e-08 1.99920629e-08 1.94978755e-08\n",
      " 1.91149416e-08 1.90505131e-08 1.88418416e-08 1.84625155e-08\n",
      " 1.83624401e-08 1.82544675e-08 1.79924926e-08 1.78218342e-08\n",
      " 1.77393036e-08 1.74326986e-08 1.72766437e-08 1.70997288e-08\n",
      " 1.68016841e-08 1.65384636e-08 1.64578657e-08 1.63060396e-08\n",
      " 1.59555072e-08 1.56810638e-08 1.56201842e-08 1.55735732e-08\n",
      " 1.54832738e-08 1.51108109e-08 1.49073829e-08 1.48288552e-08\n",
      " 1.45786086e-08 1.42441776e-08 1.39784872e-08 1.39271704e-08]\n"
     ]
    }
   ],
   "source": [
    "print(GBM.train_score_)"
   ]
  },
  {
   "cell_type": "markdown",
   "metadata": {},
   "source": [
    "Nous pouvons aussi tracer l'évolution de l'erreur de test mse (ou bien le score $R^2$) le long des itérations. En effet, pour retrouver tous les estimateurs temporaires à chaque étape de l'algo, il suffit de considérer la somme tronquée du prédicteur boosting final. \n",
    "> Utiliser les méthodes `staged_predict()` et `loss_()` de la classe `GradientBoostingRegressor` pour afficher l'erreur de test en fonction du nombre d'itérations. Comparer avec l'erreur sur le train. \n"
   ]
  },
  {
   "cell_type": "code",
   "execution_count": 120,
   "metadata": {},
   "outputs": [],
   "source": [
    "test_score = []\n",
    "for y_pred in  GBM.staged_predict(X_housing_test):\n",
    "    test_score.append(GBM.loss_(y_pred, y_housing_test))\n",
    "#print (test_score)"
   ]
  },
  {
   "cell_type": "code",
   "execution_count": 121,
   "metadata": {},
   "outputs": [
    {
     "data": {
      "image/png": "[encoded data removed]",
      "text/plain": [
       "<Figure size 432x288 with 1 Axes>"
      ]
     },
     "metadata": {
      "needs_background": "light"
     },
     "output_type": "display_data"
    }
   ],
   "source": [
    "plt.plot(np.arange(GBM.n_estimators) + 1, GBM.train_score_, 'b-',\n",
    "         label='Training mse')\n",
    "plt.plot(np.arange(GBM.n_estimators) + 1, test_score, 'r-',\n",
    "         label='Test mse')\n",
    "plt.legend(loc='upper right')\n",
    "plt.xlabel('Boosting Iterations')\n",
    "plt.ylabel('mse');"
   ]
  },
  {
   "cell_type": "markdown",
   "metadata": {},
   "source": [
    "> Est-il ici pertinent de faire du \"early stopping\" i.e. considérer une somme tronquée du prédicteur boosting pour contrôler le sur-apprentissage ?"
   ]
  },
  {
   "cell_type": "markdown",
   "metadata": {},
   "source": [
    "Ici, on regarde la courbe du \"Test MSE\" qui diminue parallèlement à la diminution du Training MSE\" ce qui est naturel. Donc, il n'y a pas besoin de faire du \"early stopping\". Après, on peut arrêter au bout de 100 itérations afin d'augmenter la performance du modèle."
   ]
  },
  {
   "cell_type": "markdown",
   "metadata": {},
   "source": [
    "> Superposer quelques trajectoires pour plusieurs valeurs du learning rate."
   ]
  },
  {
   "cell_type": "code",
   "execution_count": 122,
   "metadata": {},
   "outputs": [
    {
     "data": {
      "image/png": "[encoded data removed]",
      "text/plain": [
       "<Figure size 432x288 with 1 Axes>"
      ]
     },
     "metadata": {
      "needs_background": "light"
     },
     "output_type": "display_data"
    }
   ],
   "source": [
    "### TODO ###\n",
    "lr = [0.05, 0.1, 0.15, 0.2]\n",
    "GBM = []\n",
    "for i,l in enumerate(lr) :\n",
    "    GBM.append(GradientBoostingRegressor(n_estimators=1000,\n",
    "                                            max_depth=8,\n",
    "                                            min_samples_split= 4,\n",
    "                                            learning_rate= l,\n",
    "                                            loss='squared_error'))\n",
    "    GBM[i].fit(X_housing_train, y_housing_train)   \n",
    "\n",
    "    test_score = []\n",
    "    for y_pred in  GBM[i].staged_predict(X_housing_test):\n",
    "        test_score.append(GBM[i].loss_(y_pred, y_housing_test))\n",
    "    #dessin\n",
    "    plt.plot(np.arange(GBM[i].n_estimators) + 1, GBM[i].train_score_, 'b-',\n",
    "            label='Training mse'+str(i))\n",
    "    plt.plot(np.arange(GBM[i].n_estimators) + 1, test_score, 'r-',\n",
    "            label='Test mse'+str(i))\n",
    "    plt.legend(loc='upper right')\n",
    "    plt.xlabel('Boosting Iterations')\n",
    "    plt.ylabel('mse')\n",
    "    xlim(0,100)\n"
   ]
  },
  {
   "cell_type": "markdown",
   "metadata": {},
   "source": [
    "#### Choix des paramètres du GBM"
   ]
  },
  {
   "cell_type": "markdown",
   "metadata": {},
   "source": [
    "> Pour `n_estimators=300` et `learning_rate=0.1`, effectuer une recherche avec par `GridSearch()` pour choisir `max_depth` et  `min_samples_split`. Faire cette recherche en \"cross validant\" uniquement l'échantillon d'apprentissage de façon à garder des données pour évaluer les performances du modèle finalement sélectionné."
   ]
  },
  {
   "cell_type": "code",
   "execution_count": 123,
   "metadata": {},
   "outputs": [
    {
     "data": {
      "text/plain": [
       "6"
      ]
     },
     "execution_count": 123,
     "metadata": {},
     "output_type": "execute_result"
    }
   ],
   "source": [
    "max_depth_values= [2,4,6,8] \n",
    "min_samples_split_values= [2,3,4]\n",
    "\n",
    "import multiprocessing\n",
    "multiprocessing.cpu_count()"
   ]
  },
  {
   "cell_type": "code",
   "execution_count": 124,
   "metadata": {},
   "outputs": [
    {
     "data": {
      "text/plain": [
       "{'max_depth': 2, 'min_samples_split': 3}"
      ]
     },
     "execution_count": 124,
     "metadata": {},
     "output_type": "execute_result"
    }
   ],
   "source": [
    "from sklearn.model_selection import GridSearchCV\n",
    "\n",
    "GBM = GradientBoostingRegressor(n_estimators=300,\n",
    "                                            max_depth=8,\n",
    "                                            min_samples_split= 4,\n",
    "                                            learning_rate= 0.1,\n",
    "                                            loss='squared_error')\n",
    "\n",
    "param_grid = dict(max_depth = max_depth_values,min_samples_split =min_samples_split_values)\n",
    "\n",
    "grid_search = GridSearchCV(GBM, \n",
    "                            param_grid,\n",
    "                            cv=5, \n",
    "                            n_jobs=2)\n",
    "\n",
    "grid_result = grid_search.fit(X_housing_train, y_housing_train) \n",
    "grid_result.best_params_"
   ]
  },
  {
   "cell_type": "code",
   "execution_count": 39,
   "metadata": {},
   "outputs": [
    {
     "name": "stdout",
     "output_type": "stream",
     "text": [
      "0.740968 (0.050031) with: {'max_depth': 2, 'min_samples_split': 2}\n",
      "0.740938 (0.049207) with: {'max_depth': 2, 'min_samples_split': 3}\n",
      "0.740206 (0.051805) with: {'max_depth': 2, 'min_samples_split': 4}\n",
      "0.737560 (0.044488) with: {'max_depth': 4, 'min_samples_split': 2}\n",
      "0.736539 (0.040996) with: {'max_depth': 4, 'min_samples_split': 3}\n",
      "0.736492 (0.043435) with: {'max_depth': 4, 'min_samples_split': 4}\n",
      "0.697825 (0.042131) with: {'max_depth': 6, 'min_samples_split': 2}\n",
      "0.704698 (0.038881) with: {'max_depth': 6, 'min_samples_split': 3}\n",
      "0.707759 (0.031881) with: {'max_depth': 6, 'min_samples_split': 4}\n",
      "0.643783 (0.054705) with: {'max_depth': 8, 'min_samples_split': 2}\n",
      "0.631461 (0.071880) with: {'max_depth': 8, 'min_samples_split': 3}\n",
      "0.637361 (0.064588) with: {'max_depth': 8, 'min_samples_split': 4}\n"
     ]
    }
   ],
   "source": [
    "means = grid_result.cv_results_['mean_test_score']\n",
    "stds = grid_result.cv_results_['std_test_score']\n",
    "params = grid_result.cv_results_['params']\n",
    "for mean, stdev, param in zip(means, stds, params):\n",
    "    print(\"%f (%f) with: %r\" % (mean, stdev, param))"
   ]
  },
  {
   "cell_type": "markdown",
   "metadata": {},
   "source": [
    "On va retenir max_depth = 2 et min_samples_split = 3 qui maximisent les 2 scores."
   ]
  },
  {
   "cell_type": "markdown",
   "metadata": {},
   "source": [
    "> Une fois ces valeurs choisies, diminuer le learning rate et augmenter le nombre d'itérations pour essayer d'améliorer encore les performances."
   ]
  },
  {
   "cell_type": "code",
   "execution_count": 125,
   "metadata": {},
   "outputs": [
    {
     "data": {
      "text/plain": [
       "{'learning_rate': 0.1, 'n_estimators': 300}"
      ]
     },
     "execution_count": 125,
     "metadata": {},
     "output_type": "execute_result"
    }
   ],
   "source": [
    "GBM = GradientBoostingRegressor(n_estimators=1000,\n",
    "                                            max_depth=2,\n",
    "                                            min_samples_split= 3,\n",
    "                                            learning_rate= 0.01,\n",
    "                                            loss='squared_error')\n",
    "\n",
    "learning_rate_values= [0.001, 0.01,0.02,0.05,0.1]\n",
    "n_estimators_values= [300,500,700,900, 1100]\n",
    "\n",
    "param_grid = dict(learning_rate = learning_rate_values,n_estimators = n_estimators_values)\n",
    "\n",
    "grid_search = GridSearchCV(GBM, \n",
    "                            param_grid,\n",
    "                            cv=5, \n",
    "                            n_jobs=2)\n",
    "\n",
    "grid_result = grid_search.fit(X_housing_train, y_housing_train) \n",
    "grid_result.best_params_"
   ]
  },
  {
   "cell_type": "markdown",
   "metadata": {},
   "source": [
    "> Calculer le $R^2$ et l'erreur de test pour le modèle final"
   ]
  },
  {
   "cell_type": "code",
   "execution_count": 81,
   "metadata": {},
   "outputs": [
    {
     "data": {
      "text/plain": [
       "0.7769683778308084"
      ]
     },
     "execution_count": 81,
     "metadata": {},
     "output_type": "execute_result"
    }
   ],
   "source": [
    "grid_result.best_estimator_.score(X_housing_test, y_housing_test)"
   ]
  },
  {
   "cell_type": "code",
   "execution_count": 82,
   "metadata": {},
   "outputs": [
    {
     "data": {
      "text/plain": [
       "0.2854265102604582"
      ]
     },
     "execution_count": 82,
     "metadata": {},
     "output_type": "execute_result"
    }
   ],
   "source": [
    "mean_squared_error(y_housing_test, grid_result.best_estimator_.predict(X_housing_test))"
   ]
  },
  {
   "cell_type": "markdown",
   "metadata": {},
   "source": [
    "On note qu'on a obtenu un $R^2$ plus grand et une mean_squared_error plus petite."
   ]
  },
  {
   "cell_type": "markdown",
   "metadata": {},
   "source": [
    "#### Indices d'importance"
   ]
  },
  {
   "cell_type": "markdown",
   "metadata": {},
   "source": [
    "> Il est aussi possible de calculer des indices d'importances pour les GMB avec la méthode `feature_importances_`. Comparer les importances du modèle GMB obtenu avec celles obtenues précédemment pour les forêts aléatoires."
   ]
  },
  {
   "cell_type": "code",
   "execution_count": 83,
   "metadata": {},
   "outputs": [],
   "source": [
    "GBMbest = grid_result.best_estimator_"
   ]
  },
  {
   "cell_type": "code",
   "execution_count": 84,
   "metadata": {},
   "outputs": [
    {
     "data": {
      "text/html": [
       "<style>#sk-container-id-1 {color: black;background-color: white;}#sk-container-id-1 pre{padding: 0;}#sk-container-id-1 div.sk-toggleable {background-color: white;}#sk-container-id-1 label.sk-toggleable__label {cursor: pointer;display: block;width: 100%;margin-bottom: 0;padding: 0.3em;box-sizing: border-box;text-align: center;}#sk-container-id-1 label.sk-toggleable__label-arrow:before {content: \"▸\";float: left;margin-right: 0.25em;color: #696969;}#sk-container-id-1 label.sk-toggleable__label-arrow:hover:before {color: black;}#sk-container-id-1 div.sk-estimator:hover label.sk-toggleable__label-arrow:before {color: black;}#sk-container-id-1 div.sk-toggleable__content {max-height: 0;max-width: 0;overflow: hidden;text-align: left;background-color: #f0f8ff;}#sk-container-id-1 div.sk-toggleable__content pre {margin: 0.2em;color: black;border-radius: 0.25em;background-color: #f0f8ff;}#sk-container-id-1 input.sk-toggleable__control:checked~div.sk-toggleable__content {max-height: 200px;max-width: 100%;overflow: auto;}#sk-container-id-1 input.sk-toggleable__control:checked~label.sk-toggleable__label-arrow:before {content: \"▾\";}#sk-container-id-1 div.sk-estimator input.sk-toggleable__control:checked~label.sk-toggleable__label {background-color: #d4ebff;}#sk-container-id-1 div.sk-label input.sk-toggleable__control:checked~label.sk-toggleable__label {background-color: #d4ebff;}#sk-container-id-1 input.sk-hidden--visually {border: 0;clip: rect(1px 1px 1px 1px);clip: rect(1px, 1px, 1px, 1px);height: 1px;margin: -1px;overflow: hidden;padding: 0;position: absolute;width: 1px;}#sk-container-id-1 div.sk-estimator {font-family: monospace;background-color: #f0f8ff;border: 1px dotted black;border-radius: 0.25em;box-sizing: border-box;margin-bottom: 0.5em;}#sk-container-id-1 div.sk-estimator:hover {background-color: #d4ebff;}#sk-container-id-1 div.sk-parallel-item::after {content: \"\";width: 100%;border-bottom: 1px solid gray;flex-grow: 1;}#sk-container-id-1 div.sk-label:hover label.sk-toggleable__label {background-color: #d4ebff;}#sk-container-id-1 div.sk-serial::before {content: \"\";position: absolute;border-left: 1px solid gray;box-sizing: border-box;top: 0;bottom: 0;left: 50%;z-index: 0;}#sk-container-id-1 div.sk-serial {display: flex;flex-direction: column;align-items: center;background-color: white;padding-right: 0.2em;padding-left: 0.2em;position: relative;}#sk-container-id-1 div.sk-item {position: relative;z-index: 1;}#sk-container-id-1 div.sk-parallel {display: flex;align-items: stretch;justify-content: center;background-color: white;position: relative;}#sk-container-id-1 div.sk-item::before, #sk-container-id-1 div.sk-parallel-item::before {content: \"\";position: absolute;border-left: 1px solid gray;box-sizing: border-box;top: 0;bottom: 0;left: 50%;z-index: -1;}#sk-container-id-1 div.sk-parallel-item {display: flex;flex-direction: column;z-index: 1;position: relative;background-color: white;}#sk-container-id-1 div.sk-parallel-item:first-child::after {align-self: flex-end;width: 50%;}#sk-container-id-1 div.sk-parallel-item:last-child::after {align-self: flex-start;width: 50%;}#sk-container-id-1 div.sk-parallel-item:only-child::after {width: 0;}#sk-container-id-1 div.sk-dashed-wrapped {border: 1px dashed gray;margin: 0 0.4em 0.5em 0.4em;box-sizing: border-box;padding-bottom: 0.4em;background-color: white;}#sk-container-id-1 div.sk-label label {font-family: monospace;font-weight: bold;display: inline-block;line-height: 1.2em;}#sk-container-id-1 div.sk-label-container {text-align: center;}#sk-container-id-1 div.sk-container {/* jupyter's `normalize.less` sets `[hidden] { display: none; }` but bootstrap.min.css set `[hidden] { display: none !important; }` so we also need the `!important` here to be able to override the default hidden behavior on the sphinx rendered scikit-learn.org. See: https://github.com/scikit-learn/scikit-learn/issues/21755 */display: inline-block !important;position: relative;}#sk-container-id-1 div.sk-text-repr-fallback {display: none;}</style><div id=\"sk-container-id-1\" class=\"sk-top-container\"><div class=\"sk-text-repr-fallback\"><pre>GradientBoostingRegressor(learning_rate=0.02, max_depth=2, n_estimators=1100)</pre><b>In a Jupyter environment, please rerun this cell to show the HTML representation or trust the notebook. <br />On GitHub, the HTML representation is unable to render, please try loading this page with nbviewer.org.</b></div><div class=\"sk-container\" hidden><div class=\"sk-item\"><div class=\"sk-estimator sk-toggleable\"><input class=\"sk-toggleable__control sk-hidden--visually\" id=\"sk-estimator-id-1\" type=\"checkbox\" checked><label for=\"sk-estimator-id-1\" class=\"sk-toggleable__label sk-toggleable__label-arrow\">GradientBoostingRegressor</label><div class=\"sk-toggleable__content\"><pre>GradientBoostingRegressor(learning_rate=0.02, max_depth=2, n_estimators=1100)</pre></div></div></div></div></div>"
      ],
      "text/plain": [
       "GradientBoostingRegressor(learning_rate=0.02, max_depth=2, n_estimators=1100)"
      ]
     },
     "execution_count": 84,
     "metadata": {},
     "output_type": "execute_result"
    }
   ],
   "source": [
    "# On commence ajuster le modele choisi sur toutes les données:\n",
    "GBMbest.fit(X_housing,Y_housing)"
   ]
  },
  {
   "cell_type": "code",
   "execution_count": 86,
   "metadata": {},
   "outputs": [
    {
     "data": {
      "text/plain": [
       "Text(0.5, 1.0, 'Importance GBM')"
      ]
     },
     "execution_count": 86,
     "metadata": {},
     "output_type": "execute_result"
    },
    {
     "data": {
      "image/png": "[encoded data removed]",
      "text/plain": [
       "<Figure size 432x288 with 1 Axes>"
      ]
     },
     "metadata": {
      "needs_background": "light"
     },
     "output_type": "display_data"
    }
   ],
   "source": [
    "feature_importance = GBMbest.feature_importances_\n",
    "### TODO : affichage ###\n",
    "\n",
    "index = arange(len(feature_importance))\n",
    "\n",
    "fig, ax = plt.subplots()\n",
    "ax.bar(index, feature_importance)\n",
    "ax.set_xticks(index)\n",
    "ax.set_xticklabels(california_housing.feature_names)\n",
    "ax.set_title(\"Importance GBM\")"
   ]
  },
  {
   "cell_type": "markdown",
   "metadata": {},
   "source": [
    "##  XGboost"
   ]
  },
  {
   "cell_type": "markdown",
   "metadata": {},
   "source": [
    "Si nécessaire, installer la librairie [`xgboost`](https://xgboost.readthedocs.io/en/latest/install.html). "
   ]
  },
  {
   "cell_type": "code",
   "execution_count": 88,
   "metadata": {},
   "outputs": [],
   "source": [
    "from xgboost import XGBRegressor"
   ]
  },
  {
   "cell_type": "markdown",
   "metadata": {},
   "source": [
    "Nous allons utilser Xgboost avec pour classifieurs faibles des arbres (on pourait utiliser aussi des modèles linéaires basés sur peu de variabes)."
   ]
  },
  {
   "cell_type": "markdown",
   "metadata": {},
   "source": [
    "Les paramètres de Xgboost, notamment pour les fonctions `XGBRegressor()` et `XGBClassifier()`, sont décrits dans [cette page](http://xgboost.readthedocs.io/en/latest/python/python_api.html#module-xgboost.sklearn). Elles sont similaires aux commdandes des fonctions de sckit-learn."
   ]
  },
  {
   "cell_type": "code",
   "execution_count": 89,
   "metadata": {},
   "outputs": [
    {
     "data": {
      "text/html": [
       "<style>#sk-container-id-2 {color: black;background-color: white;}#sk-container-id-2 pre{padding: 0;}#sk-container-id-2 div.sk-toggleable {background-color: white;}#sk-container-id-2 label.sk-toggleable__label {cursor: pointer;display: block;width: 100%;margin-bottom: 0;padding: 0.3em;box-sizing: border-box;text-align: center;}#sk-container-id-2 label.sk-toggleable__label-arrow:before {content: \"▸\";float: left;margin-right: 0.25em;color: #696969;}#sk-container-id-2 label.sk-toggleable__label-arrow:hover:before {color: black;}#sk-container-id-2 div.sk-estimator:hover label.sk-toggleable__label-arrow:before {color: black;}#sk-container-id-2 div.sk-toggleable__content {max-height: 0;max-width: 0;overflow: hidden;text-align: left;background-color: #f0f8ff;}#sk-container-id-2 div.sk-toggleable__content pre {margin: 0.2em;color: black;border-radius: 0.25em;background-color: #f0f8ff;}#sk-container-id-2 input.sk-toggleable__control:checked~div.sk-toggleable__content {max-height: 200px;max-width: 100%;overflow: auto;}#sk-container-id-2 input.sk-toggleable__control:checked~label.sk-toggleable__label-arrow:before {content: \"▾\";}#sk-container-id-2 div.sk-estimator input.sk-toggleable__control:checked~label.sk-toggleable__label {background-color: #d4ebff;}#sk-container-id-2 div.sk-label input.sk-toggleable__control:checked~label.sk-toggleable__label {background-color: #d4ebff;}#sk-container-id-2 input.sk-hidden--visually {border: 0;clip: rect(1px 1px 1px 1px);clip: rect(1px, 1px, 1px, 1px);height: 1px;margin: -1px;overflow: hidden;padding: 0;position: absolute;width: 1px;}#sk-container-id-2 div.sk-estimator {font-family: monospace;background-color: #f0f8ff;border: 1px dotted black;border-radius: 0.25em;box-sizing: border-box;margin-bottom: 0.5em;}#sk-container-id-2 div.sk-estimator:hover {background-color: #d4ebff;}#sk-container-id-2 div.sk-parallel-item::after {content: \"\";width: 100%;border-bottom: 1px solid gray;flex-grow: 1;}#sk-container-id-2 div.sk-label:hover label.sk-toggleable__label {background-color: #d4ebff;}#sk-container-id-2 div.sk-serial::before {content: \"\";position: absolute;border-left: 1px solid gray;box-sizing: border-box;top: 0;bottom: 0;left: 50%;z-index: 0;}#sk-container-id-2 div.sk-serial {display: flex;flex-direction: column;align-items: center;background-color: white;padding-right: 0.2em;padding-left: 0.2em;position: relative;}#sk-container-id-2 div.sk-item {position: relative;z-index: 1;}#sk-container-id-2 div.sk-parallel {display: flex;align-items: stretch;justify-content: center;background-color: white;position: relative;}#sk-container-id-2 div.sk-item::before, #sk-container-id-2 div.sk-parallel-item::before {content: \"\";position: absolute;border-left: 1px solid gray;box-sizing: border-box;top: 0;bottom: 0;left: 50%;z-index: -1;}#sk-container-id-2 div.sk-parallel-item {display: flex;flex-direction: column;z-index: 1;position: relative;background-color: white;}#sk-container-id-2 div.sk-parallel-item:first-child::after {align-self: flex-end;width: 50%;}#sk-container-id-2 div.sk-parallel-item:last-child::after {align-self: flex-start;width: 50%;}#sk-container-id-2 div.sk-parallel-item:only-child::after {width: 0;}#sk-container-id-2 div.sk-dashed-wrapped {border: 1px dashed gray;margin: 0 0.4em 0.5em 0.4em;box-sizing: border-box;padding-bottom: 0.4em;background-color: white;}#sk-container-id-2 div.sk-label label {font-family: monospace;font-weight: bold;display: inline-block;line-height: 1.2em;}#sk-container-id-2 div.sk-label-container {text-align: center;}#sk-container-id-2 div.sk-container {/* jupyter's `normalize.less` sets `[hidden] { display: none; }` but bootstrap.min.css set `[hidden] { display: none !important; }` so we also need the `!important` here to be able to override the default hidden behavior on the sphinx rendered scikit-learn.org. See: https://github.com/scikit-learn/scikit-learn/issues/21755 */display: inline-block !important;position: relative;}#sk-container-id-2 div.sk-text-repr-fallback {display: none;}</style><div id=\"sk-container-id-2\" class=\"sk-top-container\"><div class=\"sk-text-repr-fallback\"><pre>XGBRegressor(base_score=None, booster=None, callbacks=None,\n",
       "             colsample_bylevel=None, colsample_bynode=None,\n",
       "             colsample_bytree=None, early_stopping_rounds=None,\n",
       "             enable_categorical=False, eval_metric=None, feature_types=None,\n",
       "             gamma=None, gpu_id=None, grow_policy=None, importance_type=None,\n",
       "             interaction_constraints=None, learning_rate=None, max_bin=None,\n",
       "             max_cat_threshold=None, max_cat_to_onehot=None,\n",
       "             max_delta_step=None, max_depth=None, max_leaves=None,\n",
       "             min_child_weight=None, missing=nan, monotone_constraints=None,\n",
       "             n_estimators=100, n_jobs=None, num_parallel_tree=None,\n",
       "             predictor=None, random_state=None, ...)</pre><b>In a Jupyter environment, please rerun this cell to show the HTML representation or trust the notebook. <br />On GitHub, the HTML representation is unable to render, please try loading this page with nbviewer.org.</b></div><div class=\"sk-container\" hidden><div class=\"sk-item\"><div class=\"sk-estimator sk-toggleable\"><input class=\"sk-toggleable__control sk-hidden--visually\" id=\"sk-estimator-id-2\" type=\"checkbox\" checked><label for=\"sk-estimator-id-2\" class=\"sk-toggleable__label sk-toggleable__label-arrow\">XGBRegressor</label><div class=\"sk-toggleable__content\"><pre>XGBRegressor(base_score=None, booster=None, callbacks=None,\n",
       "             colsample_bylevel=None, colsample_bynode=None,\n",
       "             colsample_bytree=None, early_stopping_rounds=None,\n",
       "             enable_categorical=False, eval_metric=None, feature_types=None,\n",
       "             gamma=None, gpu_id=None, grow_policy=None, importance_type=None,\n",
       "             interaction_constraints=None, learning_rate=None, max_bin=None,\n",
       "             max_cat_threshold=None, max_cat_to_onehot=None,\n",
       "             max_delta_step=None, max_depth=None, max_leaves=None,\n",
       "             min_child_weight=None, missing=nan, monotone_constraints=None,\n",
       "             n_estimators=100, n_jobs=None, num_parallel_tree=None,\n",
       "             predictor=None, random_state=None, ...)</pre></div></div></div></div></div>"
      ],
      "text/plain": [
       "XGBRegressor(base_score=None, booster=None, callbacks=None,\n",
       "             colsample_bylevel=None, colsample_bynode=None,\n",
       "             colsample_bytree=None, early_stopping_rounds=None,\n",
       "             enable_categorical=False, eval_metric=None, feature_types=None,\n",
       "             gamma=None, gpu_id=None, grow_policy=None, importance_type=None,\n",
       "             interaction_constraints=None, learning_rate=None, max_bin=None,\n",
       "             max_cat_threshold=None, max_cat_to_onehot=None,\n",
       "             max_delta_step=None, max_depth=None, max_leaves=None,\n",
       "             min_child_weight=None, missing=nan, monotone_constraints=None,\n",
       "             n_estimators=100, n_jobs=None, num_parallel_tree=None,\n",
       "             predictor=None, random_state=None, ...)"
      ]
     },
     "execution_count": 89,
     "metadata": {},
     "output_type": "execute_result"
    }
   ],
   "source": [
    "XGBR = XGBRegressor()\n",
    "XGBR.fit(X_housing_train, y_housing_train)\n",
    "y_pred = XGBR.predict(X_housing_test)\n",
    "XGBR"
   ]
  },
  {
   "cell_type": "markdown",
   "metadata": {},
   "source": [
    "> Donner le score $R^2$ et l'erreur mse. Comparer avec GBM."
   ]
  },
  {
   "cell_type": "code",
   "execution_count": 90,
   "metadata": {},
   "outputs": [
    {
     "data": {
      "text/plain": [
       "0.7688623572316188"
      ]
     },
     "execution_count": 90,
     "metadata": {},
     "output_type": "execute_result"
    }
   ],
   "source": [
    "XGBR.score(X_housing_test, y_housing_test)"
   ]
  },
  {
   "cell_type": "code",
   "execution_count": 91,
   "metadata": {},
   "outputs": [
    {
     "data": {
      "text/plain": [
       "0.29580025524434633"
      ]
     },
     "execution_count": 91,
     "metadata": {},
     "output_type": "execute_result"
    }
   ],
   "source": [
    "mean_squared_error(y_housing_test, y_pred)"
   ]
  },
  {
   "cell_type": "markdown",
   "metadata": {},
   "source": [
    "Comparaison XGBR VS GBM : ...\n"
   ]
  },
  {
   "cell_type": "markdown",
   "metadata": {},
   "source": [
    "Les remarques précedentes sur les reglages des paramètres de GBM sont encore vraies pour Xgboost. Il faut en plus ajuster les paramètres `alpha`  et `lambda` des termes de régularisation."
   ]
  },
  {
   "cell_type": "markdown",
   "metadata": {},
   "source": [
    "> Choisir les paramètres de Xgboost."
   ]
  },
  {
   "cell_type": "markdown",
   "metadata": {},
   "source": [
    "D'abord avec un learning rate pas trop faible."
   ]
  },
  {
   "cell_type": "code",
   "execution_count": 97,
   "metadata": {},
   "outputs": [
    {
     "data": {
      "text/plain": [
       "{'max_depth': 4, 'min_child_weight': 4, 'reg_alpha': 2, 'reg_lambda': 0.1}"
      ]
     },
     "execution_count": 97,
     "metadata": {},
     "output_type": "execute_result"
    }
   ],
   "source": [
    "max_depth= [2,4,6,8] \n",
    "min_child_weight = [2,4]\n",
    "reg_alpha=  [0,0.1,1,2]\n",
    "reg_lambda = [0,0.1,1,2]\n",
    "### TODO ###\n",
    "\n",
    "param_XGBR = dict(max_depth=max_depth,min_child_weight=min_child_weight,reg_alpha=reg_alpha ,\n",
    "                    reg_lambda=reg_lambda )\n",
    "\n",
    "grid_search = GridSearchCV(XGBR, \n",
    "                            param_XGBR,\n",
    "                            cv=5, \n",
    "                            n_jobs=2)\n",
    "\n",
    "grid_result = grid_search.fit(X_housing_train, y_housing_train) \n",
    "best = grid_result.best_params_\n",
    "best"
   ]
  },
  {
   "cell_type": "markdown",
   "metadata": {},
   "source": [
    "Et maintenant avec des learning rates plus petits:"
   ]
  },
  {
   "cell_type": "code",
   "execution_count": 128,
   "metadata": {},
   "outputs": [
    {
     "data": {
      "text/plain": [
       "{'learning_rate': 0.05, 'n_estimators': 500}"
      ]
     },
     "execution_count": 128,
     "metadata": {},
     "output_type": "execute_result"
    }
   ],
   "source": [
    "learning_rate = [0.001, 0.01,0.05]\n",
    "n_estimators = [100,500,1000]\n",
    "\n",
    "XGBR = XGBRegressor(max_depth = 4, min_child_weight = 4, \n",
    "                    reg_alpha = 2, reg_lambda = 0.1)\n",
    "\n",
    "param_XGBR = dict(learning_rate = learning_rate, n_estimators = n_estimators )\n",
    "\n",
    "grid_search = GridSearchCV(XGBR, \n",
    "                            param_XGBR,\n",
    "                            cv=5, \n",
    "                            n_jobs=2)\n",
    "\n",
    "XGBR_best = grid_search.fit(X_housing_train, y_housing_train) \n",
    "best = XGBR_best.best_params_\n",
    "best"
   ]
  },
  {
   "cell_type": "code",
   "execution_count": 138,
   "metadata": {},
   "outputs": [
    {
     "name": "stdout",
     "output_type": "stream",
     "text": [
      "score 0.7822422230968191\n",
      "mse 0.2957026995388743\n"
     ]
    }
   ],
   "source": [
    "### TODO ###\n",
    "y_pred = XGBR_best.predict(X_housing_test)\n",
    "print ('score',XGBR_best.score(X_housing_test, y_housing_test))\n",
    "print('mse',mean_squared_error(y_housing_test, y_pred))"
   ]
  },
  {
   "cell_type": "code",
   "execution_count": 140,
   "metadata": {
    "scrolled": true
   },
   "outputs": [
    {
     "data": {
      "image/png": "[encoded data removed]",
      "text/plain": [
       "<Figure size 432x288 with 1 Axes>"
      ]
     },
     "metadata": {
      "needs_background": "light"
     },
     "output_type": "display_data"
    }
   ],
   "source": [
    "### TODO : Graphe de la mse ###\n",
    "learning_rate = [0.001, 0.01,0.05]\n",
    "n_estimators = [100,500,1000]\n",
    "scores = XGBR_best.cv_results_['mean_test_score'].reshape(len(learning_rate), len(n_estimators))\n",
    "\n",
    "for ind, i in enumerate(learning_rate):\n",
    "    plt.plot(n_estimators, scores[ind], label='learning_rate: ' + str(i))\n",
    "plt.legend()\n",
    "plt.xlabel('n_estimators ')\n",
    "plt.ylabel('Mean test score')\n",
    "plt.show()"
   ]
  },
  {
   "cell_type": "markdown",
   "metadata": {},
   "source": [
    "## Implémentation du Boosting Regressor \n",
    "\n",
    "> Implémenter votre propore fonction Tree Boosting Regressor, on considérant la perte $\\ell_2$. On pourra pour cela, à chaque itération, \n",
    "ajuster un arbre de régression (de faible prodondeur) sur les résidus courants, à l'aide de la fonction `tree.DecisionTreeRegressor()` . L'étape 5 de l'Algorithme 6 \"Gradient Tree Boosting Regressor Algorithm\" donné en cours est-elle nécessaire dans ce contexte ? \n"
   ]
  },
  {
   "cell_type": "code",
   "execution_count": null,
   "metadata": {},
   "outputs": [],
   "source": [
    "### TODO ###"
   ]
  }
 ],
 "metadata": {
  "kernelspec": {
   "display_name": "Python 3 (ipykernel)",
   "language": "python",
   "name": "python3"
  },
  "language_info": {
   "codemirror_mode": {
    "name": "ipython",
    "version": 3
   },
   "file_extension": ".py",
   "mimetype": "text/x-python",
   "name": "python",
   "nbconvert_exporter": "python",
   "pygments_lexer": "ipython3",
   "version": "3.9.13"
  },
  "vscode": {
   "interpreter": {
    "hash": "e7673fce31fe4afe50b4d7357ba4e3f000f877c9b2250741ca11e5d63029f695"
   }
  }
 },
 "nbformat": 4,
 "nbformat_minor": 4
}
