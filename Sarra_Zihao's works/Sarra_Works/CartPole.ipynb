{
 "cells": [
  {
   "cell_type": "markdown",
   "id": "f1b9532f",
   "metadata": {},
   "source": [
    "<img src=\"CartPole.png\">"
   ]
  },
  {
   "attachments": {},
   "cell_type": "markdown",
   "id": "e870a3d3",
   "metadata": {},
   "source": [
    "We are going to try to learn a (parametrized) policy to win at the CartPole challenge using the REINFORCE algorithm. More specifically we use the following parametrization for $\\pi_\\theta$\n",
    "\n",
    "\\begin{equation*}\n",
    "    logit ~Pr(\\text{right} \\mid X = x) = x^\\top \\theta\n",
    "\\end{equation*}\n",
    "\n",
    "where $x$ is the state vector and $\\theta$ a vector of parameters to be learnt. Note that we didn't not put an intercept in the above parametrization and it is intended."
   ]
  },
  {
   "attachments": {},
   "cell_type": "markdown",
   "id": "ab0ffd56",
   "metadata": {},
   "source": [
    "#### Question 1:\n",
    "\n",
    "Show that we have\n",
    "\\begin{equation*}\n",
    "  \\nabla \\log \\pi_\\theta(\\text{right} \\mid x) = x \\pi_\\theta(\\text{left} \\mid x)\n",
    "\\end{equation*}\n",
    " and\n",
    "\\begin{equation*}\n",
    "  \\nabla \\log \\pi_\\theta(\\text{left} \\mid x) = -x \\pi_\\theta(\\text{right} \\mid x)\n",
    "\\end{equation*}"
   ]
  },
  {
   "cell_type": "code",
   "execution_count": null,
   "id": "e385b0f8",
   "metadata": {},
   "outputs": [],
   "source": [
    "## Answer goes here"
   ]
  },
  {
   "cell_type": "code",
   "execution_count": 3,
   "id": "699618fc",
   "metadata": {},
   "outputs": [
    {
     "name": "stdout",
     "output_type": "stream",
     "text": [
      "espace observation: Box([-4.8000002e+00 -3.4028235e+38 -4.1887903e-01 -3.4028235e+38], [4.8000002e+00 3.4028235e+38 4.1887903e-01 3.4028235e+38], (4,), float32)\n",
      "espace action: Discrete(2)\n"
     ]
    }
   ],
   "source": [
    "import gymnasium as gym\n",
    "env = gym.make('CartPole-v1')\n",
    "print('espace observation:', env.observation_space)\n",
    "print('espace action:', env.action_space)"
   ]
  },
  {
   "attachments": {},
   "cell_type": "markdown",
   "id": "bf3ffdde",
   "metadata": {},
   "source": [
    "### Description of the Cartpole challenge\n",
    "\n",
    "This environment corresponds to the version of the cart-pole problem described by Barto, Sutton, and Anderson in “Neuronlike Adaptive Elements That Can Solve Difficult Learning Control Problem”. A pole is attached by an un-actuated joint to a cart, which moves along a frictionless track. The pendulum is placed upright on the cart and the goal is to balance the pole by applying forces in the left and right direction on the cart.\n",
    "\n",
    "### Action Space\n",
    "\n",
    "The action is a ndarray with shape (1,) which can take values {0, 1} indicating the direction of the fixed force the cart is pushed with.\n",
    "\n",
    "0: Push cart to the left\n",
    "\n",
    "1: Push cart to the right\n",
    "\n",
    " Note: The velocity that is reduced or increased by the applied force is not fixed and it depends on the angle the pole is pointing. The center of gravity of the pole varies the amount of energy needed to move the cart underneath it\n",
    "\n",
    "### Observation Space\n",
    "The observation is a ndarray with shape (4,) with the values corresponding to the following positions and velocities:\n",
    "\n",
    "Note: While the ranges above denote the possible values for observation space of each element, it is not reflective of the allowed values of the state space in an unterminated episode. Particularly:\n",
    "\n",
    "* The cart x-position (index 0) can be take values between (-4.8, 4.8), but the episode terminates if the cart leaves the (-2.4, 2.4) range.\n",
    "\n",
    "* The pole angle can be observed between (-.418, .418) radians (or ±24°), but the episode terminates if the pole angle is not in the range (-.2095, .2095) (or ±12°)\n",
    "\n",
    "### Rewards\n",
    "Since the goal is to keep the pole upright for as long as possible, a reward of +1 for every step taken, including the termination step, is allotted. The threshold for rewards is 475 for v1.\n",
    "\n",
    "### Starting State\n",
    "All observations are assigned a uniformly random value in (-0.05, 0.05)\n",
    "\n",
    "### Episode End\n",
    "The episode ends if any one of the following occurs:\n",
    "\n",
    "1. Termination: Pole Angle is greater than ±12°\n",
    "\n",
    "2. Termination: Cart Position is greater than ±2.4 (center of the cart reaches the edge of the display)\n",
    "\n",
    "3. Truncation: Episode length is greater than 500 (200 for v0)"
   ]
  },
  {
   "attachments": {},
   "cell_type": "markdown",
   "id": "2ec42181",
   "metadata": {},
   "source": [
    "#### Question 2:\n",
    "\n",
    "Write a function that learns an optimal parametrized policy for the Cartpole challenge. Note that you may want to set the discount factor to $\\gamma = 1$ and the learning rate to $\\eta = 0.001$.\n",
    "\n",
    "*Hint: The **deque** object from **collections** might be useful to store efficiently an entire episode.*(une liste peut suffir)"
   ]
  },
  {
   "cell_type": "code",
   "execution_count": null,
   "id": "e412c079",
   "metadata": {},
   "outputs": [],
   "source": [
    "# %load reinforce.py"
   ]
  },
  {
   "attachments": {},
   "cell_type": "markdown",
   "id": "1cdb146f",
   "metadata": {},
   "source": [
    "#### Question 3:\n",
    "\n",
    "Think about a $Q$-learning or SARSA learning strategies. What could be a drawback of such approaches for the cartpole problem? Does the REINFORCE strategy suffers from this limitation?"
   ]
  },
  {
   "cell_type": "code",
   "execution_count": null,
   "id": "b6dc3123",
   "metadata": {},
   "outputs": [],
   "source": [
    "## Answer goes here"
   ]
  },
  {
   "cell_type": "markdown",
   "id": "a7267222",
   "metadata": {},
   "source": [
    "#### Question 4:\n",
    "\n",
    "Run your brand new algorithm for say, $N = 1000$ episodes, and plot the evolution of the cumulative reward as the training goes."
   ]
  },
  {
   "cell_type": "code",
   "execution_count": 1,
   "id": "231c5933",
   "metadata": {},
   "outputs": [],
   "source": [
    "## %load question_4.py"
   ]
  },
  {
   "cell_type": "markdown",
   "id": "7020a562",
   "metadata": {},
   "source": [
    "#### Question 5:\n",
    "\n",
    "Based on your just learnt parametrized policy, play a game using this policy."
   ]
  },
  {
   "cell_type": "code",
   "execution_count": 2,
   "id": "d0c1ddc5",
   "metadata": {},
   "outputs": [],
   "source": [
    "# %load question_5.py"
   ]
  }
 ],
 "metadata": {
  "kernelspec": {
   "display_name": "Python 3 (ipykernel)",
   "language": "python",
   "name": "python3"
  },
  "language_info": {
   "codemirror_mode": {
    "name": "ipython",
    "version": 3
   },
   "file_extension": ".py",
   "mimetype": "text/x-python",
   "name": "python",
   "nbconvert_exporter": "python",
   "pygments_lexer": "ipython3",
   "version": "3.9.12"
  }
 },
 "nbformat": 4,
 "nbformat_minor": 5
}
