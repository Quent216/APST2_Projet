{
 "cells": [
  {
   "cell_type": "markdown",
   "metadata": {
    "colab_type": "text",
    "id": "Pt5K0125TjeY"
   },
   "source": [
    "# Encodeur-Decodeur\n"
   ]
  },
  {
   "cell_type": "code",
   "execution_count": 27,
   "metadata": {
    "colab": {},
    "colab_type": "code",
    "id": "SQpRDtB4Tje5"
   },
   "outputs": [],
   "source": [
    "import numpy as np\n",
    "import matplotlib.pyplot as plt\n",
    "from sklearn.utils import shuffle\n",
    "from sklearn.model_selection import train_test_split\n",
    "from sklearn.manifold import TSNE\n",
    "import tensorflow as tf\n",
    "from tensorflow import keras\n",
    "from tensorflow.keras import layers"
   ]
  },
  {
   "cell_type": "markdown",
   "metadata": {
    "colab_type": "text",
    "id": "eYKRkn9YTjfY"
   },
   "source": [
    "Pour ce TP nous allons construire deux types de réseaux encodeurs-décodeurs pour les données MNIST."
   ]
  },
  {
   "cell_type": "code",
   "execution_count": 28,
   "metadata": {
    "colab": {
     "base_uri": "https://localhost:8080/",
     "height": 114
    },
    "colab_type": "code",
    "id": "Xl25e6JzTjfZ",
    "outputId": "5c6005cb-2f79-461f-db64-4344a2109b8e"
   },
   "outputs": [],
   "source": [
    "from keras.datasets import mnist\n",
    "(x_train, y_train), (x_test, y_test) = mnist.load_data()"
   ]
  },
  {
   "cell_type": "markdown",
   "metadata": {
    "colab_type": "text",
    "id": "1IpmKqCoTjfd"
   },
   "source": [
    "On normalise les niveaux de gris entre 0 et 1:"
   ]
  },
  {
   "cell_type": "code",
   "execution_count": 29,
   "metadata": {
    "colab": {},
    "colab_type": "code",
    "id": "KklUM-kITjfe"
   },
   "outputs": [],
   "source": [
    "x_train = x_train.astype('float32') / 255.\n",
    "x_test = x_test.astype('float32') / 255."
   ]
  },
  {
   "cell_type": "markdown",
   "metadata": {
    "colab_type": "text",
    "id": "9VomMOlMTjgI"
   },
   "source": [
    "On affiche un échantillon d'images:"
   ]
  },
  {
   "cell_type": "code",
   "execution_count": 30,
   "metadata": {
    "colab": {
     "base_uri": "https://localhost:8080/",
     "height": 145
    },
    "colab_type": "code",
    "id": "z7GZSB48TjgU",
    "outputId": "1e4220ee-5176-4068-dc12-1d37baeb2f68"
   },
   "outputs": [
    {
     "data": {
      "image/png": "[encoded data removed]",
      "text/plain": [
       "<Figure size 1440x288 with 10 Axes>"
      ]
     },
     "metadata": {
      "needs_background": "light"
     },
     "output_type": "display_data"
    }
   ],
   "source": [
    "n = 10  \n",
    "plt.figure(figsize=(20, 4))\n",
    "for i in range(n):\n",
    "    plt.subplot(2, n, i + 1)\n",
    "    plt.imshow(x_test[i])"
   ]
  },
  {
   "cell_type": "code",
   "execution_count": 31,
   "metadata": {},
   "outputs": [
    {
     "name": "stdout",
     "output_type": "stream",
     "text": [
      "(60000, 28, 28)\n",
      "(10000, 28, 28)\n"
     ]
    }
   ],
   "source": [
    "print (x_train.shape)\n",
    "print (x_test.shape)"
   ]
  },
  {
   "cell_type": "markdown",
   "metadata": {
    "colab_type": "text",
    "id": "YGTDIbl_Tjgs"
   },
   "source": [
    "> Transformer chaque observation en un vecteur de taille 784."
   ]
  },
  {
   "cell_type": "code",
   "execution_count": 32,
   "metadata": {
    "colab": {
     "base_uri": "https://localhost:8080/",
     "height": 51
    },
    "colab_type": "code",
    "id": "CqZlhDiITjgt",
    "outputId": "d25eb6ec-9654-4383-bfda-aeb40d740a37"
   },
   "outputs": [
    {
     "name": "stdout",
     "output_type": "stream",
     "text": [
      "(60000, 784)\n",
      "(10000, 784)\n"
     ]
    }
   ],
   "source": [
    "x_train =  np.ndarray.flatten(x_train).reshape(60000,784)\n",
    "x_test =  np.ndarray.flatten(x_test).reshape(10000,784)\n",
    "print(x_train.shape)\n",
    "print(x_test.shape)"
   ]
  },
  {
   "cell_type": "markdown",
   "metadata": {
    "colab_type": "text",
    "id": "jEDk7XL0Tjgv"
   },
   "source": [
    "#  Encodeur-decodeur simple "
   ]
  },
  {
   "cell_type": "markdown",
   "metadata": {
    "colab_type": "text",
    "id": "vlNmGcWpTjgw"
   },
   "source": [
    "Nous allons constuire un encodeur décodeur très simple: \n",
    "- une couche dense de dimension 16 avec activation relu pour l'encodage ,\n",
    "- une couche de décodage avec activation sigmoid  qui reconstruit un vecteur de taille 784 à valeur dans $[0,1]$."
   ]
  },
  {
   "cell_type": "markdown",
   "metadata": {
    "colab_type": "text",
    "id": "uXQovNfqTjg7"
   },
   "source": [
    "> Définir  ce réseau de façon séquentielle avec fonction `Sequential()`, sans l'ajuster pour le moment sur les données."
   ]
  },
  {
   "cell_type": "code",
   "execution_count": 33,
   "metadata": {
    "colab": {
     "base_uri": "https://localhost:8080/",
     "height": 139
    },
    "colab_type": "code",
    "id": "Y1UaGGe9TjhA",
    "outputId": "f3c2078d-1b16-4ce8-bed0-572609deefb0"
   },
   "outputs": [
    {
     "name": "stdout",
     "output_type": "stream",
     "text": [
      "Model: \"sequential_1\"\n",
      "_________________________________________________________________\n",
      " Layer (type)                Output Shape              Param #   \n",
      "=================================================================\n",
      " dense_4 (Dense)             (None, 16)                12560     \n",
      "                                                                 \n",
      " dense_5 (Dense)             (None, 784)               13328     \n",
      "                                                                 \n",
      "=================================================================\n",
      "Total params: 25,888\n",
      "Trainable params: 25,888\n",
      "Non-trainable params: 0\n",
      "_________________________________________________________________\n"
     ]
    }
   ],
   "source": [
    "### TO DO ###Définition du réseau\n",
    "model = keras.Sequential()\n",
    "model.add(layers.Dense(16, activation=\"relu\", input_shape = (784,)))\n",
    "model.add(layers.Dense(784, activation= \"sigmoid\"))\n",
    "model.summary()"
   ]
  },
  {
   "cell_type": "markdown",
   "metadata": {
    "colab_type": "text",
    "id": "IMU4U6GRTjhC"
   },
   "source": [
    "Comme on observe sur chaque pixel une quantité numérique entre $[0,1]$, il est possible d'utiliser une perte de type `binary_crossentropy`.\n",
    "\n",
    "> Ajuster le réseau sur les données. Utiliser les données de test pour suivre le long de la trajectoire de descente de gradient l'erreur de validation."
   ]
  },
  {
   "cell_type": "code",
   "execution_count": 34,
   "metadata": {
    "colab": {
     "base_uri": "https://localhost:8080/",
     "height": 802
    },
    "colab_type": "code",
    "id": "ML2nY1mvTjhC",
    "outputId": "4639c358-2873-49c5-9193-b4b97fef5986"
   },
   "outputs": [
    {
     "name": "stdout",
     "output_type": "stream",
     "text": [
      "Epoch 1/5\n",
      "1875/1875 [==============================] - 3s 2ms/step - loss: 0.1768\n",
      "Epoch 2/5\n",
      "1875/1875 [==============================] - 3s 1ms/step - loss: 0.1379\n",
      "Epoch 3/5\n",
      "1875/1875 [==============================] - 3s 1ms/step - loss: 0.1325\n",
      "Epoch 4/5\n",
      "1875/1875 [==============================] - 3s 1ms/step - loss: 0.1307\n",
      "Epoch 5/5\n",
      "1875/1875 [==============================] - 3s 1ms/step - loss: 0.1301\n",
      "1875/1875 [==============================] - 2s 873us/step\n"
     ]
    }
   ],
   "source": [
    "### TO DO ### Ajustement du réseau \n",
    "# Compiler le modèle \n",
    "model.compile(loss=\"binary_crossentropy\")\n",
    "\n",
    "model.fit(\n",
    "    x_train, x_train,\n",
    "    batch_size = 32,\n",
    "    epochs = 5\n",
    ")\n",
    "x_pred = model.predict(x_test)"
   ]
  },
  {
   "cell_type": "markdown",
   "metadata": {
    "colab_type": "text",
    "id": "a-lyWqQtTjhF"
   },
   "source": [
    "> Calculer le vecteur des prédictions. Pour quelques images, comparer l'image initiale avec l'image prédite en sortie du décodeur."
   ]
  },
  {
   "cell_type": "code",
   "execution_count": 56,
   "metadata": {},
   "outputs": [
    {
     "data": {
      "image/png": "[encoded data removed]",
      "text/plain": [
       "<Figure size 1440x288 with 10 Axes>"
      ]
     },
     "metadata": {
      "needs_background": "light"
     },
     "output_type": "display_data"
    }
   ],
   "source": [
    "### TO DO ###\n",
    "n = 10  \n",
    "x_test1 =  np.ndarray.flatten(x_test).reshape(10000,28,28)\n",
    "plt.figure(figsize=(20, 4))\n",
    "for i in range(n):\n",
    "    plt.subplot(2, n, i + 1)\n",
    "    plt.imshow(x_test1[i])"
   ]
  },
  {
   "cell_type": "code",
   "execution_count": 57,
   "metadata": {},
   "outputs": [
    {
     "data": {
      "image/png": "[encoded data removed]",
      "text/plain": [
       "<Figure size 1440x288 with 10 Axes>"
      ]
     },
     "metadata": {
      "needs_background": "light"
     },
     "output_type": "display_data"
    }
   ],
   "source": [
    "n = 10  \n",
    "plt.figure(figsize=(20, 4))\n",
    "x_pred1 =  np.ndarray.flatten(x_pred).reshape(10000,28,28)\n",
    "for i in range(n):\n",
    "    plt.subplot(2, n, i + 1)\n",
    "    plt.imshow(x_pred1[i])"
   ]
  },
  {
   "cell_type": "markdown",
   "metadata": {
    "colab_type": "text",
    "id": "QTcpE61PV1EC"
   },
   "source": [
    "> Calculer la représentation de chacune des observations de x_test dans l'espace latent (i.e. en sortie de l'encodeur)."
   ]
  },
  {
   "cell_type": "code",
   "execution_count": 37,
   "metadata": {
    "colab": {},
    "colab_type": "code",
    "id": "9tvhvhlOhZkB"
   },
   "outputs": [
    {
     "name": "stdout",
     "output_type": "stream",
     "text": [
      "313/313 [==============================] - 0s 832us/step\n",
      "(10000, 784)\n"
     ]
    }
   ],
   "source": [
    "### TO DO ###\n",
    "x_test_encoded = model.predict(x_test)\n",
    "print(x_test_encoded.shape)"
   ]
  },
  {
   "cell_type": "markdown",
   "metadata": {
    "colab_type": "text",
    "id": "DV4dbyDNkrXX"
   },
   "source": [
    "> Appliquer une réduction de dimension linéaire aux données de test encodées à l'aide de l'algorithme [t-sne](https://scikit-learn.org/stable/modules/generated/sklearn.manifold.TSNE.html). Vérifier que les données se regroupent en clusters cohérents avec les chiffres qu'ils représentent."
   ]
  },
  {
   "cell_type": "code",
   "execution_count": 38,
   "metadata": {
    "colab": {
     "base_uri": "https://localhost:8080/",
     "height": 34
    },
    "colab_type": "code",
    "id": "ZyRGzZKIagPn",
    "outputId": "71c86bfb-2207-47d9-d3b9-e07d7d06f1d1"
   },
   "outputs": [
    {
     "data": {
      "image/png": "[encoded data removed]",
      "text/plain": [
       "<Figure size 432x288 with 2 Axes>"
      ]
     },
     "metadata": {
      "needs_background": "light"
     },
     "output_type": "display_data"
    }
   ],
   "source": [
    "### TO DO ###\n",
    "from sklearn.manifold import TSNE\n",
    "\n",
    "# Instantiating the t-SNE model\n",
    "tsne = TSNE(n_components=2)\n",
    "\n",
    "# Fitting the t-SNE model to the latent representations\n",
    "latent_representations_2d = tsne.fit_transform(x_test_encoded)\n",
    "\n",
    "# Plotting the t-SNE results\n",
    "import matplotlib.pyplot as plt\n",
    "plt.scatter(latent_representations_2d[:, 0], latent_representations_2d[:, 1], c=y_test)\n",
    "plt.colorbar()\n",
    "plt.show()"
   ]
  },
  {
   "attachments": {},
   "cell_type": "markdown",
   "metadata": {},
   "source": [
    "Effectivement, les données se regroupent en clusters cohérents avec les chiffres qu'ils représentent."
   ]
  },
  {
   "cell_type": "markdown",
   "metadata": {
    "colab_type": "text",
    "id": "0SSDJPgDdMoQ"
   },
   "source": [
    "## Utilisation de l'API Model de keras"
   ]
  },
  {
   "cell_type": "markdown",
   "metadata": {
    "colab_type": "text",
    "id": "C1GgsYngdcos"
   },
   "source": [
    "Pour construire l'auto-encodeur précédent, nous avons utilisé le modèle séquentiel [Sequential()](https://keras.io/getting-started/sequential-model-guide/). Nous allons maintenant construire le réseau en l'utilisant la [functional  API de keras pour construire des modèles](https://keras.io/guides/functional_api/) et qui permet de manipuler des architectures plus complexes. \n",
    "\n",
    "> Commencez par lire le paragraphe \"First example: a densely-connected network\" \n",
    "de cette [page](https://faroit.com/keras-docs/2.0.1/getting-started/functional-api-guide/) et complétez ensuite le code ci-dessous."
   ]
  },
  {
   "cell_type": "code",
   "execution_count": 39,
   "metadata": {
    "colab": {},
    "colab_type": "code",
    "id": "vu5ZdzNpagsa"
   },
   "outputs": [],
   "source": [
    "from keras.layers import Input \n",
    "from keras.models import Model\n",
    "from keras.layers.core import Dense, Dropout, Activation, Flatten\n",
    "\n",
    "dim_encod = 16  \n",
    "\n",
    "input_image = Input(shape=(784,))\n",
    " \n",
    "encodeur_layer = Dense(dim_encod , activation='relu')(input_image)\n",
    " \n",
    "decodeur_layer = Dense(784, activation='sigmoid')(encodeur_layer)\n",
    "\n",
    "mon_autoencodeur = Model(inputs = input_image, outputs = decodeur_layer)\n"
   ]
  },
  {
   "attachments": {},
   "cell_type": "markdown",
   "metadata": {
    "colab_type": "text",
    "id": "_jI3CP5VdvKj"
   },
   "source": [
    "> Vérifier que ce réseau a la même architecture que précédemment.\n"
   ]
  },
  {
   "cell_type": "code",
   "execution_count": 40,
   "metadata": {
    "colab": {
     "base_uri": "https://localhost:8080/",
     "height": 255
    },
    "colab_type": "code",
    "id": "MmBjoQAMe3yS",
    "outputId": "b5654602-758c-4ac0-8d14-9c61b7e5b445"
   },
   "outputs": [
    {
     "name": "stdout",
     "output_type": "stream",
     "text": [
      "Model: \"model_2\"\n",
      "_________________________________________________________________\n",
      " Layer (type)                Output Shape              Param #   \n",
      "=================================================================\n",
      " input_2 (InputLayer)        [(None, 784)]             0         \n",
      "                                                                 \n",
      " dense_6 (Dense)             (None, 16)                12560     \n",
      "                                                                 \n",
      " dense_7 (Dense)             (None, 784)               13328     \n",
      "                                                                 \n",
      "=================================================================\n",
      "Total params: 25,888\n",
      "Trainable params: 25,888\n",
      "Non-trainable params: 0\n",
      "_________________________________________________________________\n"
     ]
    }
   ],
   "source": [
    "### TO DO ###\n",
    "mon_autoencodeur.summary()"
   ]
  },
  {
   "attachments": {},
   "cell_type": "markdown",
   "metadata": {},
   "source": [
    "Effectivement, ce réseau a la même architecture que précédemment."
   ]
  },
  {
   "cell_type": "markdown",
   "metadata": {
    "colab_type": "text",
    "id": "BY4xbicLe4fb"
   },
   "source": [
    "> Ajuster ce réseau sur les données."
   ]
  },
  {
   "cell_type": "code",
   "execution_count": 41,
   "metadata": {
    "colab": {
     "base_uri": "https://localhost:8080/",
     "height": 391
    },
    "colab_type": "code",
    "id": "RNETVq4udRSh",
    "outputId": "2718e7dd-5392-47f6-c1bf-9f93b4a4eebb"
   },
   "outputs": [
    {
     "name": "stdout",
     "output_type": "stream",
     "text": [
      "Epoch 1/5\n",
      "1875/1875 [==============================] - 3s 1ms/step - loss: 0.1778\n",
      "Epoch 2/5\n",
      "1875/1875 [==============================] - 3s 1ms/step - loss: 0.1384\n",
      "Epoch 3/5\n",
      "1875/1875 [==============================] - 3s 1ms/step - loss: 0.1327\n",
      "Epoch 4/5\n",
      "1875/1875 [==============================] - 3s 1ms/step - loss: 0.1307\n",
      "Epoch 5/5\n",
      "1875/1875 [==============================] - 3s 1ms/step - loss: 0.1300\n",
      "313/313 [==============================] - 0s 1ms/step\n"
     ]
    }
   ],
   "source": [
    "### TO DO ###\n",
    "\n",
    "mon_autoencodeur.compile(loss='binary_crossentropy')\n",
    "\n",
    "mon_autoencodeur.fit(\n",
    "    x_train, x_train,\n",
    "    batch_size = 32,\n",
    "    epochs = 5\n",
    ")\n",
    "x_pred = model.predict(x_test)"
   ]
  },
  {
   "cell_type": "markdown",
   "metadata": {
    "colab_type": "text",
    "id": "p6bFgYXaebVN"
   },
   "source": [
    "> A l'aide de la fonction `Model`, définir un réseau pour la partie encodeur, et utiliser pour calculer l'encodage des données de test."
   ]
  },
  {
   "cell_type": "code",
   "execution_count": 42,
   "metadata": {
    "colab": {},
    "colab_type": "code",
    "id": "e0Be4R68eamj"
   },
   "outputs": [
    {
     "name": "stdout",
     "output_type": "stream",
     "text": [
      "313/313 [==============================] - 0s 1ms/step\n",
      "[[16.752283   12.7323475   2.0528247  ...  6.8568993   3.9671621\n",
      "   4.15188   ]\n",
      " [ 0.7118947   1.2752309   0.68659925 ...  7.650689    9.706685\n",
      "   4.269807  ]\n",
      " [ 2.417931    4.2814417   4.8558426  ...  8.575779    2.1452308\n",
      "   6.2626305 ]\n",
      " ...\n",
      " [ 8.1911955   6.813567    3.9770632  ...  7.257037    1.2367547\n",
      "   5.843669  ]\n",
      " [12.551859    0.          2.632166   ...  9.608663    8.576359\n",
      "   3.8811893 ]\n",
      " [ 1.4564905   7.0833187  15.337151   ... 14.791605   12.285901\n",
      "   7.3322306 ]]\n"
     ]
    }
   ],
   "source": [
    "### TO DO ###\n",
    "mon_encodeur=Model(inputs=input_image,outputs=encodeur_layer)\n",
    "y = mon_encodeur.predict(x_test)\n",
    "print(y)"
   ]
  },
  {
   "cell_type": "code",
   "execution_count": 43,
   "metadata": {},
   "outputs": [
    {
     "data": {
      "text/plain": [
       "(10000, 16)"
      ]
     },
     "execution_count": 43,
     "metadata": {},
     "output_type": "execute_result"
    }
   ],
   "source": [
    "np.shape(y)"
   ]
  },
  {
   "cell_type": "code",
   "execution_count": 54,
   "metadata": {},
   "outputs": [
    {
     "data": {
      "image/png": "[encoded data removed]",
      "text/plain": [
       "<Figure size 1440x288 with 10 Axes>"
      ]
     },
     "metadata": {
      "needs_background": "light"
     },
     "output_type": "display_data"
    }
   ],
   "source": [
    "### TO DO ###\n",
    "n = 10  \n",
    "x_test2 =  np.ndarray.flatten(x_test).reshape(10000,28,28)\n",
    "plt.figure(figsize=(20, 4))\n",
    "for i in range(n):\n",
    "    plt.subplot(2, n, i + 1)\n",
    "    plt.imshow(x_test2[i])"
   ]
  },
  {
   "cell_type": "code",
   "execution_count": 55,
   "metadata": {},
   "outputs": [
    {
     "data": {
      "image/png": "[encoded data removed]",
      "text/plain": [
       "<Figure size 1440x288 with 10 Axes>"
      ]
     },
     "metadata": {
      "needs_background": "light"
     },
     "output_type": "display_data"
    }
   ],
   "source": [
    "n = 10  \n",
    "plt.figure(figsize=(20, 4))\n",
    "x_pred2 =  np.ndarray.flatten(y).reshape(10000,4,4)\n",
    "for i in range(n):\n",
    "    plt.subplot(2, n, i + 1)\n",
    "    plt.imshow(x_pred2[i])"
   ]
  },
  {
   "cell_type": "markdown",
   "metadata": {
    "colab_type": "text",
    "id": "Cn-SLER4lrFw"
   },
   "source": [
    "# Réseau dense convolutionnel"
   ]
  },
  {
   "cell_type": "markdown",
   "metadata": {
    "colab_type": "text",
    "id": "4HGLcuU0lume"
   },
   "source": [
    "Nous allons maintenant construire un réseau auto encodeur convolutionnel pour essayer d'améliorer l'encodage précédent (au moins visuellement). \n",
    " \n",
    "\n"
   ]
  },
  {
   "cell_type": "markdown",
   "metadata": {
    "colab_type": "text",
    "id": "zf_gq8DPSlcK"
   },
   "source": [
    "Les données en entreés doivent être de la forme d'un tenseur (28,28,1)\n",
    "> Transformer les données pour les mettre au bon format."
   ]
  },
  {
   "cell_type": "code",
   "execution_count": 46,
   "metadata": {
    "colab": {},
    "colab_type": "code",
    "id": "_ooK8sRUSyau"
   },
   "outputs": [
    {
     "data": {
      "text/plain": [
       "(60000, 28, 28, 1)"
      ]
     },
     "execution_count": 46,
     "metadata": {},
     "output_type": "execute_result"
    }
   ],
   "source": [
    "### TO DO ###\n",
    "x_train=np.array([im.reshape(28,28,1) for im in x_train])\n",
    "x_test=np.array([im.reshape(28,28,1) for im in x_test])\n",
    "x_train.shape"
   ]
  },
  {
   "cell_type": "markdown",
   "metadata": {
    "colab_type": "text",
    "id": "QrK8N0xuSkBO"
   },
   "source": [
    " > Compléter la construction ci-dessous pour la partie encodeur du réseau."
   ]
  },
  {
   "cell_type": "code",
   "execution_count": 47,
   "metadata": {
    "colab": {},
    "colab_type": "code",
    "id": "q61NSTvWaggp"
   },
   "outputs": [],
   "source": [
    "from keras.layers import Input, Dense, Conv2D, MaxPooling2D, UpSampling2D\n",
    "from keras.models import Model\n",
    "\n",
    "input_image = Input(shape=(28,28,1))   \n",
    "\n",
    "layer1 = Conv2D(16, (3, 3), activation='relu', padding='same')(input_image)\n",
    "layer2 = MaxPooling2D((2, 2), padding='same')(layer1)\n",
    "layer3 = Conv2D(8, (3, 3), activation='relu', padding='same')(layer2)\n",
    "layer4= MaxPooling2D((2, 2), padding='same')(layer3)\n",
    "layer5 = Conv2D(8, (3, 3), activation='relu', padding='same')(layer4)\n",
    "\n",
    "mon_encodeur_layer = MaxPooling2D((2, 2), padding='same')(layer5)"
   ]
  },
  {
   "cell_type": "markdown",
   "metadata": {
    "colab_type": "text",
    "id": "KLarYDaThNhA"
   },
   "source": [
    "> Quelle la dimension de l'encodage ?"
   ]
  },
  {
   "cell_type": "markdown",
   "metadata": {
    "colab_type": "text",
    "id": "7NaqnXUsXe4j"
   },
   "source": [
    "(4, 4, 8) i.e. 128-dimensional"
   ]
  },
  {
   "cell_type": "markdown",
   "metadata": {
    "colab_type": "text",
    "id": "duUKv8LwXi94"
   },
   "source": [
    "> Compléter la construction ci-dessous pour le decodeur et l'encodeur-décodeur complet. "
   ]
  },
  {
   "cell_type": "code",
   "execution_count": 48,
   "metadata": {
    "colab": {},
    "colab_type": "code",
    "id": "K9JQ4fKBhMuU"
   },
   "outputs": [],
   "source": [
    "layer6 = Conv2D(8, (3, 3), activation='relu', padding='same')(mon_encodeur_layer)\n",
    "layer7 = UpSampling2D((2, 2))(layer6)\n",
    "layer8 = Conv2D(8, (3, 3), activation='relu', padding='same')(layer7)\n",
    "layer9 = UpSampling2D((2, 2))(layer8)\n",
    "layer10 = Conv2D(16, (3, 3), activation='relu')(layer9)\n",
    "layer11 = UpSampling2D((2, 2))(layer10)\n",
    "\n",
    "mon_decodeur_layer = Conv2D(1, (3, 3), activation='sigmoid', padding='same')(layer11)\n",
    "\n",
    "mon_autoencodeur_conv = Model(inputs = input_image, outputs = mon_decodeur_layer)\n"
   ]
  },
  {
   "cell_type": "markdown",
   "metadata": {
    "colab_type": "text",
    "id": "D1JlVMZVgN90"
   },
   "source": [
    "Afficher l'architecture de votre réseau."
   ]
  },
  {
   "cell_type": "code",
   "execution_count": 49,
   "metadata": {
    "colab": {
     "base_uri": "https://localhost:8080/",
     "height": 629
    },
    "colab_type": "code",
    "id": "djLae_ZtTK9T",
    "outputId": "2022e517-218a-481d-a7f2-eccc45ab5786"
   },
   "outputs": [
    {
     "name": "stdout",
     "output_type": "stream",
     "text": [
      "Model: \"model_4\"\n",
      "_________________________________________________________________\n",
      " Layer (type)                Output Shape              Param #   \n",
      "=================================================================\n",
      " input_3 (InputLayer)        [(None, 28, 28, 1)]       0         \n",
      "                                                                 \n",
      " conv2d (Conv2D)             (None, 28, 28, 16)        160       \n",
      "                                                                 \n",
      " max_pooling2d (MaxPooling2D  (None, 14, 14, 16)       0         \n",
      " )                                                               \n",
      "                                                                 \n",
      " conv2d_1 (Conv2D)           (None, 14, 14, 8)         1160      \n",
      "                                                                 \n",
      " max_pooling2d_1 (MaxPooling  (None, 7, 7, 8)          0         \n",
      " 2D)                                                             \n",
      "                                                                 \n",
      " conv2d_2 (Conv2D)           (None, 7, 7, 8)           584       \n",
      "                                                                 \n",
      " max_pooling2d_2 (MaxPooling  (None, 4, 4, 8)          0         \n",
      " 2D)                                                             \n",
      "                                                                 \n",
      " conv2d_3 (Conv2D)           (None, 4, 4, 8)           584       \n",
      "                                                                 \n",
      " up_sampling2d (UpSampling2D  (None, 8, 8, 8)          0         \n",
      " )                                                               \n",
      "                                                                 \n",
      " conv2d_4 (Conv2D)           (None, 8, 8, 8)           584       \n",
      "                                                                 \n",
      " up_sampling2d_1 (UpSampling  (None, 16, 16, 8)        0         \n",
      " 2D)                                                             \n",
      "                                                                 \n",
      " conv2d_5 (Conv2D)           (None, 14, 14, 16)        1168      \n",
      "                                                                 \n",
      " up_sampling2d_2 (UpSampling  (None, 28, 28, 16)       0         \n",
      " 2D)                                                             \n",
      "                                                                 \n",
      " conv2d_6 (Conv2D)           (None, 28, 28, 1)         145       \n",
      "                                                                 \n",
      "=================================================================\n",
      "Total params: 4,385\n",
      "Trainable params: 4,385\n",
      "Non-trainable params: 0\n",
      "_________________________________________________________________\n"
     ]
    }
   ],
   "source": [
    "### TO DO ###\n",
    "mon_autoencodeur_conv.summary()"
   ]
  },
  {
   "cell_type": "markdown",
   "metadata": {
    "colab_type": "text",
    "id": "saltitoZTJqN"
   },
   "source": [
    "> Ajuster ce modèle sur les données et comparer visuellement la qualité de l'encodage avec l'encodeur simple précédent."
   ]
  },
  {
   "cell_type": "code",
   "execution_count": 50,
   "metadata": {
    "colab": {
     "base_uri": "https://localhost:8080/",
     "height": 1000
    },
    "colab_type": "code",
    "id": "QuRBYXVgahOh",
    "outputId": "a801b71c-1ac5-4126-eb1e-5243893a57f8"
   },
   "outputs": [
    {
     "name": "stdout",
     "output_type": "stream",
     "text": [
      "Epoch 1/5\n",
      "1875/1875 [==============================] - 41s 21ms/step - loss: 0.1647\n",
      "Epoch 2/5\n",
      "1875/1875 [==============================] - 37s 20ms/step - loss: 0.1262\n",
      "Epoch 3/5\n",
      "1875/1875 [==============================] - 37s 20ms/step - loss: 0.1171\n",
      "Epoch 4/5\n",
      "1875/1875 [==============================] - 38s 20ms/step - loss: 0.1123\n",
      "Epoch 5/5\n",
      "1875/1875 [==============================] - 38s 20ms/step - loss: 0.1093\n"
     ]
    },
    {
     "data": {
      "text/plain": [
       "<keras.callbacks.History at 0x12a5f22cd60>"
      ]
     },
     "execution_count": 50,
     "metadata": {},
     "output_type": "execute_result"
    }
   ],
   "source": [
    "### TO DO ###\n",
    "mon_autoencodeur_conv.compile(loss='binary_crossentropy')\n",
    "mon_autoencodeur_conv.fit(x_train,x_train,batch_size=32,epochs=5)"
   ]
  },
  {
   "cell_type": "code",
   "execution_count": 62,
   "metadata": {},
   "outputs": [
    {
     "name": "stdout",
     "output_type": "stream",
     "text": [
      "313/313 [==============================] - 2s 5ms/step\n"
     ]
    }
   ],
   "source": [
    "x_pred2 = mon_autoencodeur_conv.predict(x_test)"
   ]
  },
  {
   "cell_type": "code",
   "execution_count": 63,
   "metadata": {},
   "outputs": [
    {
     "data": {
      "image/png": "[encoded data removed]",
      "text/plain": [
       "<Figure size 1440x288 with 10 Axes>"
      ]
     },
     "metadata": {
      "needs_background": "light"
     },
     "output_type": "display_data"
    }
   ],
   "source": [
    "### TO DO ###\n",
    "n = 10  \n",
    "x_test2 =  np.ndarray.flatten(x_test).reshape(10000,28,28)\n",
    "plt.figure(figsize=(20, 4))\n",
    "for i in range(n):\n",
    "    plt.subplot(2, n, i + 1)\n",
    "    plt.imshow(x_test2[i])"
   ]
  },
  {
   "cell_type": "code",
   "execution_count": 65,
   "metadata": {},
   "outputs": [
    {
     "data": {
      "image/png": "[encoded data removed]",
      "text/plain": [
       "<Figure size 1440x288 with 10 Axes>"
      ]
     },
     "metadata": {
      "needs_background": "light"
     },
     "output_type": "display_data"
    }
   ],
   "source": [
    "n = 10  \n",
    "plt.figure(figsize=(20, 4))\n",
    "x_pred3 =  np.ndarray.flatten(x_pred2).reshape(10000,28,28)\n",
    "for i in range(n):\n",
    "    plt.subplot(2, n, i + 1)\n",
    "    plt.imshow(x_pred3[i])"
   ]
  }
 ],
 "metadata": {
  "accelerator": "GPU",
  "colab": {
   "collapsed_sections": [],
   "name": "Autoencoder-MNIST_correction.ipynb",
   "provenance": []
  },
  "kernelspec": {
   "display_name": "base",
   "language": "python",
   "name": "python3"
  },
  "language_info": {
   "codemirror_mode": {
    "name": "ipython",
    "version": 3
   },
   "file_extension": ".py",
   "mimetype": "text/x-python",
   "name": "python",
   "nbconvert_exporter": "python",
   "pygments_lexer": "ipython3",
   "version": "3.9.12"
  },
  "vscode": {
   "interpreter": {
    "hash": "e7673fce31fe4afe50b4d7357ba4e3f000f877c9b2250741ca11e5d63029f695"
   }
  }
 },
 "nbformat": 4,
 "nbformat_minor": 1
}
