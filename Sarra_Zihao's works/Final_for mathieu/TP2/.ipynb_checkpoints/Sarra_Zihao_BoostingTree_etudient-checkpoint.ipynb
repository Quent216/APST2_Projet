{
 "cells": [
  {
   "cell_type": "markdown",
   "metadata": {},
   "source": [
    "# Boosting Trees"
   ]
  },
  {
   "cell_type": "markdown",
   "metadata": {},
   "source": [
    "### Auteur:\n",
    "Sarra Mars & Zihao GUO"
   ]
  },
  {
   "cell_type": "code",
   "execution_count": 1,
   "metadata": {
    "scrolled": true
   },
   "outputs": [],
   "source": [
    "%matplotlib inline\n",
    "from pylab import *\n",
    "import pandas as pd\n",
    "from sklearn import preprocessing \n",
    "from sklearn.model_selection import train_test_split\n",
    "\n",
    "import warnings\n",
    "warnings.filterwarnings('ignore')"
   ]
  },
  {
   "cell_type": "markdown",
   "metadata": {},
   "source": [
    "## Gradient Boosting "
   ]
  },
  {
   "cell_type": "markdown",
   "metadata": {},
   "source": [
    "Commencons par ajuster un regresseur par gradient boosting sur des familles d'arbres."
   ]
  },
  {
   "cell_type": "code",
   "execution_count": 2,
   "metadata": {},
   "outputs": [],
   "source": [
    "from sklearn.tree import DecisionTreeRegressor"
   ]
  },
  {
   "cell_type": "markdown",
   "metadata": {},
   "source": [
    "####  Préparation des données housing"
   ]
  },
  {
   "cell_type": "code",
   "execution_count": 3,
   "metadata": {
    "scrolled": true
   },
   "outputs": [],
   "source": [
    "from sklearn.datasets import fetch_california_housing\n",
    "california_housing = fetch_california_housing(as_frame=True)"
   ]
  },
  {
   "cell_type": "code",
   "execution_count": 4,
   "metadata": {},
   "outputs": [
    {
     "name": "stdout",
     "output_type": "stream",
     "text": [
      ".. _california_housing_dataset:\n",
      "\n",
      "California Housing dataset\n",
      "--------------------------\n",
      "\n",
      "**Data Set Characteristics:**\n",
      "\n",
      "    :Number of Instances: 20640\n",
      "\n",
      "    :Number of Attributes: 8 numeric, predictive attributes and the target\n",
      "\n",
      "    :Attribute Information:\n",
      "        - MedInc        median income in block group\n",
      "        - HouseAge      median house age in block group\n",
      "        - AveRooms      average number of rooms per household\n",
      "        - AveBedrms     average number of bedrooms per household\n",
      "        - Population    block group population\n",
      "        - AveOccup      average number of household members\n",
      "        - Latitude      block group latitude\n",
      "        - Longitude     block group longitude\n",
      "\n",
      "    :Missing Attribute Values: None\n",
      "\n",
      "This dataset was obtained from the StatLib repository.\n",
      "https://www.dcc.fc.up.pt/~ltorgo/Regression/cal_housing.html\n",
      "\n",
      "The target variable is the median house value for California districts,\n",
      "expressed in hundreds of thousands of dollars ($100,000).\n",
      "\n",
      "This dataset was derived from the 1990 U.S. census, using one row per census\n",
      "block group. A block group is the smallest geographical unit for which the U.S.\n",
      "Census Bureau publishes sample data (a block group typically has a population\n",
      "of 600 to 3,000 people).\n",
      "\n",
      "An household is a group of people residing within a home. Since the average\n",
      "number of rooms and bedrooms in this dataset are provided per household, these\n",
      "columns may take surpinsingly large values for block groups with few households\n",
      "and many empty houses, such as vacation resorts.\n",
      "\n",
      "It can be downloaded/loaded using the\n",
      ":func:`sklearn.datasets.fetch_california_housing` function.\n",
      "\n",
      ".. topic:: References\n",
      "\n",
      "    - Pace, R. Kelley and Ronald Barry, Sparse Spatial Autoregressions,\n",
      "      Statistics and Probability Letters, 33 (1997) 291-297\n",
      "\n"
     ]
    }
   ],
   "source": [
    "print(california_housing.DESCR)"
   ]
  },
  {
   "cell_type": "code",
   "execution_count": 5,
   "metadata": {},
   "outputs": [
    {
     "data": {
      "text/html": [
       "<div>\n",
       "<style scoped>\n",
       "    .dataframe tbody tr th:only-of-type {\n",
       "        vertical-align: middle;\n",
       "    }\n",
       "\n",
       "    .dataframe tbody tr th {\n",
       "        vertical-align: top;\n",
       "    }\n",
       "\n",
       "    .dataframe thead th {\n",
       "        text-align: right;\n",
       "    }\n",
       "</style>\n",
       "<table border=\"1\" class=\"dataframe\">\n",
       "  <thead>\n",
       "    <tr style=\"text-align: right;\">\n",
       "      <th></th>\n",
       "      <th>MedInc</th>\n",
       "      <th>HouseAge</th>\n",
       "      <th>AveRooms</th>\n",
       "      <th>AveBedrms</th>\n",
       "      <th>Population</th>\n",
       "      <th>AveOccup</th>\n",
       "      <th>Latitude</th>\n",
       "      <th>Longitude</th>\n",
       "    </tr>\n",
       "  </thead>\n",
       "  <tbody>\n",
       "    <tr>\n",
       "      <th>0</th>\n",
       "      <td>8.3252</td>\n",
       "      <td>41.0</td>\n",
       "      <td>6.984127</td>\n",
       "      <td>1.023810</td>\n",
       "      <td>322.0</td>\n",
       "      <td>2.555556</td>\n",
       "      <td>37.88</td>\n",
       "      <td>-122.23</td>\n",
       "    </tr>\n",
       "    <tr>\n",
       "      <th>1</th>\n",
       "      <td>8.3014</td>\n",
       "      <td>21.0</td>\n",
       "      <td>6.238137</td>\n",
       "      <td>0.971880</td>\n",
       "      <td>2401.0</td>\n",
       "      <td>2.109842</td>\n",
       "      <td>37.86</td>\n",
       "      <td>-122.22</td>\n",
       "    </tr>\n",
       "    <tr>\n",
       "      <th>2</th>\n",
       "      <td>7.2574</td>\n",
       "      <td>52.0</td>\n",
       "      <td>8.288136</td>\n",
       "      <td>1.073446</td>\n",
       "      <td>496.0</td>\n",
       "      <td>2.802260</td>\n",
       "      <td>37.85</td>\n",
       "      <td>-122.24</td>\n",
       "    </tr>\n",
       "    <tr>\n",
       "      <th>3</th>\n",
       "      <td>5.6431</td>\n",
       "      <td>52.0</td>\n",
       "      <td>5.817352</td>\n",
       "      <td>1.073059</td>\n",
       "      <td>558.0</td>\n",
       "      <td>2.547945</td>\n",
       "      <td>37.85</td>\n",
       "      <td>-122.25</td>\n",
       "    </tr>\n",
       "    <tr>\n",
       "      <th>4</th>\n",
       "      <td>3.8462</td>\n",
       "      <td>52.0</td>\n",
       "      <td>6.281853</td>\n",
       "      <td>1.081081</td>\n",
       "      <td>565.0</td>\n",
       "      <td>2.181467</td>\n",
       "      <td>37.85</td>\n",
       "      <td>-122.25</td>\n",
       "    </tr>\n",
       "  </tbody>\n",
       "</table>\n",
       "</div>"
      ],
      "text/plain": [
       "   MedInc  HouseAge  AveRooms  AveBedrms  Population  AveOccup  Latitude  \\\n",
       "0  8.3252      41.0  6.984127   1.023810       322.0  2.555556     37.88   \n",
       "1  8.3014      21.0  6.238137   0.971880      2401.0  2.109842     37.86   \n",
       "2  7.2574      52.0  8.288136   1.073446       496.0  2.802260     37.85   \n",
       "3  5.6431      52.0  5.817352   1.073059       558.0  2.547945     37.85   \n",
       "4  3.8462      52.0  6.281853   1.081081       565.0  2.181467     37.85   \n",
       "\n",
       "   Longitude  \n",
       "0    -122.23  \n",
       "1    -122.22  \n",
       "2    -122.24  \n",
       "3    -122.25  \n",
       "4    -122.25  "
      ]
     },
     "execution_count": 5,
     "metadata": {},
     "output_type": "execute_result"
    }
   ],
   "source": [
    "california_housing.data.head()"
   ]
  },
  {
   "cell_type": "code",
   "execution_count": 6,
   "metadata": {
    "scrolled": true
   },
   "outputs": [
    {
     "name": "stdout",
     "output_type": "stream",
     "text": [
      "(20640, 8)\n"
     ]
    }
   ],
   "source": [
    "X_housing = california_housing.data\n",
    "Y_housing = california_housing.target\n",
    "print(shape(X_housing))"
   ]
  },
  {
   "cell_type": "markdown",
   "metadata": {},
   "source": [
    "Pour éviter que les temps de calcul soient trop longs, nous allons travailler avec un sous échantillon:"
   ]
  },
  {
   "cell_type": "code",
   "execution_count": 7,
   "metadata": {},
   "outputs": [],
   "source": [
    "from sklearn.utils import resample\n",
    "X_housing, Y_housing  = resample(X_housing,Y_housing, n_samples = 2000, replace = False)"
   ]
  },
  {
   "cell_type": "markdown",
   "metadata": {},
   "source": [
    "Découpage train / test :"
   ]
  },
  {
   "cell_type": "code",
   "execution_count": 8,
   "metadata": {
    "scrolled": true
   },
   "outputs": [],
   "source": [
    "X_housing_train, X_housing_test, y_housing_train, y_housing_test = \\\n",
    "train_test_split(X_housing,Y_housing,test_size=0.5)"
   ]
  },
  {
   "cell_type": "markdown",
   "metadata": {},
   "source": [
    "####  Fonctions Gradient Boosting de sckit-learn"
   ]
  },
  {
   "cell_type": "markdown",
   "metadata": {},
   "source": [
    "Importation des fonctions Gradient Boosting de sckit-learn et de la fonction `mean_squared_error` pour le calcul des erreurs quadratique moyennes."
   ]
  },
  {
   "cell_type": "code",
   "execution_count": 9,
   "metadata": {},
   "outputs": [],
   "source": [
    "from sklearn.ensemble import GradientBoostingRegressor\n",
    "from sklearn.metrics import mean_squared_error"
   ]
  },
  {
   "cell_type": "markdown",
   "metadata": {},
   "source": [
    "Nous ajustons maintenant un modèle GBM avec les paramètres proposés ci-dessous.\n",
    "\n",
    "> Retrouver la signification de chacun des paramètres."
   ]
  },
  {
   "cell_type": "code",
   "execution_count": 10,
   "metadata": {},
   "outputs": [
    {
     "name": "stdout",
     "output_type": "stream",
     "text": [
      "GradientBoostingRegressor(learning_rate=0.05, max_depth=8, min_samples_split=4,\n",
      "                          n_estimators=1000)\n"
     ]
    }
   ],
   "source": [
    "GBM = GradientBoostingRegressor(n_estimators=1000,\n",
    "                                         max_depth=8,\n",
    "                                         min_samples_split= 4,\n",
    "                                         learning_rate=0.05,\n",
    "                                         loss='squared_error')\n",
    "\n",
    "print(GBM)"
   ]
  },
  {
   "cell_type": "markdown",
   "metadata": {},
   "source": [
    "+ n_estimators : ###TO DO ### ?\n",
    "+ learning_rate =  ###TO DO ###?\n",
    "+ loss : ###TO DO ### ?\n",
    "+ max_depth : ###TO DO ### ?\n",
    "+ min_samples_split  : ###TO DO ### ?"
   ]
  },
  {
   "cell_type": "markdown",
   "metadata": {},
   "source": [
    "Pour calculer l'erreur mse sur le test (aussi appelée deviance dans la doc) :"
   ]
  },
  {
   "cell_type": "code",
   "execution_count": 11,
   "metadata": {},
   "outputs": [
    {
     "name": "stdout",
     "output_type": "stream",
     "text": [
      "0.3770170145014482\n"
     ]
    }
   ],
   "source": [
    "GBM.fit(X_housing_train, y_housing_train)\n",
    "mse = mean_squared_error(y_housing_test, GBM.predict(X_housing_test))\n",
    "print(mse) "
   ]
  },
  {
   "cell_type": "markdown",
   "metadata": {},
   "source": [
    "Attention : le score renvoyé ci-dessous est un $R^2$ i.e. variance expliquée par le prédicteur / variance totale de $Y$, voir [ici](https://scikit-learn.org/stable/modules/model_evaluation.html#r2-score-the-coefficient-of-determination)."
   ]
  },
  {
   "cell_type": "code",
   "execution_count": 12,
   "metadata": {},
   "outputs": [
    {
     "name": "stdout",
     "output_type": "stream",
     "text": [
      "0.7158739117608575\n"
     ]
    }
   ],
   "source": [
    "print(GBM.score(X_housing_test, y_housing_test))"
   ]
  },
  {
   "cell_type": "markdown",
   "metadata": {},
   "source": [
    "Quelques principes à retenir:\n",
    "+ Plus on ajuste d'arbres, plus le cout computationnel est élevé.\n",
    "+ le nombre d'arbres correspond au nombre d'itérations.\n",
    "+ Un taux d'apprentissage petit nécessitera plus d'arbres.\n",
    "+ Un taux d'apprentissage trop élevé fera des sauts de gradients potentiellement trop grands, et au bout d'un certain nombre d'itérations il sera  difficile d'améliorer les scores.\n",
    "+ Une bonne pratique consiste à choisir d'abord un taux d'apprentissage pas trop faible (pour ne pas faire exploser le nombre d'arbres) et à le diminuer ensuite, une fois ajustés les autres paramètres (nb de noeuds, profondeur ...)."
   ]
  },
  {
   "cell_type": "markdown",
   "metadata": {},
   "source": [
    "#### Etude des erreurs le long des itérations -  learning rate"
   ]
  },
  {
   "cell_type": "markdown",
   "metadata": {},
   "source": [
    "Nous allons maintenant étudier l'évolution de la perte en fonction du nombre d'itérations.\n",
    "\n",
    "Noter que l'erreur d'apprentissage est accessible dans GBM:"
   ]
  },
  {
   "cell_type": "code",
   "execution_count": 13,
   "metadata": {
    "tags": []
   },
   "outputs": [
    {
     "name": "stdout",
     "output_type": "stream",
     "text": [
      "[1.16586572e+00 1.06663797e+00 9.76244634e-01 8.95226699e-01\n",
      " 8.20657869e-01 7.53836346e-01 6.92598767e-01 6.37510049e-01\n",
      " 5.86875558e-01 5.39413266e-01 4.96328112e-01 4.56729119e-01\n",
      " 4.20194988e-01 3.87088661e-01 3.57446160e-01 3.29533351e-01\n",
      " 3.04915415e-01 2.81864457e-01 2.61500507e-01 2.42398587e-01\n",
      " 2.24028467e-01 2.08159240e-01 1.92989696e-01 1.79395807e-01\n",
      " 1.66441806e-01 1.54313234e-01 1.43992999e-01 1.34022788e-01\n",
      " 1.25225323e-01 1.17466169e-01 1.09539366e-01 1.02709037e-01\n",
      " 9.60207734e-02 8.99351375e-02 8.42672659e-02 7.90052964e-02\n",
      " 7.44721151e-02 7.01894776e-02 6.59416060e-02 6.24495420e-02\n",
      " 5.88713340e-02 5.57596885e-02 5.30042950e-02 4.97861846e-02\n",
      " 4.69909200e-02 4.48913926e-02 4.27236420e-02 4.05109599e-02\n",
      " 3.85609175e-02 3.64806314e-02 3.46034543e-02 3.28450913e-02\n",
      " 3.14871356e-02 2.99957120e-02 2.86020316e-02 2.72921615e-02\n",
      " 2.59986595e-02 2.48789139e-02 2.37090124e-02 2.27228904e-02\n",
      " 2.17457985e-02 2.08478806e-02 2.01201697e-02 1.95010436e-02\n",
      " 1.84874362e-02 1.76487406e-02 1.70083573e-02 1.64156314e-02\n",
      " 1.56253552e-02 1.51387745e-02 1.45552652e-02 1.41109998e-02\n",
      " 1.35931308e-02 1.32126854e-02 1.26508483e-02 1.21227154e-02\n",
      " 1.17777647e-02 1.13207925e-02 1.09475985e-02 1.04738044e-02\n",
      " 1.01850883e-02 9.89361130e-03 9.54062295e-03 9.26769103e-03\n",
      " 8.96204394e-03 8.75083361e-03 8.53123986e-03 8.34272899e-03\n",
      " 8.15305078e-03 7.97068182e-03 7.74235824e-03 7.51539700e-03\n",
      " 7.32224862e-03 7.12198264e-03 6.97234866e-03 6.80783215e-03\n",
      " 6.66428940e-03 6.52312358e-03 6.41551124e-03 6.23554101e-03\n",
      " 6.16174451e-03 5.96763993e-03 5.87250011e-03 5.68960838e-03\n",
      " 5.63747744e-03 5.52476860e-03 5.46552793e-03 5.41373578e-03\n",
      " 5.34130433e-03 5.20700426e-03 5.14281906e-03 5.02169892e-03\n",
      " 4.96101089e-03 4.93815567e-03 4.81899587e-03 4.74807554e-03\n",
      " 4.62600011e-03 4.59966222e-03 4.53566233e-03 4.41628741e-03\n",
      " 4.36121702e-03 4.28198749e-03 4.22501397e-03 4.20262551e-03\n",
      " 4.11059546e-03 4.06088474e-03 3.97198349e-03 3.90436863e-03\n",
      " 3.88900712e-03 3.83918688e-03 3.80410733e-03 3.78676874e-03\n",
      " 3.74073765e-03 3.70963327e-03 3.63823943e-03 3.58108161e-03\n",
      " 3.52776096e-03 3.49889228e-03 3.44520384e-03 3.43016245e-03\n",
      " 3.31902030e-03 3.30161601e-03 3.21756649e-03 3.16059622e-03\n",
      " 3.11521925e-03 3.07044198e-03 2.98798389e-03 2.94741230e-03\n",
      " 2.88344731e-03 2.85620968e-03 2.81486120e-03 2.77336011e-03\n",
      " 2.72343494e-03 2.65783962e-03 2.63655447e-03 2.58321230e-03\n",
      " 2.55444361e-03 2.51547525e-03 2.50151135e-03 2.47434396e-03\n",
      " 2.41308904e-03 2.35199452e-03 2.30790846e-03 2.26290253e-03\n",
      " 2.25101001e-03 2.20083036e-03 2.16380651e-03 2.11404169e-03\n",
      " 2.08484575e-03 2.06177760e-03 2.05159945e-03 2.01618377e-03\n",
      " 1.99591070e-03 1.98665402e-03 1.94470325e-03 1.91982510e-03\n",
      " 1.86991794e-03 1.86031960e-03 1.84625935e-03 1.81994295e-03\n",
      " 1.79887543e-03 1.77963036e-03 1.72474659e-03 1.71125540e-03\n",
      " 1.67979880e-03 1.66191822e-03 1.63826202e-03 1.61852074e-03\n",
      " 1.57843880e-03 1.56786788e-03 1.55175848e-03 1.54438595e-03\n",
      " 1.50806949e-03 1.49079152e-03 1.47099536e-03 1.45588415e-03\n",
      " 1.40954966e-03 1.39479309e-03 1.37920686e-03 1.36173101e-03\n",
      " 1.34157596e-03 1.30221167e-03 1.28420623e-03 1.25301637e-03\n",
      " 1.24060641e-03 1.22733837e-03 1.22181776e-03 1.20511437e-03\n",
      " 1.18507929e-03 1.15237115e-03 1.14278635e-03 1.11780956e-03\n",
      " 1.08715658e-03 1.05776822e-03 1.03012944e-03 1.01310450e-03\n",
      " 1.00835640e-03 9.97957448e-04 9.87202945e-04 9.59274020e-04\n",
      " 9.54854266e-04 9.31113785e-04 9.21297086e-04 9.17258958e-04\n",
      " 8.93576988e-04 8.73715863e-04 8.67142590e-04 8.60253594e-04\n",
      " 8.39788157e-04 8.17298280e-04 8.01364616e-04 7.96417402e-04\n",
      " 7.76426855e-04 7.73248627e-04 7.64783581e-04 7.42488418e-04\n",
      " 7.39065645e-04 7.27688565e-04 7.21748087e-04 7.01631514e-04\n",
      " 6.98617561e-04 6.95064782e-04 6.80558084e-04 6.70742134e-04\n",
      " 6.53783405e-04 6.51137769e-04 6.35146887e-04 6.29366389e-04\n",
      " 6.16599924e-04 6.07780170e-04 5.95122072e-04 5.87097157e-04\n",
      " 5.79217830e-04 5.68358348e-04 5.55338934e-04 5.51844372e-04\n",
      " 5.38835825e-04 5.29510076e-04 5.22187113e-04 5.20048092e-04\n",
      " 5.11657209e-04 5.02512279e-04 4.98284704e-04 4.86232362e-04\n",
      " 4.78411419e-04 4.67613263e-04 4.54714710e-04 4.53059266e-04\n",
      " 4.40690059e-04 4.36120107e-04 4.32686331e-04 4.27310449e-04\n",
      " 4.22600244e-04 4.12364731e-04 4.02839502e-04 3.94210978e-04\n",
      " 3.89185985e-04 3.84755546e-04 3.74720669e-04 3.71493496e-04\n",
      " 3.63748235e-04 3.59584668e-04 3.53374340e-04 3.42853792e-04\n",
      " 3.40618550e-04 3.36601783e-04 3.30193878e-04 3.21293772e-04\n",
      " 3.18041642e-04 3.13310002e-04 3.10327812e-04 3.07224969e-04\n",
      " 3.02273146e-04 2.98539109e-04 2.95232077e-04 2.92558128e-04\n",
      " 2.89760524e-04 2.85383323e-04 2.81201113e-04 2.77291246e-04\n",
      " 2.69777389e-04 2.66013009e-04 2.61908407e-04 2.58908076e-04\n",
      " 2.58364573e-04 2.55643037e-04 2.50580022e-04 2.49333537e-04\n",
      " 2.44946430e-04 2.39081636e-04 2.36032304e-04 2.27670317e-04\n",
      " 2.24783045e-04 2.22633262e-04 2.20884660e-04 2.19670166e-04\n",
      " 2.17583345e-04 2.15336251e-04 2.13229200e-04 2.09524943e-04\n",
      " 2.06580628e-04 2.05633927e-04 2.02636447e-04 2.01164331e-04\n",
      " 1.98840905e-04 1.95738293e-04 1.91546576e-04 1.84485354e-04\n",
      " 1.82356444e-04 1.81178413e-04 1.77933662e-04 1.76984198e-04\n",
      " 1.70053594e-04 1.67554000e-04 1.63778861e-04 1.62039316e-04\n",
      " 1.59261483e-04 1.57441629e-04 1.54200558e-04 1.50283823e-04\n",
      " 1.47306499e-04 1.45474014e-04 1.43094947e-04 1.41493025e-04\n",
      " 1.40827093e-04 1.39225045e-04 1.37936006e-04 1.35962869e-04\n",
      " 1.34542995e-04 1.33042032e-04 1.28828943e-04 1.25085812e-04\n",
      " 1.23726392e-04 1.21021102e-04 1.18415372e-04 1.17341542e-04\n",
      " 1.14865450e-04 1.12860897e-04 1.11658344e-04 1.10731517e-04\n",
      " 1.08189084e-04 1.07719809e-04 1.06434254e-04 1.02383943e-04\n",
      " 1.00156176e-04 9.78784741e-05 9.61002482e-05 9.50839698e-05\n",
      " 9.44882277e-05 9.36197492e-05 9.22877643e-05 9.15055879e-05\n",
      " 9.08371429e-05 8.89739940e-05 8.63342636e-05 8.52643109e-05\n",
      " 8.44971891e-05 8.23792355e-05 7.98688915e-05 7.84549522e-05\n",
      " 7.80277656e-05 7.71976543e-05 7.66167234e-05 7.62400419e-05\n",
      " 7.51161873e-05 7.37670570e-05 7.28682442e-05 7.19520522e-05\n",
      " 7.14388562e-05 7.11163513e-05 7.07314816e-05 6.94352243e-05\n",
      " 6.75427527e-05 6.71452482e-05 6.67196553e-05 6.60289045e-05\n",
      " 6.56793616e-05 6.51670592e-05 6.48622315e-05 6.42322280e-05\n",
      " 6.26372735e-05 6.20437807e-05 6.16773781e-05 6.00637556e-05\n",
      " 5.95450724e-05 5.79227951e-05 5.73300340e-05 5.61104546e-05\n",
      " 5.57825567e-05 5.52973618e-05 5.50116984e-05 5.45095056e-05\n",
      " 5.42173412e-05 5.39274058e-05 5.36553067e-05 5.31603385e-05\n",
      " 5.22670362e-05 5.12729339e-05 5.02232858e-05 4.93148801e-05\n",
      " 4.90566426e-05 4.88257379e-05 4.85963779e-05 4.75398320e-05\n",
      " 4.65065794e-05 4.62850085e-05 4.50802777e-05 4.49036457e-05\n",
      " 4.41657787e-05 4.39337959e-05 4.33514342e-05 4.26740428e-05\n",
      " 4.24155881e-05 4.21524257e-05 4.15390184e-05 4.12890730e-05\n",
      " 4.06882511e-05 4.00042822e-05 3.98277615e-05 3.87757133e-05\n",
      " 3.79629318e-05 3.72718669e-05 3.63933046e-05 3.57751722e-05\n",
      " 3.56274389e-05 3.53895386e-05 3.42308790e-05 3.36458856e-05\n",
      " 3.31270483e-05 3.24908328e-05 3.20954391e-05 3.17526495e-05\n",
      " 3.11462583e-05 3.06084666e-05 2.99478026e-05 2.98137223e-05\n",
      " 2.92908354e-05 2.88348927e-05 2.86682293e-05 2.81030598e-05\n",
      " 2.79062984e-05 2.72891647e-05 2.69976306e-05 2.66096487e-05\n",
      " 2.62743797e-05 2.57336452e-05 2.56250719e-05 2.54613619e-05\n",
      " 2.48952671e-05 2.44880539e-05 2.39927526e-05 2.36099570e-05\n",
      " 2.34140656e-05 2.30840832e-05 2.27549273e-05 2.24295251e-05\n",
      " 2.21854894e-05 2.18955676e-05 2.17307409e-05 2.15593874e-05\n",
      " 2.13053060e-05 2.06701657e-05 2.03758797e-05 2.01923084e-05\n",
      " 1.95267859e-05 1.94075033e-05 1.90989924e-05 1.88652621e-05\n",
      " 1.86675008e-05 1.85550823e-05 1.83409089e-05 1.82095384e-05\n",
      " 1.78593428e-05 1.76046332e-05 1.74031169e-05 1.69734882e-05\n",
      " 1.66767367e-05 1.65766564e-05 1.62437642e-05 1.60415214e-05\n",
      " 1.58713086e-05 1.55777989e-05 1.52017249e-05 1.49712529e-05\n",
      " 1.48299276e-05 1.46105804e-05 1.44552306e-05 1.42160894e-05\n",
      " 1.39919298e-05 1.39092092e-05 1.37036573e-05 1.36094050e-05\n",
      " 1.34097987e-05 1.30648617e-05 1.29398128e-05 1.27575983e-05\n",
      " 1.27054573e-05 1.24875579e-05 1.23309203e-05 1.21300605e-05\n",
      " 1.20217175e-05 1.19221466e-05 1.17504276e-05 1.15942860e-05\n",
      " 1.13899640e-05 1.12251254e-05 1.12000754e-05 1.11735443e-05\n",
      " 1.10288321e-05 1.09630365e-05 1.07986510e-05 1.07425338e-05\n",
      " 1.05992613e-05 1.04920538e-05 1.02727628e-05 1.01015537e-05\n",
      " 1.00074072e-05 9.73890806e-06 9.60219708e-06 9.46733624e-06\n",
      " 9.26798519e-06 9.15005621e-06 9.09464031e-06 8.92225442e-06\n",
      " 8.79519828e-06 8.66730807e-06 8.62278695e-06 8.57517121e-06\n",
      " 8.54070762e-06 8.42865015e-06 8.36371665e-06 8.25256631e-06\n",
      " 8.20457793e-06 8.08817739e-06 7.93325568e-06 7.84072896e-06\n",
      " 7.79622089e-06 7.66160871e-06 7.62241771e-06 7.52090105e-06\n",
      " 7.49454432e-06 7.45614087e-06 7.34642797e-06 7.19414730e-06\n",
      " 7.13306357e-06 6.98866824e-06 6.92827818e-06 6.89321890e-06\n",
      " 6.72392000e-06 6.68775894e-06 6.65495561e-06 6.56595978e-06\n",
      " 6.53305510e-06 6.34054842e-06 6.19657286e-06 6.17175921e-06\n",
      " 6.07750884e-06 6.04527168e-06 6.01136741e-06 5.83811492e-06\n",
      " 5.70789580e-06 5.60563626e-06 5.53019376e-06 5.31450906e-06\n",
      " 5.24595961e-06 5.13844798e-06 5.09380102e-06 4.99493234e-06\n",
      " 4.90122820e-06 4.85510382e-06 4.83402849e-06 4.77217163e-06\n",
      " 4.73261316e-06 4.60927190e-06 4.59009007e-06 4.55536601e-06\n",
      " 4.40144302e-06 4.34584293e-06 4.25530999e-06 4.20848590e-06\n",
      " 4.10722091e-06 4.02496212e-06 3.99087807e-06 3.93356628e-06\n",
      " 3.89263733e-06 3.87553344e-06 3.84264181e-06 3.81038557e-06\n",
      " 3.74153573e-06 3.71095025e-06 3.64453700e-06 3.61585603e-06\n",
      " 3.56877634e-06 3.55594330e-06 3.54984001e-06 3.50147753e-06\n",
      " 3.44050628e-06 3.42907222e-06 3.39632646e-06 3.33153646e-06\n",
      " 3.27042684e-06 3.21584917e-06 3.20100065e-06 3.12301140e-06\n",
      " 3.10813322e-06 3.04680299e-06 2.97527665e-06 2.90128962e-06\n",
      " 2.89719116e-06 2.84010268e-06 2.80688479e-06 2.76470692e-06\n",
      " 2.71579920e-06 2.67552314e-06 2.63119058e-06 2.61889223e-06\n",
      " 2.57962029e-06 2.55074017e-06 2.51542968e-06 2.43508942e-06\n",
      " 2.38491823e-06 2.35428800e-06 2.33009856e-06 2.28459063e-06\n",
      " 2.25599646e-06 2.23153127e-06 2.19952238e-06 2.15563723e-06\n",
      " 2.09345008e-06 2.07260551e-06 2.04062872e-06 1.98607171e-06\n",
      " 1.96395429e-06 1.92222753e-06 1.90364986e-06 1.86981634e-06\n",
      " 1.85054000e-06 1.80353892e-06 1.76378823e-06 1.73341586e-06\n",
      " 1.70281250e-06 1.67197026e-06 1.65179783e-06 1.64356654e-06\n",
      " 1.61325803e-06 1.55902425e-06 1.54015789e-06 1.51071052e-06\n",
      " 1.49982388e-06 1.48499914e-06 1.43380231e-06 1.39931942e-06\n",
      " 1.39267223e-06 1.38477769e-06 1.34028280e-06 1.32206866e-06\n",
      " 1.28737586e-06 1.26759826e-06 1.24916220e-06 1.22055654e-06\n",
      " 1.20361751e-06 1.19967336e-06 1.16731223e-06 1.14956837e-06\n",
      " 1.11842666e-06 1.10873291e-06 1.09084965e-06 1.07568469e-06\n",
      " 1.05601070e-06 1.04314246e-06 1.04084912e-06 1.03707975e-06\n",
      " 1.02832355e-06 1.00280082e-06 1.00038833e-06 9.76284328e-07\n",
      " 9.70221520e-07 9.54533623e-07 9.46438022e-07 9.42364732e-07\n",
      " 9.30040263e-07 9.20371519e-07 9.06918697e-07 9.03445128e-07\n",
      " 8.89368255e-07 8.71391669e-07 8.54708544e-07 8.49639543e-07\n",
      " 8.38492070e-07 8.20543904e-07 8.03609525e-07 7.76246940e-07\n",
      " 7.70895912e-07 7.65475954e-07 7.55837966e-07 7.47450763e-07\n",
      " 7.42169744e-07 7.28674885e-07 7.18672956e-07 7.07623012e-07\n",
      " 6.99673888e-07 6.86812765e-07 6.77089479e-07 6.71402656e-07\n",
      " 6.64804635e-07 6.63242912e-07 6.57948428e-07 6.54895485e-07\n",
      " 6.48053875e-07 6.43645052e-07 6.33350333e-07 6.22874958e-07\n",
      " 6.13786719e-07 6.04631753e-07 5.96714515e-07 5.88936065e-07\n",
      " 5.73232763e-07 5.62774659e-07 5.52646958e-07 5.43530999e-07\n",
      " 5.40586341e-07 5.31769096e-07 5.20938435e-07 5.11891756e-07\n",
      " 5.07049318e-07 4.96573100e-07 4.93961399e-07 4.89989543e-07\n",
      " 4.85529690e-07 4.82977680e-07 4.76566415e-07 4.72501743e-07\n",
      " 4.61201832e-07 4.57534565e-07 4.54988638e-07 4.48971436e-07\n",
      " 4.44613332e-07 4.37569431e-07 4.30681512e-07 4.23869122e-07\n",
      " 4.20813521e-07 4.17710766e-07 4.10116347e-07 3.98167915e-07\n",
      " 3.96471202e-07 3.94340447e-07 3.82265139e-07 3.78931458e-07\n",
      " 3.74216474e-07 3.71553882e-07 3.69708255e-07 3.68558677e-07\n",
      " 3.66897085e-07 3.57736031e-07 3.55046928e-07 3.52878830e-07\n",
      " 3.50659820e-07 3.46083423e-07 3.38711252e-07 3.33076111e-07\n",
      " 3.31190103e-07 3.29476017e-07 3.27322616e-07 3.20127337e-07\n",
      " 3.18471992e-07 3.15801799e-07 3.09530606e-07 3.05568670e-07\n",
      " 3.04103170e-07 2.94817254e-07 2.91792441e-07 2.86013497e-07\n",
      " 2.84748847e-07 2.83780789e-07 2.80287294e-07 2.78372510e-07\n",
      " 2.72956323e-07 2.70942410e-07 2.68418566e-07 2.66557551e-07\n",
      " 2.65515850e-07 2.62208247e-07 2.58884302e-07 2.51875614e-07\n",
      " 2.49659800e-07 2.45196546e-07 2.43653150e-07 2.39984089e-07\n",
      " 2.39560726e-07 2.35804106e-07 2.32831164e-07 2.31346264e-07\n",
      " 2.30535283e-07 2.28549181e-07 2.27234817e-07 2.24541277e-07\n",
      " 2.22041777e-07 2.19420621e-07 2.15536312e-07 2.13512647e-07\n",
      " 2.12427130e-07 2.11792407e-07 2.06262212e-07 2.03599643e-07\n",
      " 1.99927377e-07 1.97607962e-07 1.95879809e-07 1.94363450e-07\n",
      " 1.92706818e-07 1.91176406e-07 1.88384374e-07 1.85283051e-07\n",
      " 1.82034816e-07 1.78118465e-07 1.75748241e-07 1.73909037e-07\n",
      " 1.71523314e-07 1.70351132e-07 1.67095167e-07 1.65694591e-07\n",
      " 1.63268085e-07 1.59789645e-07 1.57708776e-07 1.55252444e-07\n",
      " 1.53382615e-07 1.51184954e-07 1.47514574e-07 1.46086529e-07\n",
      " 1.44129204e-07 1.38995633e-07 1.36998414e-07 1.35280122e-07\n",
      " 1.34158640e-07 1.32589594e-07 1.31277492e-07 1.29100127e-07\n",
      " 1.27552183e-07 1.24655173e-07 1.23889079e-07 1.22118296e-07\n",
      " 1.20659564e-07 1.19221566e-07 1.18230824e-07 1.17531113e-07\n",
      " 1.16268692e-07 1.15552494e-07 1.14894936e-07 1.13939846e-07\n",
      " 1.12292965e-07 1.11483304e-07 1.10389095e-07 1.08353230e-07\n",
      " 1.07557613e-07 1.05749993e-07 1.04821471e-07 1.02739812e-07\n",
      " 1.00601981e-07 9.84099830e-08 9.78799356e-08 9.59195204e-08\n",
      " 9.52358111e-08 9.35116623e-08 8.97805380e-08 8.73655754e-08\n",
      " 8.55920040e-08 8.51599184e-08 8.39699840e-08 8.35404507e-08\n",
      " 8.19046637e-08 8.07247517e-08 7.77993050e-08 7.64028254e-08\n",
      " 7.58792223e-08 7.53390768e-08 7.42248718e-08 7.30894878e-08\n",
      " 7.07512368e-08 6.98752822e-08 6.94746230e-08 6.85465727e-08\n",
      " 6.77632887e-08 6.64333047e-08 6.56509623e-08 6.53520093e-08\n",
      " 6.47774108e-08 6.39643627e-08 6.32715421e-08 6.31766637e-08\n",
      " 6.27233763e-08 6.16078524e-08 6.10073532e-08 6.06899970e-08\n",
      " 5.97819962e-08 5.93192284e-08 5.79400777e-08 5.64799119e-08\n",
      " 5.55813553e-08 5.50597230e-08 5.37172288e-08 5.32243365e-08\n",
      " 5.28173479e-08 5.18973277e-08 5.06946981e-08 4.98892751e-08\n",
      " 4.91552925e-08 4.88883950e-08 4.77229256e-08 4.74351295e-08\n",
      " 4.70343382e-08 4.68395790e-08 4.61438138e-08 4.56915677e-08\n",
      " 4.53372101e-08 4.41522091e-08 4.37031066e-08 4.28440816e-08\n",
      " 4.24297955e-08 4.19388689e-08 4.13118699e-08 4.10738632e-08\n",
      " 4.06493734e-08 4.04323439e-08 3.99794026e-08 3.92856923e-08\n",
      " 3.88564890e-08 3.84380186e-08 3.82112235e-08 3.78765164e-08\n",
      " 3.74886958e-08 3.71202550e-08 3.65592931e-08 3.57334078e-08\n",
      " 3.50691481e-08 3.45617173e-08 3.38329365e-08 3.36056918e-08\n",
      " 3.27362377e-08 3.26005091e-08 3.22970763e-08 3.19027473e-08\n",
      " 3.15556925e-08 3.12875760e-08 3.12170607e-08 3.06694008e-08\n",
      " 3.02895863e-08 3.00344592e-08 2.98216112e-08 2.96637318e-08\n",
      " 2.91236704e-08 2.86476112e-08 2.79270619e-08 2.77894745e-08\n",
      " 2.75871295e-08 2.70405555e-08 2.69100934e-08 2.63490771e-08\n",
      " 2.61573041e-08 2.55887785e-08 2.52133983e-08 2.47090732e-08\n",
      " 2.45241536e-08 2.41859774e-08 2.38245281e-08 2.36194010e-08\n",
      " 2.31629383e-08 2.30703145e-08 2.29746731e-08 2.25376833e-08\n",
      " 2.24335829e-08 2.23468375e-08 2.19434901e-08 2.16248233e-08\n",
      " 2.15205314e-08 2.14813355e-08 2.10940521e-08 2.09451482e-08\n",
      " 2.05963009e-08 2.04416994e-08 2.02436901e-08 2.01364787e-08]\n"
     ]
    }
   ],
   "source": [
    "print(GBM.train_score_)"
   ]
  },
  {
   "cell_type": "markdown",
   "metadata": {},
   "source": [
    "Nous pouvons aussi tracer l'évolution de l'erreur de test mse (ou bien le score $R^2$) le long des itérations. En effet, pour retrouver tous les estimateurs temporaires à chaque de l'étape de l'algo, il suffit de considérer la somme tronquée du prédicteur boosting final. \n",
    "> Utiliser les méthodes `staged_predict()` et `loss_()` de la classe `GradientBoostingRegressor` pour afficher l'erreur de test en fonction du nombre d'itérations. Comparer avec l'erreur sur le train. \n"
   ]
  },
  {
   "cell_type": "code",
   "execution_count": 14,
   "metadata": {},
   "outputs": [],
   "source": [
    "test_score = []\n",
    "for y_pred in  GBM.staged_predict(X_housing_test):\n",
    "    test_score.append(GBM.loss_(y_pred, y_housing_test))"
   ]
  },
  {
   "cell_type": "code",
   "execution_count": 15,
   "metadata": {},
   "outputs": [
    {
     "data": {
      "image/png": "[encoded data removed]",
      "text/plain": [
       "<Figure size 640x480 with 1 Axes>"
      ]
     },
     "metadata": {},
     "output_type": "display_data"
    }
   ],
   "source": [
    "plt.plot(np.arange(GBM.n_estimators) + 1, GBM.train_score_, 'b-',\n",
    "         label='Training mse')\n",
    "plt.plot(np.arange(GBM.n_estimators) + 1, test_score, 'r-',\n",
    "         label='Test mse')\n",
    "plt.legend(loc='upper right')\n",
    "plt.xlabel('Boosting Iterations')\n",
    "plt.ylabel('mse');"
   ]
  },
  {
   "cell_type": "markdown",
   "metadata": {},
   "source": [
    "> Est-il ici pertinent de faire du \"early stopping\" i.e. considérer une somme tronquée du prédicteur boosting pour contrôler le sur-apprentissage ?"
   ]
  },
  {
   "cell_type": "markdown",
   "metadata": {},
   "source": [
    "### TODO ###\n",
    "Ce n'est pas nécessaire, car nous pouvons voir que l'erreur n'augmente pas après quelques itérations."
   ]
  },
  {
   "cell_type": "markdown",
   "metadata": {},
   "source": [
    "> Superposer quelques trajectoires pour plusieurs valeurs du learning rate."
   ]
  },
  {
   "cell_type": "code",
   "execution_count": 26,
   "metadata": {},
   "outputs": [
    {
     "data": {
      "image/png": "[encoded data removed]",
      "text/plain": [
       "<Figure size 640x480 with 1 Axes>"
      ]
     },
     "metadata": {},
     "output_type": "display_data"
    }
   ],
   "source": [
    "GBM_LR = []\n",
    "lr = [0.001, 0.01,0.05]\n",
    "for i in lr :\n",
    "    GBM_LR.append(GradientBoostingRegressor(n_estimators=1000,\n",
    "                                         max_depth=8,\n",
    "                                         min_samples_split= 4,\n",
    "                                         learning_rate=i,\n",
    "                                         loss='squared_error'))\n",
    "\n",
    "for j in range(3):\n",
    "    GBM_LR[j].fit(X_housing_train, y_housing_train)\n",
    "    test_score = []\n",
    "    for y_pred in  GBM_LR[j].staged_predict(X_housing_test):\n",
    "        test_score.append(GBM_LR[j].loss_(y_pred, y_housing_test))\n",
    "    plt.plot(np.arange(GBM_LR[j].n_estimators) + 1, GBM_LR[j].train_score_ ,\n",
    "         label='Training mse lr ='+ str(lr[j]))\n",
    "    plt.plot(np.arange(GBM_LR[j].n_estimators) + 1, test_score,\n",
    "         label='Test mse lr ='+ str(lr[j]))\n",
    "\n",
    "plt.legend(loc='upper right')\n",
    "plt.xlabel('Boosting Iterations')\n",
    "plt.ylabel('mse');"
   ]
  },
  {
   "cell_type": "markdown",
   "metadata": {},
   "source": [
    "#### Choix des paramètres du GBM"
   ]
  },
  {
   "cell_type": "markdown",
   "metadata": {},
   "source": [
    "> Pour `n_estimators=300` et `learning_rate=0.1`, effectuer une recherche avec par `GridSearch()` pour choisir `max_depth` et  `min_samples_split`. Faire cette recherche en \"cross validant\" uniquement l'échantillon d'apprentissage de façon à garder des données pour évaluer les performances du modèle finalement sélectionné."
   ]
  },
  {
   "cell_type": "code",
   "execution_count": 17,
   "metadata": {},
   "outputs": [
    {
     "data": {
      "text/plain": [
       "8"
      ]
     },
     "execution_count": 17,
     "metadata": {},
     "output_type": "execute_result"
    }
   ],
   "source": [
    "max_depth_values= [2,4,6,8] \n",
    "min_samples_split_values= [2,3,4]\n",
    "\n",
    "import multiprocessing\n",
    "multiprocessing.cpu_count()"
   ]
  },
  {
   "cell_type": "code",
   "execution_count": 18,
   "metadata": {},
   "outputs": [],
   "source": [
    "from sklearn.model_selection import GridSearchCV\n",
    "\n",
    "GBM = GradientBoostingRegressor(n_estimators = 300,\n",
    "                                         learning_rate=0.1,\n",
    "                                         loss='squared_error')\n",
    "param_grid = {'max_depth': max_depth_values, 'min_samples_split': min_samples_split_values}\n",
    "grid_search = GridSearchCV(GBM, param_grid, cv=5, n_jobs=8 )\n",
    "grid_result = grid_search.fit(X_housing_train, y_housing_train)"
   ]
  },
  {
   "cell_type": "code",
   "execution_count": 19,
   "metadata": {},
   "outputs": [
    {
     "name": "stdout",
     "output_type": "stream",
     "text": [
      "0.749292 (0.038763) with: {'max_depth': 2, 'min_samples_split': 2}\n",
      "0.747087 (0.040160) with: {'max_depth': 2, 'min_samples_split': 3}\n",
      "0.747263 (0.040142) with: {'max_depth': 2, 'min_samples_split': 4}\n",
      "0.755604 (0.040317) with: {'max_depth': 4, 'min_samples_split': 2}\n",
      "0.753541 (0.039276) with: {'max_depth': 4, 'min_samples_split': 3}\n",
      "0.756948 (0.050213) with: {'max_depth': 4, 'min_samples_split': 4}\n",
      "0.749161 (0.050608) with: {'max_depth': 6, 'min_samples_split': 2}\n",
      "0.743449 (0.051243) with: {'max_depth': 6, 'min_samples_split': 3}\n",
      "0.746608 (0.050076) with: {'max_depth': 6, 'min_samples_split': 4}\n",
      "0.681203 (0.060521) with: {'max_depth': 8, 'min_samples_split': 2}\n",
      "0.689389 (0.054060) with: {'max_depth': 8, 'min_samples_split': 3}\n",
      "0.693432 (0.048181) with: {'max_depth': 8, 'min_samples_split': 4}\n"
     ]
    }
   ],
   "source": [
    "means = grid_result.cv_results_['mean_test_score']\n",
    "stds = grid_result.cv_results_['std_test_score']\n",
    "params = grid_result.cv_results_['params']\n",
    "for mean, stdev, param in zip(means, stds, params):\n",
    "    print(\"%f (%f) with: %r\" % (mean, stdev, param))"
   ]
  },
  {
   "cell_type": "markdown",
   "metadata": {},
   "source": [
    "> Une fois ces valeurs choisies, diminuer le learning rate et augmenter le nombre d'itérations pour essayer d'améliorer encore les performances."
   ]
  },
  {
   "cell_type": "code",
   "execution_count": 20,
   "metadata": {},
   "outputs": [],
   "source": [
    "### TODO ###\n",
    "n_estimators_values = [100,500,1000]\n",
    "learning_rate_values = [0.05, 0.02, 0.01, 0.005, 0.002]\n",
    "\n",
    "GBM = GradientBoostingRegressor(loss='squared_error', max_depth = 2, min_samples_split = 2)\n",
    "param_grid = {'n_estimators' : n_estimators_values,\n",
    "             'learning_rate' : learning_rate_values}\n",
    "grid_search = GridSearchCV(GBM, \n",
    "                           param_grid, \n",
    "                           cv=5, \n",
    "                           n_jobs=8 )\n",
    "grid_result = grid_search.fit(X_housing_train, y_housing_train)"
   ]
  },
  {
   "cell_type": "markdown",
   "metadata": {},
   "source": [
    "> Calculer le $R^2$ et l'erreur de test pour le modèle final"
   ]
  },
  {
   "cell_type": "code",
   "execution_count": null,
   "metadata": {},
   "outputs": [],
   "source": [
    "print(grid_result.best_params_)"
   ]
  },
  {
   "cell_type": "code",
   "execution_count": 21,
   "metadata": {},
   "outputs": [
    {
     "data": {
      "text/plain": [
       "0.7544145218516205"
      ]
     },
     "execution_count": 21,
     "metadata": {},
     "output_type": "execute_result"
    }
   ],
   "source": [
    "grid_result.best_estimator_.score(X_housing_test, y_housing_test)### TODO ###"
   ]
  },
  {
   "cell_type": "code",
   "execution_count": 22,
   "metadata": {},
   "outputs": [
    {
     "data": {
      "text/plain": [
       "0.32587610785843035"
      ]
     },
     "execution_count": 22,
     "metadata": {},
     "output_type": "execute_result"
    }
   ],
   "source": [
    "mean_squared_error(grid_result.best_estimator_.predict(X_housing_test), y_housing_test)### TODO ###)"
   ]
  },
  {
   "cell_type": "markdown",
   "metadata": {},
   "source": [
    "#### Indices d'importance"
   ]
  },
  {
   "cell_type": "markdown",
   "metadata": {},
   "source": [
    "> Il est aussi possible de calculer des indices d'importances pour les GMB avec la méthode `feature_importances_`. Comparer les importances du modèle GMB obtenu avec celles obtenues précédemment pour les forêts aléatoires."
   ]
  },
  {
   "cell_type": "code",
   "execution_count": 23,
   "metadata": {},
   "outputs": [],
   "source": [
    "GBMbest = grid_result.best_estimator_"
   ]
  },
  {
   "cell_type": "code",
   "execution_count": 24,
   "metadata": {},
   "outputs": [],
   "source": [
    "# On commence ajuster le modele choisi sur toutes les données:\n",
    "GBMbest.fit(X_housing,Y_housing);"
   ]
  },
  {
   "cell_type": "code",
   "execution_count": 46,
   "metadata": {},
   "outputs": [
    {
     "data": {
      "image/png": "[encoded data removed]",
      "text/plain": [
       "<Figure size 1000x800 with 2 Axes>"
      ]
     },
     "metadata": {},
     "output_type": "display_data"
    }
   ],
   "source": [
    "feature_importance = GBMbest.feature_importances_\n",
    "### TODO : affichage ###\n",
    "index = arange(len(feature_importance))\n",
    "\n",
    "fig, (ax1, ax2) = plt.subplots(2, 1)\n",
    "ax1.bar(index, feature_importance)\n",
    "ax1.set_xticks(index)\n",
    "ax1.set_xticklabels(california_housing.feature_names)\n",
    "ax1.set_title(\"Importance GBM\")\n",
    "\n",
    "from sklearn.ensemble import RandomForestRegressor\n",
    "\n",
    "RF = RandomForestRegressor(n_estimators=10, max_features=4)\n",
    "RF.fit(X_housing,Y_housing)   \n",
    "feature_importance = RF.feature_importances_\n",
    "index = arange(len(feature_importance))\n",
    "\n",
    "ax2.bar(index, feature_importance)\n",
    "ax2.set_xticks(index)\n",
    "ax2.set_xticklabels(california_housing.feature_names)\n",
    "ax2.set_title(\"Importance RF\")\n",
    "\n",
    "fig.set_size_inches(10, 8)"
   ]
  },
  {
   "cell_type": "markdown",
   "metadata": {},
   "source": [
    "##  XGboost"
   ]
  },
  {
   "cell_type": "markdown",
   "metadata": {},
   "source": [
    "Si nécessaire, installer la librairie [`xgboost`](https://xgboost.readthedocs.io/en/latest/install.html). "
   ]
  },
  {
   "cell_type": "code",
   "execution_count": 47,
   "metadata": {},
   "outputs": [],
   "source": [
    "from xgboost import XGBRegressor"
   ]
  },
  {
   "cell_type": "markdown",
   "metadata": {},
   "source": [
    "Nous allons utilser Xgboost avec pour classifieurs faibles des arbres (on pourait aussi utiliser aussi des modèles linéaires basés sur peu de variabes)."
   ]
  },
  {
   "cell_type": "markdown",
   "metadata": {},
   "source": [
    "Les paramètres de Xgboost, notamment pour les fonctions `XGBRegressor()` et `XGBClassifier()`, sont décrits dans [cette page](http://xgboost.readthedocs.io/en/latest/python/python_api.html#module-xgboost.sklearn). Elles sont similaires aux commdandes des fonctions de sckit-learn."
   ]
  },
  {
   "cell_type": "code",
   "execution_count": 48,
   "metadata": {},
   "outputs": [
    {
     "data": {
      "text/html": [
       "<style>#sk-container-id-1 {color: black;background-color: white;}#sk-container-id-1 pre{padding: 0;}#sk-container-id-1 div.sk-toggleable {background-color: white;}#sk-container-id-1 label.sk-toggleable__label {cursor: pointer;display: block;width: 100%;margin-bottom: 0;padding: 0.3em;box-sizing: border-box;text-align: center;}#sk-container-id-1 label.sk-toggleable__label-arrow:before {content: \"▸\";float: left;margin-right: 0.25em;color: #696969;}#sk-container-id-1 label.sk-toggleable__label-arrow:hover:before {color: black;}#sk-container-id-1 div.sk-estimator:hover label.sk-toggleable__label-arrow:before {color: black;}#sk-container-id-1 div.sk-toggleable__content {max-height: 0;max-width: 0;overflow: hidden;text-align: left;background-color: #f0f8ff;}#sk-container-id-1 div.sk-toggleable__content pre {margin: 0.2em;color: black;border-radius: 0.25em;background-color: #f0f8ff;}#sk-container-id-1 input.sk-toggleable__control:checked~div.sk-toggleable__content {max-height: 200px;max-width: 100%;overflow: auto;}#sk-container-id-1 input.sk-toggleable__control:checked~label.sk-toggleable__label-arrow:before {content: \"▾\";}#sk-container-id-1 div.sk-estimator input.sk-toggleable__control:checked~label.sk-toggleable__label {background-color: #d4ebff;}#sk-container-id-1 div.sk-label input.sk-toggleable__control:checked~label.sk-toggleable__label {background-color: #d4ebff;}#sk-container-id-1 input.sk-hidden--visually {border: 0;clip: rect(1px 1px 1px 1px);clip: rect(1px, 1px, 1px, 1px);height: 1px;margin: -1px;overflow: hidden;padding: 0;position: absolute;width: 1px;}#sk-container-id-1 div.sk-estimator {font-family: monospace;background-color: #f0f8ff;border: 1px dotted black;border-radius: 0.25em;box-sizing: border-box;margin-bottom: 0.5em;}#sk-container-id-1 div.sk-estimator:hover {background-color: #d4ebff;}#sk-container-id-1 div.sk-parallel-item::after {content: \"\";width: 100%;border-bottom: 1px solid gray;flex-grow: 1;}#sk-container-id-1 div.sk-label:hover label.sk-toggleable__label {background-color: #d4ebff;}#sk-container-id-1 div.sk-serial::before {content: \"\";position: absolute;border-left: 1px solid gray;box-sizing: border-box;top: 0;bottom: 0;left: 50%;z-index: 0;}#sk-container-id-1 div.sk-serial {display: flex;flex-direction: column;align-items: center;background-color: white;padding-right: 0.2em;padding-left: 0.2em;position: relative;}#sk-container-id-1 div.sk-item {position: relative;z-index: 1;}#sk-container-id-1 div.sk-parallel {display: flex;align-items: stretch;justify-content: center;background-color: white;position: relative;}#sk-container-id-1 div.sk-item::before, #sk-container-id-1 div.sk-parallel-item::before {content: \"\";position: absolute;border-left: 1px solid gray;box-sizing: border-box;top: 0;bottom: 0;left: 50%;z-index: -1;}#sk-container-id-1 div.sk-parallel-item {display: flex;flex-direction: column;z-index: 1;position: relative;background-color: white;}#sk-container-id-1 div.sk-parallel-item:first-child::after {align-self: flex-end;width: 50%;}#sk-container-id-1 div.sk-parallel-item:last-child::after {align-self: flex-start;width: 50%;}#sk-container-id-1 div.sk-parallel-item:only-child::after {width: 0;}#sk-container-id-1 div.sk-dashed-wrapped {border: 1px dashed gray;margin: 0 0.4em 0.5em 0.4em;box-sizing: border-box;padding-bottom: 0.4em;background-color: white;}#sk-container-id-1 div.sk-label label {font-family: monospace;font-weight: bold;display: inline-block;line-height: 1.2em;}#sk-container-id-1 div.sk-label-container {text-align: center;}#sk-container-id-1 div.sk-container {/* jupyter's `normalize.less` sets `[hidden] { display: none; }` but bootstrap.min.css set `[hidden] { display: none !important; }` so we also need the `!important` here to be able to override the default hidden behavior on the sphinx rendered scikit-learn.org. See: https://github.com/scikit-learn/scikit-learn/issues/21755 */display: inline-block !important;position: relative;}#sk-container-id-1 div.sk-text-repr-fallback {display: none;}</style><div id=\"sk-container-id-1\" class=\"sk-top-container\"><div class=\"sk-text-repr-fallback\"><pre>XGBRegressor(base_score=None, booster=None, callbacks=None,\n",
       "             colsample_bylevel=None, colsample_bynode=None,\n",
       "             colsample_bytree=None, early_stopping_rounds=None,\n",
       "             enable_categorical=False, eval_metric=None, feature_types=None,\n",
       "             gamma=None, gpu_id=None, grow_policy=None, importance_type=None,\n",
       "             interaction_constraints=None, learning_rate=None, max_bin=None,\n",
       "             max_cat_threshold=None, max_cat_to_onehot=None,\n",
       "             max_delta_step=None, max_depth=None, max_leaves=None,\n",
       "             min_child_weight=None, missing=nan, monotone_constraints=None,\n",
       "             n_estimators=100, n_jobs=None, num_parallel_tree=None,\n",
       "             predictor=None, random_state=None, ...)</pre><b>In a Jupyter environment, please rerun this cell to show the HTML representation or trust the notebook. <br />On GitHub, the HTML representation is unable to render, please try loading this page with nbviewer.org.</b></div><div class=\"sk-container\" hidden><div class=\"sk-item\"><div class=\"sk-estimator sk-toggleable\"><input class=\"sk-toggleable__control sk-hidden--visually\" id=\"sk-estimator-id-1\" type=\"checkbox\" checked><label for=\"sk-estimator-id-1\" class=\"sk-toggleable__label sk-toggleable__label-arrow\">XGBRegressor</label><div class=\"sk-toggleable__content\"><pre>XGBRegressor(base_score=None, booster=None, callbacks=None,\n",
       "             colsample_bylevel=None, colsample_bynode=None,\n",
       "             colsample_bytree=None, early_stopping_rounds=None,\n",
       "             enable_categorical=False, eval_metric=None, feature_types=None,\n",
       "             gamma=None, gpu_id=None, grow_policy=None, importance_type=None,\n",
       "             interaction_constraints=None, learning_rate=None, max_bin=None,\n",
       "             max_cat_threshold=None, max_cat_to_onehot=None,\n",
       "             max_delta_step=None, max_depth=None, max_leaves=None,\n",
       "             min_child_weight=None, missing=nan, monotone_constraints=None,\n",
       "             n_estimators=100, n_jobs=None, num_parallel_tree=None,\n",
       "             predictor=None, random_state=None, ...)</pre></div></div></div></div></div>"
      ],
      "text/plain": [
       "XGBRegressor(base_score=None, booster=None, callbacks=None,\n",
       "             colsample_bylevel=None, colsample_bynode=None,\n",
       "             colsample_bytree=None, early_stopping_rounds=None,\n",
       "             enable_categorical=False, eval_metric=None, feature_types=None,\n",
       "             gamma=None, gpu_id=None, grow_policy=None, importance_type=None,\n",
       "             interaction_constraints=None, learning_rate=None, max_bin=None,\n",
       "             max_cat_threshold=None, max_cat_to_onehot=None,\n",
       "             max_delta_step=None, max_depth=None, max_leaves=None,\n",
       "             min_child_weight=None, missing=nan, monotone_constraints=None,\n",
       "             n_estimators=100, n_jobs=None, num_parallel_tree=None,\n",
       "             predictor=None, random_state=None, ...)"
      ]
     },
     "execution_count": 48,
     "metadata": {},
     "output_type": "execute_result"
    }
   ],
   "source": [
    "XGBR = XGBRegressor()\n",
    "XGBR.fit(X_housing_train, y_housing_train)\n",
    "y_pred = XGBR.predict(X_housing_test)\n",
    "XGBR"
   ]
  },
  {
   "cell_type": "markdown",
   "metadata": {},
   "source": [
    "> Donner le score $R^2$ et l'erreur mse. Comparer avec GBM."
   ]
  },
  {
   "cell_type": "code",
   "execution_count": 49,
   "metadata": {},
   "outputs": [
    {
     "name": "stdout",
     "output_type": "stream",
     "text": [
      "score XGBR :  0.7349674782691415\n",
      "mse :  0.3516810818324313\n"
     ]
    }
   ],
   "source": [
    "mse = mean_squared_error(y_housing_test, y_pred)\n",
    "score = XGBR.score(X_housing_test, y_housing_test)\n",
    "\n",
    "print(\"score XGBR : \", score)\n",
    "print(\"mse : \", mse)"
   ]
  },
  {
   "cell_type": "markdown",
   "metadata": {},
   "source": [
    "Les remarques précedentes sur les reglages des paramètres de GBM sont encore vraies pour Xgboost. Il faut en plus ajuster les paramètres `alpha`  et `lambda` des termes de régularisation."
   ]
  },
  {
   "cell_type": "markdown",
   "metadata": {},
   "source": [
    "> Choisir les paramètres de Xgboost."
   ]
  },
  {
   "cell_type": "markdown",
   "metadata": {},
   "source": [
    "D'abord avec un learning rate pas trop faible."
   ]
  },
  {
   "cell_type": "code",
   "execution_count": 50,
   "metadata": {},
   "outputs": [
    {
     "name": "stdout",
     "output_type": "stream",
     "text": [
      "{'max_depth': 4, 'min_child_weight': 2, 'reg_alpha': 2, 'reg_lambda': 1}\n"
     ]
    }
   ],
   "source": [
    "max_depth= [2,4,6,8] \n",
    "min_child_weight = [2,4]\n",
    "reg_alpha=  [0,0.1,1,2]\n",
    "reg_lambda = [0,0.1,1,2]\n",
    "### TODO ###\n",
    "from sklearn.model_selection import GridSearchCV\n",
    "\n",
    "XGBR = XGBRegressor()\n",
    "param_grid = {'max_depth' : max_depth,\n",
    "             'min_child_weight' : min_child_weight,\n",
    "             'reg_alpha' : reg_alpha,\n",
    "             'reg_lambda': reg_lambda}\n",
    "\n",
    "grid_search = GridSearchCV(XGBR, param_grid, cv=5, n_jobs=8 )\n",
    "grid_result = grid_search.fit(X_housing_train, y_housing_train)\n",
    "print(grid_result.best_params_)"
   ]
  },
  {
   "cell_type": "markdown",
   "metadata": {},
   "source": [
    "Et maintenant avec des learning rates plus petits:"
   ]
  },
  {
   "cell_type": "code",
   "execution_count": 51,
   "metadata": {},
   "outputs": [],
   "source": [
    "learning_rate = [0.001, 0.01,0.05]\n",
    "n_estimators = [100,500,1000]"
   ]
  },
  {
   "cell_type": "code",
   "execution_count": 55,
   "metadata": {},
   "outputs": [
    {
     "name": "stdout",
     "output_type": "stream",
     "text": [
      "{'learning_rate': 0.05, 'n_estimators': 500}\n"
     ]
    }
   ],
   "source": [
    "### TODO ###\n",
    "XGBR = XGBRegressor(max_depth = 4, \n",
    "                    min_child_weight = 2, \n",
    "                    reg_alpha = 2, \n",
    "                    reg_lambda = 1)\n",
    "param_grid = {'learning_rate' : learning_rate,\n",
    "             'n_estimators' : n_estimators}\n",
    "\n",
    "grid_search = GridSearchCV(XGBR, \n",
    "                           param_grid, \n",
    "                           cv=5, \n",
    "                           n_jobs=8 )\n",
    "grid_result = grid_search.fit(X_housing_train, y_housing_train)\n",
    "print(grid_result.best_params_)"
   ]
  },
  {
   "cell_type": "code",
   "execution_count": 60,
   "metadata": {},
   "outputs": [
    {
     "data": {
      "text/plain": [
       "0.7613095280336126"
      ]
     },
     "execution_count": 60,
     "metadata": {},
     "output_type": "execute_result"
    }
   ],
   "source": [
    "grid_result.best_estimator_.score(X_housing_test, y_housing_test)"
   ]
  },
  {
   "cell_type": "code",
   "execution_count": 61,
   "metadata": {},
   "outputs": [
    {
     "data": {
      "text/plain": [
       "(9,)"
      ]
     },
     "execution_count": 61,
     "metadata": {},
     "output_type": "execute_result"
    }
   ],
   "source": [
    "grid_result.cv_results_['mean_test_score'].shape"
   ]
  },
  {
   "cell_type": "code",
   "execution_count": 67,
   "metadata": {
    "scrolled": true
   },
   "outputs": [
    {
     "data": {
      "image/png": "[encoded data removed]",
      "text/plain": [
       "<Figure size 640x480 with 1 Axes>"
      ]
     },
     "metadata": {},
     "output_type": "display_data"
    }
   ],
   "source": [
    "### TODO : Graphe de la mse ###\n",
    "plt.plot(np.arange(9) + 1, grid_result.cv_results_['mean_test_score'])\n",
    "plt.xlabel('choix (learning rate,n_estimators)')\n",
    "plt.ylabel('mse');"
   ]
  },
  {
   "cell_type": "markdown",
   "metadata": {},
   "source": [
    "## Implémentation du Boosting Regressor \n",
    "\n",
    "> Implémenter votre propore fonction Tree Boosting Regressor, on considérant la perte $\\ell_2$. On pourra pour cela, à chaque itération, \n",
    "ajuster un arbre de régression (de faible prodondeur) sur les résidus courants, à l'aide de la fonction `tree.DecisionTreeRegressor()` . L'étape 5 de l'Algorithme 6 \"Gradient Tree Boosting Regressor Algorithm\" donné en cours est-elle nécessaire dans ce contexte ? \n"
   ]
  },
  {
   "cell_type": "code",
   "execution_count": 70,
   "metadata": {},
   "outputs": [
    {
     "name": "stdout",
     "output_type": "stream",
     "text": [
      "mse sur testing set 6.65\n"
     ]
    }
   ],
   "source": [
    "### TODO ###\n",
    "from sklearn.tree import DecisionTreeRegressor\n",
    "\n",
    "# Fonction Tree Boosting Regressor\n",
    "def TreeBoostingRegressor(X_train, y_train, n_trees = 100):\n",
    "    trees=[]\n",
    "    pred = y_train.copy()\n",
    "    for i in range(n_trees):\n",
    "        trees.append(DecisionTreeRegressor(criterion='squared_error'))\n",
    "        trees[i].fit(X_train, pred)\n",
    "        pred = pred - trees[i].predict(X_train)\n",
    "    return trees\n",
    "\n",
    "# Testing sur données \n",
    "n_trees = 100\n",
    "res = np.zeros(y_housing_test.shape)\n",
    "for i in range(n_trees):\n",
    "    res = res + TreeBoostingRegressor(X_housing_train, y_housing_train, n_trees = n_trees)[i].predict(X_housing_test)\n",
    "print('MSE sur testing set', (sum((res-y_housing_test)**2)/n_trees).round(2))"
   ]
  },
  {
   "cell_type": "markdown",
   "metadata": {},
   "source": [
    "Ré: Dans ce cas, l'étape 5 de l'algorithme 6 \"Algorithme du régulateur de levée de l'arbre de gradient\" donné en classe n'est pas nécessaire."
   ]
  }
 ],
 "metadata": {
  "kernelspec": {
   "display_name": "Python 3 (ipykernel)",
   "language": "python",
   "name": "python3"
  },
  "language_info": {
   "codemirror_mode": {
    "name": "ipython",
    "version": 3
   },
   "file_extension": ".py",
   "mimetype": "text/x-python",
   "name": "python",
   "nbconvert_exporter": "python",
   "pygments_lexer": "ipython3",
   "version": "3.9.13"
  }
 },
 "nbformat": 4,
 "nbformat_minor": 4
}
